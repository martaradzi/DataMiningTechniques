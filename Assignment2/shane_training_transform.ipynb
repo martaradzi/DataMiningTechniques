{
 "cells": [
  {
   "cell_type": "code",
   "execution_count": 1,
   "metadata": {},
   "outputs": [],
   "source": [
    "import pandas as pd  \n",
    "import numpy as np \n",
    "import matplotlib.pyplot as plt\n",
    "from sklearn.ensemble import RandomForestRegressor\n",
    "from sklearn.preprocessing import MinMaxScaler\n",
    "from sklearn.preprocessing import RobustScaler\n",
    "from sklearn.model_selection import train_test_split\n",
    "from sklearn.metrics import classification_report, confusion_matrix  \n",
    "from sklearn.metrics import roc_auc_score\n",
    "from sklearn.metrics import classification_report, confusion_matrix  \n",
    "from sklearn import metrics\n",
    "from sklearn.tree import export_graphviz\n",
    "from sklearn.model_selection import cross_val_score\n",
    "from pprint import pprint\n",
    "\n",
    "pd.options.mode.chained_assignment = None  # default='warn'"
   ]
  },
  {
   "cell_type": "markdown",
   "metadata": {},
   "source": [
    "### Read in training data"
   ]
  },
  {
   "cell_type": "code",
   "execution_count": 57,
   "metadata": {},
   "outputs": [],
   "source": [
    "x = pd.read_parquet('training_set_VU_DM.parquet.gzip')"
   ]
  },
  {
   "cell_type": "markdown",
   "metadata": {},
   "source": [
    "### Assign new weight to booking_bool"
   ]
  },
  {
   "cell_type": "code",
   "execution_count": 3,
   "metadata": {
    "scrolled": true
   },
   "outputs": [],
   "source": [
    "x['booking_bool'] = np.where(x['booking_bool'] == 1, 4, 0)"
   ]
  },
  {
   "cell_type": "markdown",
   "metadata": {},
   "source": [
    "### Create our target class by combining click_bool and booking_bool"
   ]
  },
  {
   "cell_type": "code",
   "execution_count": 4,
   "metadata": {},
   "outputs": [],
   "source": [
    "x['target'] = x['booking_bool'] + x['click_bool']"
   ]
  },
  {
   "cell_type": "markdown",
   "metadata": {},
   "source": [
    "### Some feature engineering"
   ]
  },
  {
   "cell_type": "code",
   "execution_count": 14,
   "metadata": {},
   "outputs": [],
   "source": [
    "# if countries are the same for hotel and user\n",
    "x['same_location'] = np.where(x['prop_country_id'] == x['visitor_location_country_id'], 1, 0)\n",
    "\n",
    "# fill nans for prop_location_score2 with prop_location_score1 (since only ~20% missing. note: scaling is different)\n",
    "multiplier = x['prop_location_score2'].mean() / x['prop_location_score1'].mean()\n",
    "x['prop_location_score2'].fillna(x['prop_location_score1']*multiplier, inplace=True)\n",
    "\n",
    "# fill nans for review score with the mean of all review scores\n",
    "x['prop_review_score'].fillna(x['prop_review_score'].mean(), inplace=True)\n",
    "\n",
    "x['visitor_hist_starrating'].fillna(0, inplace=True)\n",
    "x['visitor_hist_adr_usd'].fillna(0, inplace=True)\n",
    "\n",
    "# if user has rated any hotels in the past and has a booking history\n",
    "x['has_rate_hist'] = np.where((x['visitor_hist_starrating'] > 0) & (x['visitor_hist_adr_usd'] > 0), 1, 0)"
   ]
  },
  {
   "cell_type": "markdown",
   "metadata": {},
   "source": [
    "### Fill missing orig_destination_distance data with mean distance for that property id"
   ]
  },
  {
   "cell_type": "code",
   "execution_count": 15,
   "metadata": {
    "scrolled": true
   },
   "outputs": [],
   "source": [
    "x[\"distance\"] = x.groupby('prop_id')['orig_destination_distance'].transform(lambda x: x.fillna(x.mean()))"
   ]
  },
  {
   "cell_type": "markdown",
   "metadata": {},
   "source": [
    "### Normalize price based on prop_country_id"
   ]
  },
  {
   "cell_type": "code",
   "execution_count": null,
   "metadata": {
    "scrolled": true
   },
   "outputs": [],
   "source": [
    "x['new_price'] = x.groupby('prop_country_id')['price_usd'].transform(lambda x: (x - x.mean()) / x.std())"
   ]
  },
  {
   "cell_type": "markdown",
   "metadata": {},
   "source": [
    "### Use robust scaler on the distances"
   ]
  },
  {
   "cell_type": "code",
   "execution_count": 50,
   "metadata": {
    "scrolled": true
   },
   "outputs": [],
   "source": [
    "x['distance'] = RobustScaler().fit_transform(np.array(x['distance'], dtype = float).reshape(-1, 1))"
   ]
  },
  {
   "cell_type": "markdown",
   "metadata": {},
   "source": [
    "### Delete some columns we do not need at this point"
   ]
  },
  {
   "cell_type": "code",
   "execution_count": 33,
   "metadata": {
    "scrolled": true
   },
   "outputs": [],
   "source": [
    "del x['date_time']\n",
    "del x['site_id']\n",
    "del x['booking_bool']\n",
    "del x['click_bool']\n",
    "del x['gross_bookings_usd']\n",
    "del x['visitor_location_country_id']\n",
    "del x['prop_country_id']\n",
    "del x['visitor_hist_starrating']\n",
    "del x['visitor_hist_adr_usd']\n",
    "del x['orig_destination_distance']\n",
    "del x['srch_query_affinity_score']\n",
    "del x['position']\n",
    "del x['prop_id']\n",
    "del x['srch_id']\n",
    "del x['srch_destination_id']\n",
    "del x['price_usd']"
   ]
  },
  {
   "cell_type": "markdown",
   "metadata": {},
   "source": [
    "### New features for competitor rates"
   ]
  },
  {
   "cell_type": "code",
   "execution_count": 34,
   "metadata": {
    "scrolled": true
   },
   "outputs": [],
   "source": [
    "x_copy = x[['comp1_rate','comp2_rate','comp3_rate','comp4_rate','comp5_rate','comp6_rate','comp7_rate','comp8_rate']].copy()\n",
    "x['comp_rate_lower'] = (x_copy == -1).T.sum()\n",
    "x['comp_rate_equal'] = (x_copy == 0).T.sum()\n",
    "x['comp_rate_higher'] = (x_copy == 1).T.sum()"
   ]
  },
  {
   "cell_type": "markdown",
   "metadata": {},
   "source": [
    "### New features for competitor availability"
   ]
  },
  {
   "cell_type": "code",
   "execution_count": 35,
   "metadata": {},
   "outputs": [],
   "source": [
    "x_copy = x[['comp1_inv','comp2_inv','comp3_inv','comp4_inv','comp5_inv','comp6_inv','comp7_inv','comp8_inv']].copy()\n",
    "x['comp_inv_same'] = (x_copy == 0).T.sum()\n",
    "x['comp_inv_better'] = (x_copy == 1).T.sum()"
   ]
  },
  {
   "cell_type": "markdown",
   "metadata": {},
   "source": [
    "### New features for competitor rate percent difference"
   ]
  },
  {
   "cell_type": "code",
   "execution_count": 36,
   "metadata": {},
   "outputs": [],
   "source": [
    "x_copy = x[['comp1_rate_percent_diff','comp2_rate_percent_diff','comp3_rate_percent_diff','comp4_rate_percent_diff','comp5_rate_percent_diff','comp6_rate_percent_diff','comp7_rate_percent_diff','comp8_rate_percent_diff']].copy()\n",
    "x['comp_rate_percent_diff_low'] = x_copy.T.min()\n",
    "x['comp_rate_percent_diff_high'] = x_copy.T.max()"
   ]
  },
  {
   "cell_type": "markdown",
   "metadata": {},
   "source": [
    "### Delete the old competitor data"
   ]
  },
  {
   "cell_type": "code",
   "execution_count": 37,
   "metadata": {},
   "outputs": [],
   "source": [
    "x.drop(['comp1_rate','comp2_rate','comp3_rate','comp4_rate','comp5_rate','comp6_rate','comp7_rate','comp8_rate'], axis=1,inplace=True)\n",
    "x.drop(['comp1_inv','comp2_inv','comp3_inv','comp4_inv','comp5_inv','comp6_inv','comp7_inv','comp8_inv'], axis=1,inplace=True)\n",
    "x.drop(['comp1_rate_percent_diff','comp2_rate_percent_diff','comp3_rate_percent_diff','comp4_rate_percent_diff','comp5_rate_percent_diff','comp6_rate_percent_diff','comp7_rate_percent_diff','comp8_rate_percent_diff'], axis=1,inplace=True)"
   ]
  },
  {
   "cell_type": "markdown",
   "metadata": {},
   "source": [
    "### Fill remaining NaN values"
   ]
  },
  {
   "cell_type": "code",
   "execution_count": 52,
   "metadata": {},
   "outputs": [],
   "source": [
    "x['distance'].fillna(x['distance'].mean(), inplace=True)"
   ]
  },
  {
   "cell_type": "markdown",
   "metadata": {},
   "source": [
    "### Make sure we have no missing values"
   ]
  },
  {
   "cell_type": "code",
   "execution_count": 53,
   "metadata": {
    "scrolled": true
   },
   "outputs": [
    {
     "data": {
      "text/plain": [
       "prop_starrating              0.0\n",
       "prop_review_score            0.0\n",
       "prop_brand_bool              0.0\n",
       "prop_location_score1         0.0\n",
       "prop_location_score2         0.0\n",
       "prop_log_historical_price    0.0\n",
       "promotion_flag               0.0\n",
       "srch_length_of_stay          0.0\n",
       "srch_booking_window          0.0\n",
       "srch_adults_count            0.0\n",
       "srch_children_count          0.0\n",
       "srch_room_count              0.0\n",
       "srch_saturday_night_bool     0.0\n",
       "random_bool                  0.0\n",
       "target                       0.0\n",
       "same_location                0.0\n",
       "has_rate_hist                0.0\n",
       "distance                     0.0\n",
       "new_price                    0.0\n",
       "comp_rate_lower              0.0\n",
       "comp_rate_equal              0.0\n",
       "comp_rate_higher             0.0\n",
       "comp_inv_same                0.0\n",
       "comp_inv_better              0.0\n",
       "dtype: float64"
      ]
     },
     "execution_count": 53,
     "metadata": {},
     "output_type": "execute_result"
    }
   ],
   "source": [
    "missing_values = x.isna().mean() * 100\n",
    "missing_values"
   ]
  },
  {
   "cell_type": "markdown",
   "metadata": {},
   "source": [
    "### Delete the competitor low/high rate percent differences for now, since ~68% of entries have no values at all"
   ]
  },
  {
   "cell_type": "code",
   "execution_count": 40,
   "metadata": {},
   "outputs": [],
   "source": [
    "del x['comp_rate_percent_diff_low']\n",
    "del x['comp_rate_percent_diff_high']"
   ]
  },
  {
   "cell_type": "markdown",
   "metadata": {},
   "source": [
    "### Save the modified parquet up to this point"
   ]
  },
  {
   "cell_type": "code",
   "execution_count": 54,
   "metadata": {},
   "outputs": [],
   "source": [
    "x.to_parquet('training_set_v2.parquet.gzip', compression = 'gzip')"
   ]
  }
 ],
 "metadata": {
  "kernelspec": {
   "display_name": "Python 3",
   "language": "python",
   "name": "python3"
  },
  "language_info": {
   "codemirror_mode": {
    "name": "ipython",
    "version": 3
   },
   "file_extension": ".py",
   "mimetype": "text/x-python",
   "name": "python",
   "nbconvert_exporter": "python",
   "pygments_lexer": "ipython3",
   "version": "3.5.2"
  }
 },
 "nbformat": 4,
 "nbformat_minor": 2
}
