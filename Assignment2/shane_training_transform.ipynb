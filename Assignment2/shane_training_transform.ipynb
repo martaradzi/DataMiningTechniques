{
 "cells": [
  {
   "cell_type": "code",
   "execution_count": 1,
   "metadata": {},
   "outputs": [],
   "source": [
    "import pandas as pd  \n",
    "import numpy as np \n",
    "import matplotlib.pyplot as plt\n",
    "from sklearn.ensemble import RandomForestRegressor\n",
    "from sklearn.preprocessing import MinMaxScaler\n",
    "from sklearn.preprocessing import RobustScaler\n",
    "from sklearn.model_selection import train_test_split\n",
    "from sklearn.metrics import classification_report, confusion_matrix  \n",
    "from sklearn.metrics import roc_auc_score\n",
    "from sklearn.metrics import classification_report, confusion_matrix  \n",
    "from sklearn import metrics\n",
    "from sklearn.tree import export_graphviz\n",
    "from sklearn.model_selection import cross_val_score\n",
    "from pprint import pprint\n",
    "\n",
    "pd.options.mode.chained_assignment = None  # default='warn'"
   ]
  },
  {
   "cell_type": "markdown",
   "metadata": {},
   "source": [
    "### Read in training data"
   ]
  },
  {
   "cell_type": "code",
   "execution_count": 2,
   "metadata": {},
   "outputs": [],
   "source": [
    "x = pd.read_parquet('training_set_VU_DM.parquet.gzip')"
   ]
  },
  {
   "cell_type": "markdown",
   "metadata": {},
   "source": [
    "### Assign new weight to booking_bool"
   ]
  },
  {
   "cell_type": "code",
   "execution_count": 3,
   "metadata": {
    "scrolled": true
   },
   "outputs": [],
   "source": [
    "x['booking_bool'] = np.where(x['booking_bool'] == 1, 2, 0)"
   ]
  },
  {
   "cell_type": "markdown",
   "metadata": {},
   "source": [
    "### Create our target class by combining click_bool and booking_bool"
   ]
  },
  {
   "cell_type": "code",
   "execution_count": 4,
   "metadata": {},
   "outputs": [],
   "source": [
    "x['target'] = x['booking_bool'] + x['click_bool']"
   ]
  },
  {
   "cell_type": "markdown",
   "metadata": {},
   "source": [
    "### Some feature engineering"
   ]
  },
  {
   "cell_type": "code",
   "execution_count": 5,
   "metadata": {},
   "outputs": [],
   "source": [
    "# if countries are the same for hotel and user\n",
    "x['same_location'] = np.where(x['prop_country_id'] == x['visitor_location_country_id'], 1, 0)\n",
    "\n",
    "# fill nans for prop_location_score2 with prop_location_score1 (since only ~20% missing. note: scaling is different)\n",
    "multiplier = x['prop_location_score2'].mean() / x['prop_location_score1'].mean()\n",
    "x['prop_location_score2'].fillna(x['prop_location_score1'] * multiplier, inplace=True)\n",
    "\n",
    "# fill nans for review score with the mean of all review scores\n",
    "x['prop_review_score'].fillna(x['prop_review_score'].mean(), inplace=True)\n",
    "\n",
    "##### THESE WILL BE DELETED LATER, STILL TOO MUCH MISSING DATA AFTERWARDS #####\n",
    "x['visitor_hist_starrating'].fillna(0, inplace=True)\n",
    "x['visitor_hist_adr_usd'].fillna(0, inplace=True)\n",
    "x['has_rate_hist'] = np.where((x['visitor_hist_starrating'] > 0) & (x['visitor_hist_adr_usd'] > 0), 1, np.nan)"
   ]
  },
  {
   "cell_type": "markdown",
   "metadata": {},
   "source": [
    "### Fill missing orig_destination_distance data with mean distance for that property id"
   ]
  },
  {
   "cell_type": "code",
   "execution_count": 6,
   "metadata": {
    "scrolled": true
   },
   "outputs": [],
   "source": [
    "x[\"distance\"] = x.groupby('prop_id')['orig_destination_distance'].transform(lambda x: x.fillna(x.mean()))"
   ]
  },
  {
   "cell_type": "markdown",
   "metadata": {},
   "source": [
    "### Normalize price based on prop_country_id"
   ]
  },
  {
   "cell_type": "code",
   "execution_count": 7,
   "metadata": {
    "scrolled": true
   },
   "outputs": [],
   "source": [
    "# x['new_price'] = x.groupby('prop_country_id')['price_usd'].transform(lambda x: (x - x.mean()) / x.std())"
   ]
  },
  {
   "cell_type": "markdown",
   "metadata": {},
   "source": [
    "### Use robust scaler on the distances"
   ]
  },
  {
   "cell_type": "code",
   "execution_count": 8,
   "metadata": {
    "scrolled": true
   },
   "outputs": [],
   "source": [
    "# x['distance'] = RobustScaler().fit_transform(np.array(x['distance'], dtype = float).reshape(-1, 1))"
   ]
  },
  {
   "cell_type": "markdown",
   "metadata": {},
   "source": [
    "### New features for competitor rates"
   ]
  },
  {
   "cell_type": "code",
   "execution_count": 9,
   "metadata": {
    "scrolled": true
   },
   "outputs": [],
   "source": [
    "x_copy = x[['comp1_rate','comp2_rate','comp3_rate','comp4_rate','comp5_rate','comp6_rate','comp7_rate','comp8_rate']].copy()\n",
    "x['comp_rate_lower'] = (x_copy == -1).T.sum()\n",
    "x['comp_rate_equal'] = (x_copy == 0).T.sum()\n",
    "x['comp_rate_higher'] = (x_copy == 1).T.sum()"
   ]
  },
  {
   "cell_type": "markdown",
   "metadata": {},
   "source": [
    "### New features for competitor availability"
   ]
  },
  {
   "cell_type": "code",
   "execution_count": 10,
   "metadata": {},
   "outputs": [],
   "source": [
    "x_copy = x[['comp1_inv','comp2_inv','comp3_inv','comp4_inv','comp5_inv','comp6_inv','comp7_inv','comp8_inv']].copy()\n",
    "x['comp_inv_same'] = (x_copy == 0).T.sum()\n",
    "x['comp_inv_better'] = (x_copy == 1).T.sum()"
   ]
  },
  {
   "cell_type": "markdown",
   "metadata": {},
   "source": [
    "### New features for competitor rate percent difference"
   ]
  },
  {
   "cell_type": "code",
   "execution_count": 11,
   "metadata": {},
   "outputs": [],
   "source": [
    "x_copy = x[['comp1_rate_percent_diff','comp2_rate_percent_diff','comp3_rate_percent_diff','comp4_rate_percent_diff','comp5_rate_percent_diff','comp6_rate_percent_diff','comp7_rate_percent_diff','comp8_rate_percent_diff']].copy()\n",
    "x['comp_rate_percent_diff_low'] = x_copy.T.min()\n",
    "x['comp_rate_percent_diff_high'] = x_copy.T.max()"
   ]
  },
  {
   "cell_type": "markdown",
   "metadata": {},
   "source": [
    "### Delete the old competitor data"
   ]
  },
  {
   "cell_type": "code",
   "execution_count": 12,
   "metadata": {},
   "outputs": [],
   "source": [
    "x.drop(['comp1_rate','comp2_rate','comp3_rate','comp4_rate','comp5_rate','comp6_rate','comp7_rate','comp8_rate'], axis=1,inplace=True)\n",
    "x.drop(['comp1_inv','comp2_inv','comp3_inv','comp4_inv','comp5_inv','comp6_inv','comp7_inv','comp8_inv'], axis=1,inplace=True)\n",
    "x.drop(['comp1_rate_percent_diff','comp2_rate_percent_diff','comp3_rate_percent_diff','comp4_rate_percent_diff','comp5_rate_percent_diff','comp6_rate_percent_diff','comp7_rate_percent_diff','comp8_rate_percent_diff'], axis=1,inplace=True)"
   ]
  },
  {
   "cell_type": "markdown",
   "metadata": {},
   "source": [
    "### Fill remaining NaN values"
   ]
  },
  {
   "cell_type": "code",
   "execution_count": 13,
   "metadata": {},
   "outputs": [],
   "source": [
    "x['distance'].fillna(x['distance'].mean(), inplace=True)"
   ]
  },
  {
   "cell_type": "markdown",
   "metadata": {},
   "source": [
    "### Delete columns we do not need"
   ]
  },
  {
   "cell_type": "code",
   "execution_count": 14,
   "metadata": {},
   "outputs": [],
   "source": [
    "del x['date_time']\n",
    "del x['site_id']\n",
    "del x['booking_bool']\n",
    "del x['click_bool']\n",
    "del x['gross_bookings_usd']\n",
    "del x['visitor_location_country_id']\n",
    "del x['prop_country_id']\n",
    "del x['visitor_hist_starrating']\n",
    "del x['visitor_hist_adr_usd']\n",
    "del x['orig_destination_distance']\n",
    "del x['srch_query_affinity_score']\n",
    "del x['position']\n",
    "del x['prop_id']\n",
    "del x['srch_id']\n",
    "del x['srch_destination_id']\n",
    "# del x['price_usd']"
   ]
  },
  {
   "cell_type": "markdown",
   "metadata": {},
   "source": [
    "### Delete the competitor low/high rate percent differences for now, since ~68% of entries have no values at all. Also delete users that have booked & rated in the past, since ~95% of this is still empty"
   ]
  },
  {
   "cell_type": "code",
   "execution_count": 15,
   "metadata": {},
   "outputs": [],
   "source": [
    "del x['comp_rate_percent_diff_low']\n",
    "del x['comp_rate_percent_diff_high']\n",
    "del x['has_rate_hist']"
   ]
  },
  {
   "cell_type": "markdown",
   "metadata": {},
   "source": [
    "### Try deleting these for the 3rd run to see how it goes"
   ]
  },
  {
   "cell_type": "code",
   "execution_count": 16,
   "metadata": {},
   "outputs": [],
   "source": [
    "del x['srch_booking_window']\n",
    "del x['srch_adults_count']\n",
    "del x['srch_children_count']\n",
    "del x['srch_room_count']\n",
    "del x['srch_saturday_night_bool']\n",
    "del x['srch_length_of_stay']"
   ]
  },
  {
   "cell_type": "markdown",
   "metadata": {},
   "source": [
    "### Combine some competitor features, since some of these columns were quite thin"
   ]
  },
  {
   "cell_type": "code",
   "execution_count": 17,
   "metadata": {},
   "outputs": [],
   "source": [
    "del x['comp_rate_lower']\n",
    "\n",
    "x['rate_equal_or_better'] = x['comp_rate_equal'] + x['comp_rate_higher']\n",
    "del x['comp_rate_equal']\n",
    "del x['comp_rate_higher']\n",
    "\n",
    "x['inv_equal_or_better'] = x['comp_inv_same'] + x['comp_inv_better']\n",
    "del x['comp_inv_same']\n",
    "del x['comp_inv_better']"
   ]
  },
  {
   "cell_type": "markdown",
   "metadata": {},
   "source": [
    "### Make sure we have no missing values"
   ]
  },
  {
   "cell_type": "code",
   "execution_count": 18,
   "metadata": {},
   "outputs": [
    {
     "data": {
      "text/plain": [
       "prop_starrating              0.0\n",
       "prop_review_score            0.0\n",
       "prop_brand_bool              0.0\n",
       "prop_location_score1         0.0\n",
       "prop_location_score2         0.0\n",
       "prop_log_historical_price    0.0\n",
       "price_usd                    0.0\n",
       "promotion_flag               0.0\n",
       "random_bool                  0.0\n",
       "target                       0.0\n",
       "same_location                0.0\n",
       "distance                     0.0\n",
       "rate_equal_or_better         0.0\n",
       "inv_equal_or_better          0.0\n",
       "dtype: float64"
      ]
     },
     "execution_count": 18,
     "metadata": {},
     "output_type": "execute_result"
    }
   ],
   "source": [
    "missing_values = x.isna().mean() * 100\n",
    "missing_values"
   ]
  },
  {
   "cell_type": "code",
   "execution_count": 19,
   "metadata": {},
   "outputs": [
    {
     "data": {
      "text/plain": [
       "<bound method NDFrame.head of          prop_starrating  prop_review_score  prop_brand_bool  \\\n",
       "0                      3                3.5                1   \n",
       "1                      4                4.0                1   \n",
       "2                      3                4.5                1   \n",
       "3                      2                4.0                1   \n",
       "4                      4                3.5                1   \n",
       "5                      4                4.5                1   \n",
       "6                      3                3.5                1   \n",
       "7                      2                0.0                0   \n",
       "8                      4                4.0                1   \n",
       "9                      4                4.0                1   \n",
       "10                     3                0.0                1   \n",
       "11                     3                3.5                0   \n",
       "12                     2                3.0                1   \n",
       "13                     3                4.5                1   \n",
       "14                     3                4.0                1   \n",
       "15                     2                3.0                1   \n",
       "16                     4                4.0                1   \n",
       "17                     3                3.0                1   \n",
       "18                     4                3.5                1   \n",
       "19                     4                4.0                1   \n",
       "20                     3                4.0                1   \n",
       "21                     4                3.5                1   \n",
       "22                     2                3.5                1   \n",
       "23                     2                3.5                1   \n",
       "24                     3                4.5                1   \n",
       "25                     3                2.5                1   \n",
       "26                     2                3.5                1   \n",
       "27                     3                4.5                1   \n",
       "28                     4                4.0                0   \n",
       "29                     4                4.0                0   \n",
       "...                  ...                ...              ...   \n",
       "4958317                3                4.0                1   \n",
       "4958318                4                4.0                0   \n",
       "4958319                4                3.5                1   \n",
       "4958320                4                4.5                1   \n",
       "4958321                3                4.5                0   \n",
       "4958322                4                5.0                0   \n",
       "4958323                4                4.5                0   \n",
       "4958324                5                4.5                0   \n",
       "4958325                4                4.5                1   \n",
       "4958326                4                4.5                0   \n",
       "4958327                4                4.5                1   \n",
       "4958328                4                4.5                0   \n",
       "4958329                5                4.5                0   \n",
       "4958330                4                4.5                0   \n",
       "4958331                2                0.0                0   \n",
       "4958332                3                3.5                0   \n",
       "4958333                2                3.0                1   \n",
       "4958334                2                4.0                0   \n",
       "4958335                4                4.5                1   \n",
       "4958336                4                4.5                1   \n",
       "4958337                4                4.0                1   \n",
       "4958338                4                4.0                0   \n",
       "4958339                3                3.5                1   \n",
       "4958340                3                4.0                0   \n",
       "4958341                3                1.0                1   \n",
       "4958342                3                4.0                1   \n",
       "4958343                3                4.0                1   \n",
       "4958344                3                3.5                1   \n",
       "4958345                3                5.0                1   \n",
       "4958346                3                2.5                1   \n",
       "\n",
       "         prop_location_score1  prop_location_score2  \\\n",
       "0                        2.83              0.043800   \n",
       "1                        2.20              0.014900   \n",
       "2                        2.20              0.024500   \n",
       "3                        2.83              0.012500   \n",
       "4                        2.64              0.124100   \n",
       "5                        2.77              0.130200   \n",
       "6                        2.20              0.035600   \n",
       "7                        1.61              0.073077   \n",
       "8                        2.56              0.123800   \n",
       "9                        2.83              0.102800   \n",
       "10                       2.20              0.099857   \n",
       "11                       2.20              0.037700   \n",
       "12                       2.20              0.020600   \n",
       "13                       2.40              0.125500   \n",
       "14                       2.30              0.015500   \n",
       "15                       1.79              0.007200   \n",
       "16                       2.94              0.066000   \n",
       "17                       1.39              0.003800   \n",
       "18                       2.77              0.126600   \n",
       "19                       2.08              0.015000   \n",
       "20                       2.71              0.035900   \n",
       "21                       2.40              0.114900   \n",
       "22                       2.83              0.014500   \n",
       "23                       2.71              0.046500   \n",
       "24                       2.20              0.016400   \n",
       "25                       0.69              0.007100   \n",
       "26                       1.61              0.005200   \n",
       "27                       2.30              0.003200   \n",
       "28                       3.22              0.254400   \n",
       "29                       2.71              0.123005   \n",
       "...                       ...                   ...   \n",
       "4958317                  4.60              0.156900   \n",
       "4958318                  4.96              0.085700   \n",
       "4958319                  4.84              0.072200   \n",
       "4958320                  5.06              0.094100   \n",
       "4958321                  5.04              0.099500   \n",
       "4958322                  4.62              0.052700   \n",
       "4958323                  4.69              0.155100   \n",
       "4958324                  4.85              0.099000   \n",
       "4958325                  4.63              0.160200   \n",
       "4958326                  4.67              0.025800   \n",
       "4958327                  5.05              0.102300   \n",
       "4958328                  4.67              0.049200   \n",
       "4958329                  4.50              0.120200   \n",
       "4958330                  4.71              0.147600   \n",
       "4958331                  5.03              0.228309   \n",
       "4958332                  4.17              0.072300   \n",
       "4958333                  4.98              0.085400   \n",
       "4958334                  4.85              0.071400   \n",
       "4958335                  4.49              0.153300   \n",
       "4958336                  4.75              0.090900   \n",
       "4958337                  4.74              0.069100   \n",
       "4958338                  4.98              0.038500   \n",
       "4958339                  4.56              0.147500   \n",
       "4958340                  4.55              0.160600   \n",
       "4958341                  2.20              0.099857   \n",
       "4958342                  1.61              0.047100   \n",
       "4958343                  1.95              0.152000   \n",
       "4958344                  1.10              0.016400   \n",
       "4958345                  1.95              0.066200   \n",
       "4958346                  1.10              0.049928   \n",
       "\n",
       "         prop_log_historical_price  price_usd  promotion_flag  random_bool  \\\n",
       "0                             4.95     104.77               0            1   \n",
       "1                             5.03     170.74               0            1   \n",
       "2                             4.92     179.80               0            1   \n",
       "3                             4.39     602.77               0            1   \n",
       "4                             4.93     143.58               0            1   \n",
       "5                             5.20     195.32               0            1   \n",
       "6                             4.81     129.35               0            1   \n",
       "7                             4.14      85.37               0            1   \n",
       "8                             5.18     150.05               0            1   \n",
       "9                             5.15     280.69               0            1   \n",
       "10                            5.08     190.14               0            1   \n",
       "11                            4.78     100.89               0            1   \n",
       "12                            4.44     100.89               0            1   \n",
       "13                            5.03     210.84               0            1   \n",
       "14                            5.03     138.40               0            1   \n",
       "15                            4.50     100.89               0            1   \n",
       "16                            5.18     152.63               1            1   \n",
       "17                            4.80     138.40               0            1   \n",
       "18                            4.98     115.12               0            1   \n",
       "19                            5.28     191.44               0            1   \n",
       "20                            4.71     122.88               0            1   \n",
       "21                            4.93     139.70               0            1   \n",
       "22                            4.68     115.12               0            1   \n",
       "23                            4.44     128.06               0            1   \n",
       "24                            5.02     181.09               0            1   \n",
       "25                            4.67     120.29               0            1   \n",
       "26                            4.67     104.77               0            1   \n",
       "27                            5.46     190.14               0            1   \n",
       "28                            5.98     295.00               0            1   \n",
       "29                            5.64     299.00               0            1   \n",
       "...                            ...        ...             ...          ...   \n",
       "4958317                       0.00     131.39               1            0   \n",
       "4958318                       0.00     145.02               0            0   \n",
       "4958319                       0.00     145.02               0            0   \n",
       "4958320                       0.00     165.56               0            0   \n",
       "4958321                       0.00     125.55               0            0   \n",
       "4958322                       0.00     213.15               0            0   \n",
       "4958323                       0.00     203.42               1            0   \n",
       "4958324                       0.00     310.48               0            0   \n",
       "4958325                       0.00     193.69               0            0   \n",
       "4958326                       0.00     227.75               0            0   \n",
       "4958327                       0.00     179.08               0            0   \n",
       "4958328                       0.00     237.48               0            0   \n",
       "4958329                       0.00     208.29               0            0   \n",
       "4958330                       0.00     261.82               0            0   \n",
       "4958331                       0.00      63.26               0            0   \n",
       "4958332                       0.00      92.66               1            0   \n",
       "4958333                       0.00     110.95               0            0   \n",
       "4958334                       0.00      95.48               1            0   \n",
       "4958335                       0.00     213.15               0            0   \n",
       "4958336                       0.00     300.74               0            0   \n",
       "4958337                       0.00     213.15               0            0   \n",
       "4958338                       0.00     193.87               1            0   \n",
       "4958339                       0.00     107.05               0            0   \n",
       "4958340                       0.00     106.72               1            0   \n",
       "4958341                       0.00     109.00               0            0   \n",
       "4958342                       0.00     118.00               0            0   \n",
       "4958343                       0.00      89.00               0            0   \n",
       "4958344                       0.00      99.00               0            0   \n",
       "4958345                       0.00     139.00               0            0   \n",
       "4958346                       0.00      61.00               0            0   \n",
       "\n",
       "         target  same_location     distance  rate_equal_or_better  \\\n",
       "0             0              0  1776.833608                     4   \n",
       "1             0              0  1760.058186                     3   \n",
       "2             0              0  1760.820221                     4   \n",
       "3             0              0  1786.456451                     1   \n",
       "4             0              0  1857.881111                     4   \n",
       "5             0              0  1782.709911                     3   \n",
       "6             0              0  1677.474076                     3   \n",
       "7             0              0  1555.283924                     0   \n",
       "8             0              0  1706.115641                     3   \n",
       "9             0              0  1591.726566                     4   \n",
       "10            0              0  1583.747500                     3   \n",
       "11            0              0  1645.629415                     2   \n",
       "12            3              0  1783.897802                     4   \n",
       "13            0              0  1684.145529                     4   \n",
       "14            0              0  1746.287421                     4   \n",
       "15            0              0  1674.435086                     4   \n",
       "16            0              0  1742.315278                     4   \n",
       "17            0              0  1356.983878                     3   \n",
       "18            0              0  1509.894688                     4   \n",
       "19            0              0  1766.110596                     3   \n",
       "20            0              0  1676.322598                     3   \n",
       "21            0              0  1683.289789                     1   \n",
       "22            0              0  1792.743039                     3   \n",
       "23            0              0  1673.208310                     4   \n",
       "24            0              0  1826.412461                     4   \n",
       "25            0              0  1233.376000                     3   \n",
       "26            0              0  1670.369717                     0   \n",
       "27            0              0  1522.228298                     4   \n",
       "28            0              1   238.350000                     0   \n",
       "29            0              1   238.340000                     0   \n",
       "...         ...            ...          ...                   ...   \n",
       "4958317       0              0   328.970000                     4   \n",
       "4958318       0              0   329.490000                     2   \n",
       "4958319       0              0   329.960000                     3   \n",
       "4958320       0              0   329.370000                     2   \n",
       "4958321       3              0   329.310000                     2   \n",
       "4958322       0              0   329.110000                     2   \n",
       "4958323       0              0   328.960000                     2   \n",
       "4958324       0              0   329.060000                     1   \n",
       "4958325       0              0   328.980000                     1   \n",
       "4958326       0              0   329.340000                     2   \n",
       "4958327       0              0   329.280000                     2   \n",
       "4958328       0              0   329.190000                     0   \n",
       "4958329       0              0   328.620000                     2   \n",
       "4958330       0              0   329.020000                     0   \n",
       "4958331       0              0   329.200000                     1   \n",
       "4958332       0              0   328.380000                     3   \n",
       "4958333       0              0   329.450000                     2   \n",
       "4958334       0              0   329.840000                     3   \n",
       "4958335       0              0   328.710000                     2   \n",
       "4958336       0              0   328.900000                     1   \n",
       "4958337       0              0   328.830000                     2   \n",
       "4958338       0              0   329.680000                     3   \n",
       "4958339       0              0   328.720000                     3   \n",
       "4958340       0              0   328.930000                     2   \n",
       "4958341       0              1   512.780000                     0   \n",
       "4958342       0              1   550.920000                     0   \n",
       "4958343       0              1   553.140000                     0   \n",
       "4958344       0              1   544.430000                     0   \n",
       "4958345       3              1   550.380000                     0   \n",
       "4958346       0              1   583.250000                     0   \n",
       "\n",
       "         inv_equal_or_better  \n",
       "0                          4  \n",
       "1                          3  \n",
       "2                          4  \n",
       "3                          4  \n",
       "4                          4  \n",
       "5                          3  \n",
       "6                          3  \n",
       "7                          0  \n",
       "8                          3  \n",
       "9                          4  \n",
       "10                         3  \n",
       "11                         3  \n",
       "12                         3  \n",
       "13                         4  \n",
       "14                         4  \n",
       "15                         3  \n",
       "16                         4  \n",
       "17                         3  \n",
       "18                         3  \n",
       "19                         3  \n",
       "20                         3  \n",
       "21                         3  \n",
       "22                         4  \n",
       "23                         3  \n",
       "24                         4  \n",
       "25                         3  \n",
       "26                         0  \n",
       "27                         4  \n",
       "28                         0  \n",
       "29                         0  \n",
       "...                      ...  \n",
       "4958317                    4  \n",
       "4958318                    2  \n",
       "4958319                    3  \n",
       "4958320                    2  \n",
       "4958321                    2  \n",
       "4958322                    2  \n",
       "4958323                    2  \n",
       "4958324                    1  \n",
       "4958325                    2  \n",
       "4958326                    2  \n",
       "4958327                    2  \n",
       "4958328                    2  \n",
       "4958329                    2  \n",
       "4958330                    2  \n",
       "4958331                    1  \n",
       "4958332                    3  \n",
       "4958333                    2  \n",
       "4958334                    3  \n",
       "4958335                    2  \n",
       "4958336                    3  \n",
       "4958337                    2  \n",
       "4958338                    3  \n",
       "4958339                    3  \n",
       "4958340                    2  \n",
       "4958341                    0  \n",
       "4958342                    0  \n",
       "4958343                    0  \n",
       "4958344                    0  \n",
       "4958345                    0  \n",
       "4958346                    0  \n",
       "\n",
       "[4958347 rows x 14 columns]>"
      ]
     },
     "execution_count": 19,
     "metadata": {},
     "output_type": "execute_result"
    }
   ],
   "source": [
    "x.head"
   ]
  },
  {
   "cell_type": "markdown",
   "metadata": {},
   "source": [
    "### Save the modified parquet up to this point"
   ]
  },
  {
   "cell_type": "code",
   "execution_count": 20,
   "metadata": {},
   "outputs": [],
   "source": [
    "x.to_parquet('training_set_v3.parquet.gzip', compression = 'gzip')"
   ]
  }
 ],
 "metadata": {
  "kernelspec": {
   "display_name": "Python 3",
   "language": "python",
   "name": "python3"
  },
  "language_info": {
   "codemirror_mode": {
    "name": "ipython",
    "version": 3
   },
   "file_extension": ".py",
   "mimetype": "text/x-python",
   "name": "python",
   "nbconvert_exporter": "python",
   "pygments_lexer": "ipython3",
   "version": "3.5.2"
  }
 },
 "nbformat": 4,
 "nbformat_minor": 2
}
