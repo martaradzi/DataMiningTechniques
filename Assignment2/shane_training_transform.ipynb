{
 "cells": [
  {
   "cell_type": "code",
   "execution_count": 1,
   "metadata": {},
   "outputs": [],
   "source": [
    "import pandas as pd  \n",
    "import numpy as np \n",
    "import matplotlib.pyplot as plt\n",
    "from sklearn.ensemble import RandomForestRegressor\n",
    "from sklearn.preprocessing import MinMaxScaler\n",
    "from sklearn.preprocessing import RobustScaler\n",
    "from sklearn.model_selection import train_test_split\n",
    "from sklearn.metrics import classification_report, confusion_matrix  \n",
    "from sklearn.metrics import roc_auc_score\n",
    "from sklearn.metrics import classification_report, confusion_matrix  \n",
    "from sklearn import metrics\n",
    "from sklearn.tree import export_graphviz\n",
    "from sklearn.model_selection import cross_val_score\n",
    "from pprint import pprint\n",
    "# from sklearn.decomposition import PCA\n",
    "\n",
    "pd.options.mode.chained_assignment = None  # default='warn'"
   ]
  },
  {
   "cell_type": "markdown",
   "metadata": {},
   "source": [
    "### Read in training data"
   ]
  },
  {
   "cell_type": "code",
   "execution_count": 2,
   "metadata": {},
   "outputs": [],
   "source": [
    "x = pd.read_parquet('train_test_data/training_set_VU_DM.parquet.gzip')"
   ]
  },
  {
   "cell_type": "markdown",
   "metadata": {},
   "source": [
    "### Assign new weight to booking_bool"
   ]
  },
  {
   "cell_type": "code",
   "execution_count": 3,
   "metadata": {
    "scrolled": true
   },
   "outputs": [],
   "source": [
    "x['booking_bool'] = np.where(x['booking_bool'] == 1, 2, 0)"
   ]
  },
  {
   "cell_type": "markdown",
   "metadata": {},
   "source": [
    "### Create our target class by combining click_bool and booking_bool"
   ]
  },
  {
   "cell_type": "code",
   "execution_count": 4,
   "metadata": {},
   "outputs": [],
   "source": [
    "target = pd.DataFrame(x['booking_bool'] + x['click_bool'])"
   ]
  },
  {
   "cell_type": "markdown",
   "metadata": {},
   "source": [
    "### Some feature engineering"
   ]
  },
  {
   "cell_type": "code",
   "execution_count": 5,
   "metadata": {},
   "outputs": [],
   "source": [
    "# if countries are the same for hotel and user\n",
    "x['same_location'] = np.where(x['prop_country_id'] == x['visitor_location_country_id'], 1, 0)\n",
    "\n",
    "# fill nans for prop_location_score2 with prop_location_score1 (since only ~20% missing. note: scaling is different)\n",
    "multiplier = x['prop_location_score2'].mean() / x['prop_location_score1'].mean()\n",
    "x['prop_location_score2'].fillna(x['prop_location_score1'] * multiplier, inplace=True)\n",
    "\n",
    "# fill nans for review score with the mean of all review scores\n",
    "x['prop_review_score'].fillna(x['prop_review_score'].mean(), inplace=True)\n",
    "\n",
    "##### THESE WILL BE DELETED LATER, STILL TOO MUCH MISSING DATA AFTERWARDS #####\n",
    "x['visitor_hist_starrating'].fillna(0, inplace=True)\n",
    "x['visitor_hist_adr_usd'].fillna(0, inplace=True)\n",
    "x['has_rate_hist'] = np.where((x['visitor_hist_starrating'] > 0) & (x['visitor_hist_adr_usd'] > 0), 1, 0)"
   ]
  },
  {
   "cell_type": "markdown",
   "metadata": {},
   "source": [
    "### Fill missing orig_destination_distance data with mean distance for that property id"
   ]
  },
  {
   "cell_type": "code",
   "execution_count": 6,
   "metadata": {
    "scrolled": true
   },
   "outputs": [],
   "source": [
    "x[\"orig_destination_distance\"] = x.groupby('prop_id')['orig_destination_distance'].transform(lambda x: x.fillna(x.mean()))\n",
    "x['orig_destination_distance'].fillna(x['orig_destination_distance'].mean(), inplace=True)"
   ]
  },
  {
   "cell_type": "markdown",
   "metadata": {},
   "source": [
    "### New features for competitor rates"
   ]
  },
  {
   "cell_type": "code",
   "execution_count": 7,
   "metadata": {
    "scrolled": true
   },
   "outputs": [],
   "source": [
    "x_copy = x[['comp1_rate','comp2_rate','comp3_rate','comp4_rate','comp5_rate','comp6_rate','comp7_rate','comp8_rate']].copy()\n",
    "x['comp_rate_lower'] = (x_copy == -1).T.sum()\n",
    "x['comp_rate_equal'] = (x_copy == 0).T.sum()\n",
    "x['comp_rate_higher'] = (x_copy == 1).T.sum()"
   ]
  },
  {
   "cell_type": "markdown",
   "metadata": {},
   "source": [
    "### New features for competitor availability"
   ]
  },
  {
   "cell_type": "code",
   "execution_count": 8,
   "metadata": {},
   "outputs": [],
   "source": [
    "x_copy = x[['comp1_inv','comp2_inv','comp3_inv','comp4_inv','comp5_inv','comp6_inv','comp7_inv','comp8_inv']].copy()\n",
    "x['comp_inv_same'] = (x_copy == 0).T.sum()\n",
    "x['comp_inv_better'] = (x_copy == 1).T.sum()"
   ]
  },
  {
   "cell_type": "markdown",
   "metadata": {},
   "source": [
    "### New features for competitor rate percent difference"
   ]
  },
  {
   "cell_type": "code",
   "execution_count": 9,
   "metadata": {},
   "outputs": [],
   "source": [
    "x_copy = x[['comp1_rate_percent_diff','comp2_rate_percent_diff','comp3_rate_percent_diff','comp4_rate_percent_diff','comp5_rate_percent_diff','comp6_rate_percent_diff','comp7_rate_percent_diff','comp8_rate_percent_diff']].copy()\n",
    "x['comp_rate_percent_diff_low'] = x_copy.T.min()\n",
    "x['comp_rate_percent_diff_high'] = x_copy.T.max()"
   ]
  },
  {
   "cell_type": "markdown",
   "metadata": {},
   "source": [
    "### Delete the old competitor data"
   ]
  },
  {
   "cell_type": "code",
   "execution_count": 10,
   "metadata": {},
   "outputs": [],
   "source": [
    "x.drop(['comp1_rate','comp2_rate','comp3_rate','comp4_rate','comp5_rate','comp6_rate','comp7_rate','comp8_rate'], axis=1,inplace=True)\n",
    "x.drop(['comp1_inv','comp2_inv','comp3_inv','comp4_inv','comp5_inv','comp6_inv','comp7_inv','comp8_inv'], axis=1,inplace=True)\n",
    "x.drop(['comp1_rate_percent_diff','comp2_rate_percent_diff','comp3_rate_percent_diff','comp4_rate_percent_diff','comp5_rate_percent_diff','comp6_rate_percent_diff','comp7_rate_percent_diff','comp8_rate_percent_diff'], axis=1,inplace=True)"
   ]
  },
  {
   "cell_type": "markdown",
   "metadata": {},
   "source": [
    "### Combine some competitor features, since some of these columns were quite thin"
   ]
  },
  {
   "cell_type": "code",
   "execution_count": 11,
   "metadata": {},
   "outputs": [],
   "source": [
    "x['rate_equal_or_better'] = x['comp_rate_equal'] + x['comp_rate_higher']\n",
    "x['inv_equal_or_better'] = x['comp_inv_same'] + x['comp_inv_better']"
   ]
  },
  {
   "cell_type": "markdown",
   "metadata": {},
   "source": [
    "### Normalize the columns we will use"
   ]
  },
  {
   "cell_type": "code",
   "execution_count": 12,
   "metadata": {
    "scrolled": true
   },
   "outputs": [],
   "source": [
    "# x['prop_starrating'] = MinMaxScaler().fit_transform(np.array(x['prop_starrating'], dtype = float).reshape(-1, 1))\n",
    "# x['prop_review_score'] = MinMaxScaler().fit_transform(np.array(x['prop_review_score'], dtype = float).reshape(-1, 1))\n",
    "# x['prop_brand_bool'] = MinMaxScaler().fit_transform(np.array(x['prop_brand_bool'], dtype = float).reshape(-1, 1))\n",
    "# x['prop_location_score1'] = MinMaxScaler().fit_transform(np.array(x['prop_location_score1'], dtype = float).reshape(-1, 1))\n",
    "# x['prop_location_score2'] = MinMaxScaler().fit_transform(np.array(x['prop_location_score2'], dtype = float).reshape(-1, 1))\n",
    "# x['prop_log_historical_price'] = MinMaxScaler().fit_transform(np.array(x['prop_log_historical_price'], dtype = float).reshape(-1, 1))\n",
    "# x['price_usd'] = x.groupby('prop_country_id')['price_usd'].transform(lambda x: (x - min(x)) / (max(x) - min(x)))\n",
    "# x['promotion_flag'] = MinMaxScaler().fit_transform(np.array(x['promotion_flag'], dtype = float).reshape(-1, 1))\n",
    "# x['orig_destination_distance'] = MinMaxScaler().fit_transform(np.array(x['orig_destination_distance'], dtype = float).reshape(-1, 1))\n",
    "# x['random_bool'] = MinMaxScaler().fit_transform(np.array(x['random_bool'], dtype = float).reshape(-1, 1))\n",
    "# x['same_location'] = MinMaxScaler().fit_transform(np.array(x['same_location'], dtype = float).reshape(-1, 1))\n",
    "# x['rate_equal_or_better'] = MinMaxScaler().fit_transform(np.array(x['rate_equal_or_better'], dtype = float).reshape(-1, 1))\n",
    "# x['inv_equal_or_better'] = MinMaxScaler().fit_transform(np.array(x['inv_equal_or_better'], dtype = float).reshape(-1, 1))"
   ]
  },
  {
   "cell_type": "markdown",
   "metadata": {},
   "source": [
    "### mean, median and std for prop\\_starrating, prop\\_review\\_score, prop\\_location\\_score1, and prop\\_location\\_score2 for each hotel (grouped by \"prop\\_id\""
   ]
  },
  {
   "cell_type": "code",
   "execution_count": 1,
   "metadata": {},
   "outputs": [
    {
     "ename": "NameError",
     "evalue": "name 'x' is not defined",
     "output_type": "error",
     "traceback": [
      "\u001b[1;31m---------------------------------------------------------------------------\u001b[0m",
      "\u001b[1;31mNameError\u001b[0m                                 Traceback (most recent call last)",
      "\u001b[1;32m<ipython-input-1-9699dec3113a>\u001b[0m in \u001b[0;36m<module>\u001b[1;34m\u001b[0m\n\u001b[0;32m      2\u001b[0m \u001b[1;33m\u001b[0m\u001b[0m\n\u001b[0;32m      3\u001b[0m \u001b[1;32mfor\u001b[0m \u001b[0mfeat\u001b[0m \u001b[1;32min\u001b[0m \u001b[0mfeatures\u001b[0m\u001b[1;33m:\u001b[0m\u001b[1;33m\u001b[0m\u001b[1;33m\u001b[0m\u001b[0m\n\u001b[1;32m----> 4\u001b[1;33m     \u001b[0mmean\u001b[0m \u001b[1;33m=\u001b[0m \u001b[0mx\u001b[0m\u001b[1;33m.\u001b[0m\u001b[0mgroupby\u001b[0m\u001b[1;33m(\u001b[0m\u001b[1;34m\"prop_id\"\u001b[0m\u001b[1;33m)\u001b[0m\u001b[1;33m[\u001b[0m\u001b[0mfeat\u001b[0m\u001b[1;33m]\u001b[0m\u001b[1;33m.\u001b[0m\u001b[0mmean\u001b[0m\u001b[1;33m(\u001b[0m\u001b[1;33m)\u001b[0m\u001b[1;33m\u001b[0m\u001b[1;33m\u001b[0m\u001b[0m\n\u001b[0m\u001b[0;32m      5\u001b[0m     \u001b[0mmedian\u001b[0m \u001b[1;33m=\u001b[0m \u001b[0mx\u001b[0m\u001b[1;33m.\u001b[0m\u001b[0mgroupby\u001b[0m\u001b[1;33m(\u001b[0m\u001b[1;34m\"prop_id\"\u001b[0m\u001b[1;33m)\u001b[0m\u001b[1;33m[\u001b[0m\u001b[0mfeat\u001b[0m\u001b[1;33m]\u001b[0m\u001b[1;33m.\u001b[0m\u001b[0mmedian\u001b[0m\u001b[1;33m(\u001b[0m\u001b[1;33m)\u001b[0m\u001b[1;33m\u001b[0m\u001b[1;33m\u001b[0m\u001b[0m\n\u001b[0;32m      6\u001b[0m     \u001b[0mstd\u001b[0m \u001b[1;33m=\u001b[0m \u001b[0mx\u001b[0m\u001b[1;33m.\u001b[0m\u001b[0mgroupby\u001b[0m\u001b[1;33m(\u001b[0m\u001b[1;34m\"prop_id\"\u001b[0m\u001b[1;33m)\u001b[0m\u001b[1;33m[\u001b[0m\u001b[0mfeat\u001b[0m\u001b[1;33m]\u001b[0m\u001b[1;33m.\u001b[0m\u001b[0mstd\u001b[0m\u001b[1;33m(\u001b[0m\u001b[0mddof\u001b[0m\u001b[1;33m=\u001b[0m\u001b[1;36m0\u001b[0m\u001b[1;33m)\u001b[0m\u001b[1;33m\u001b[0m\u001b[1;33m\u001b[0m\u001b[0m\n",
      "\u001b[1;31mNameError\u001b[0m: name 'x' is not defined"
     ]
    }
   ],
   "source": [
    "features = [\"prop_starrating\", \"prop_review_score\", \"prop_location_score1\", \"prop_location_score2\"]\n",
    "\n",
    "for feat in features: \n",
    "    mean = x.groupby(\"prop_id\")[feat].mean()\n",
    "    median = x.groupby(\"prop_id\")[feat].median()\n",
    "    std = x.groupby(\"prop_id\")[feat].std(ddof=0)\n",
    "    \n",
    "#     print (std.min())\n",
    "#     print (std.mean())\n",
    "#     print (std.max())\n",
    "\n",
    "    x[feat+\"_mean\"] = mean[x.prop_id].values\n",
    "    x[feat+\"_median\"] = median[x.prop_id].values\n",
    "    x[feat+\"_std\"] = std[x.prop_id].values"
   ]
  },
  {
   "cell_type": "markdown",
   "metadata": {},
   "source": [
    "### Delete columns we do not need"
   ]
  },
  {
   "cell_type": "code",
   "execution_count": 13,
   "metadata": {},
   "outputs": [],
   "source": [
    "del x['date_time']\n",
    "del x['site_id']\n",
    "del x['booking_bool']\n",
    "del x['click_bool']\n",
    "del x['gross_bookings_usd']\n",
    "del x['visitor_location_country_id']\n",
    "del x['prop_country_id']\n",
    "del x['visitor_hist_starrating']\n",
    "del x['visitor_hist_adr_usd']\n",
    "del x['srch_query_affinity_score']\n",
    "del x['position']\n",
    "del x['prop_id']\n",
    "del x['srch_id']\n",
    "del x['srch_destination_id']\n",
    "del x['srch_booking_window']\n",
    "del x['srch_adults_count']\n",
    "del x['srch_children_count']\n",
    "del x['srch_room_count']\n",
    "del x['srch_saturday_night_bool']\n",
    "del x['srch_length_of_stay']\n",
    "del x['comp_rate_lower']\n",
    "del x['comp_rate_equal']\n",
    "del x['comp_rate_higher']\n",
    "del x['comp_inv_same']\n",
    "del x['comp_inv_better']"
   ]
  },
  {
   "cell_type": "markdown",
   "metadata": {},
   "source": [
    "### Delete the competitor low/high rate percent differences for now, since ~68% of entries have no values at all. Also delete users that have booked & rated in the past, since ~95% of this is still empty"
   ]
  },
  {
   "cell_type": "code",
   "execution_count": 14,
   "metadata": {},
   "outputs": [],
   "source": [
    "del x['comp_rate_percent_diff_low']\n",
    "del x['comp_rate_percent_diff_high']\n",
    "del x['has_rate_hist']"
   ]
  },
  {
   "cell_type": "markdown",
   "metadata": {},
   "source": [
    "### Try deleting some columns to see what happens"
   ]
  },
  {
   "cell_type": "code",
   "execution_count": 15,
   "metadata": {},
   "outputs": [],
   "source": [
    "# del x['prop_log_historical_price']\n",
    "# del x['random_bool']"
   ]
  },
  {
   "cell_type": "markdown",
   "metadata": {},
   "source": [
    "### Check final column list"
   ]
  },
  {
   "cell_type": "code",
   "execution_count": 16,
   "metadata": {},
   "outputs": [
    {
     "data": {
      "text/plain": [
       "Index(['prop_starrating', 'prop_review_score', 'prop_brand_bool',\n",
       "       'prop_location_score1', 'prop_location_score2',\n",
       "       'prop_log_historical_price', 'price_usd', 'promotion_flag',\n",
       "       'orig_destination_distance', 'random_bool', 'same_location',\n",
       "       'rate_equal_or_better', 'inv_equal_or_better'],\n",
       "      dtype='object')"
      ]
     },
     "execution_count": 16,
     "metadata": {},
     "output_type": "execute_result"
    }
   ],
   "source": [
    "x.columns"
   ]
  },
  {
   "cell_type": "markdown",
   "metadata": {},
   "source": [
    "### PCA"
   ]
  },
  {
   "cell_type": "code",
   "execution_count": 17,
   "metadata": {},
   "outputs": [
    {
     "data": {
      "text/plain": [
       "PCA(copy=True, iterated_power='auto', n_components='mle', random_state=None,\n",
       "  svd_solver='full', tol=0.0, whiten=False)"
      ]
     },
     "execution_count": 17,
     "metadata": {},
     "output_type": "execute_result"
    }
   ],
   "source": [
    "# pca = PCA(n_components='mle', svd_solver='full')\n",
    "# pca.fit(x)\n",
    "# pca.explained_variance_ratio_\n",
    "# pca.singular_values_"
   ]
  },
  {
   "cell_type": "code",
   "execution_count": 20,
   "metadata": {
    "scrolled": true
   },
   "outputs": [],
   "source": [
    "# x2 = pd.DataFrame(pca.transform(x))"
   ]
  },
  {
   "cell_type": "code",
   "execution_count": 22,
   "metadata": {
    "scrolled": false
   },
   "outputs": [],
   "source": [
    "# x2.columns = ['f0','f1','f2','f3','f4','f5','f6','f7','f8','f9','f10','f11']\n",
    "# x2['target'] = target"
   ]
  },
  {
   "cell_type": "code",
   "execution_count": 23,
   "metadata": {},
   "outputs": [
    {
     "data": {
      "text/plain": [
       "<bound method NDFrame.head of                f0        f1        f2        f3        f4        f5        f6  \\\n",
       "0        0.176052  0.591387  0.775496 -0.147247 -0.247457  0.341513  0.357872   \n",
       "1        0.199128  0.603223  0.788989 -0.173055 -0.200469  0.183185  0.197283   \n",
       "2        0.151533  0.587500  0.791846 -0.141833 -0.258191  0.332851  0.313542   \n",
       "3        0.197911  0.634375  0.711323 -0.226685 -0.010863  0.179801  0.269697   \n",
       "4        0.188803  0.580059  0.804845 -0.130122 -0.294459  0.351346  0.259126   \n",
       "5        0.208504  0.591895  0.808628 -0.153476 -0.271196  0.182580  0.089333   \n",
       "6        0.191107  0.620507  0.743674 -0.199217 -0.109791  0.198048  0.320490   \n",
       "7        0.929516  0.751165 -0.181375 -0.374728  0.295956 -0.084579  0.522560   \n",
       "8        0.209086  0.598645  0.794424 -0.163368 -0.240937  0.179274  0.151952   \n",
       "9        0.182133  0.574063  0.818532 -0.117542 -0.343188  0.331869  0.216057   \n",
       "10       0.234902  0.651737  0.667769 -0.244338 -0.009131  0.166545  0.642407   \n",
       "11       0.841088  0.641420  0.000543 -0.186810 -0.225751  0.237413  0.299022   \n",
       "12       0.169825  0.627067  0.710115 -0.208197 -0.046512  0.297825  0.482898   \n",
       "13       0.157747  0.584526  0.795035 -0.134737 -0.287501  0.329556  0.279940   \n",
       "14       0.159324  0.591097  0.782817 -0.146802 -0.253728  0.322122  0.360057   \n",
       "15       0.160358  0.630628  0.706267 -0.212731 -0.036706  0.282654  0.518918   \n",
       "16       0.399580  0.321406  0.963758  0.759342 -0.072155  0.193067  0.296647   \n",
       "17       0.175879  0.633086  0.721945 -0.216274 -0.055781  0.180361  0.434327   \n",
       "18       0.200238  0.591813  0.792762 -0.148033 -0.254021  0.274082  0.213529   \n",
       "19       0.198213  0.603212  0.791558 -0.172113 -0.224080  0.154639  0.217004   \n",
       "20       0.193926  0.612105  0.758109 -0.186441 -0.136926  0.219605  0.233087   \n",
       "21       0.239415  0.628023  0.753043 -0.216736 -0.091872  0.059832  0.123981   \n",
       "22       0.176342  0.615613  0.729019 -0.189456 -0.118704  0.289857  0.405534   \n",
       "23       0.172124  0.618316  0.725133 -0.193088 -0.087154  0.309908  0.394454   \n",
       "24       0.152830  0.587013  0.793826 -0.141402 -0.268709  0.322108  0.319563   \n",
       "25       0.166554  0.644235  0.701416 -0.233081  0.003939  0.179083  0.524961   \n",
       "26       0.253654  0.707264  0.636209 -0.354964  0.272535 -0.243608  0.218624   \n",
       "27       0.151175  0.585596  0.798242 -0.134507 -0.319930  0.277282  0.337486   \n",
       "28       0.259519  0.793004 -0.591750  0.088955 -0.304491 -0.294479 -0.257087   \n",
       "29       0.244293  0.799943 -0.601847  0.075017 -0.234975 -0.274707 -0.203675   \n",
       "...           ...       ...       ...       ...       ...       ...       ...   \n",
       "4958317  0.237617 -0.604845  0.702495  0.489214  0.523265  0.707254  0.015943   \n",
       "4958318  0.734410 -0.311242 -0.183642 -0.419624  0.222715  0.672740 -0.301552   \n",
       "4958319  0.072620 -0.338140  0.557185 -0.419289  0.316631  0.707202 -0.183097   \n",
       "4958320  0.094472 -0.326404  0.558646 -0.444114  0.365189  0.569210 -0.375820   \n",
       "4958321  0.718031 -0.304964 -0.201737 -0.428805  0.247219  0.667668 -0.265900   \n",
       "4958322  0.715125 -0.317468 -0.164201 -0.410648  0.199264  0.666202 -0.362001   \n",
       "4958323  0.939780 -0.566174 -0.031729  0.463159  0.481475  0.534629 -0.266591   \n",
       "4958324  0.768262 -0.303829 -0.166291 -0.438346  0.255453  0.535016 -0.513343   \n",
       "4958325  0.103363 -0.312564  0.542742 -0.468428  0.421968  0.492790 -0.399784   \n",
       "4958326  0.721148 -0.312884 -0.175212 -0.417981  0.219591  0.665230 -0.312559   \n",
       "4958327  0.094560 -0.326418  0.558598 -0.443998  0.364765  0.569355 -0.377116   \n",
       "4958328  0.751009 -0.290871 -0.199888 -0.458736  0.312054  0.525081 -0.395241   \n",
       "4958329  0.733453 -0.324366 -0.146057 -0.399557  0.168377  0.673897 -0.414733   \n",
       "4958330  0.754991 -0.292336 -0.199033 -0.455286  0.301079  0.530032 -0.422235   \n",
       "4958331  0.792909 -0.229434 -0.356545 -0.550170  0.557480  0.512199  0.133343   \n",
       "4958332  0.898132 -0.563024 -0.066390  0.464493  0.498170  0.655924  0.053679   \n",
       "4958333  0.086132 -0.288118  0.463515 -0.502547  0.524357  0.548505 -0.046382   \n",
       "4958334  0.892228 -0.561415 -0.079186  0.462622  0.502043  0.662287  0.050062   \n",
       "4958335  0.086035 -0.322497  0.553851 -0.449716  0.380418  0.560254 -0.349617   \n",
       "4958336  0.088681 -0.324695  0.554323 -0.446991  0.373723  0.566728 -0.351028   \n",
       "4958337  0.093804 -0.318858  0.544334 -0.456170  0.398931  0.560885 -0.300406   \n",
       "4958338  0.918093 -0.585594 -0.017791  0.498932  0.403757  0.679716 -0.133491   \n",
       "4958339  0.057694 -0.324998  0.524854 -0.438463  0.367992  0.696648 -0.090388   \n",
       "4958340  0.931112 -0.548677 -0.074477  0.436533  0.554000  0.523105 -0.120351   \n",
       "4958341 -0.534924 -0.092374 -0.212474 -0.316111  0.784095  0.128865 -0.073755   \n",
       "4958342 -0.582763 -0.115174 -0.149726 -0.282444  0.693415  0.119874 -0.297432   \n",
       "4958343 -0.573061 -0.119139 -0.146139 -0.274935  0.670784  0.131129 -0.347468   \n",
       "4958344 -0.587183 -0.106013 -0.165818 -0.297096  0.734698  0.107487 -0.207005   \n",
       "4958345 -0.587939 -0.127485 -0.123951 -0.263123  0.639943  0.129193 -0.419238   \n",
       "4958346 -0.573430 -0.097170 -0.187948 -0.310649  0.770534  0.107250 -0.122661   \n",
       "\n",
       "               f7        f8        f9       f10       f11  target  \n",
       "0        0.003198 -0.069433 -0.060442 -0.050219  0.033438       0  \n",
       "1       -0.176465  0.026010 -0.119720 -0.030538  0.025064       0  \n",
       "2       -0.179061 -0.163465 -0.008003 -0.024552  0.030837       0  \n",
       "3        0.007735 -0.250061  0.033127 -0.105472 -0.275861       0  \n",
       "4       -0.048358  0.058587 -0.136306  0.044239  0.030452       0  \n",
       "5       -0.141938 -0.059304 -0.098949  0.034054  0.024430       0  \n",
       "6       -0.049386 -0.057219 -0.076335 -0.024205  0.026769       0  \n",
       "7        0.268017  0.166471 -0.251982  0.017897  0.023471       0  \n",
       "8       -0.104533 -0.001154 -0.130159  0.041236  0.024543       0  \n",
       "9       -0.097154 -0.008036 -0.128489  0.011771  0.030529       0  \n",
       "10       0.389081  0.315107 -0.268708  0.028072  0.030201       0  \n",
       "11      -0.183062 -0.093890 -0.113457 -0.019503 -0.068344       0  \n",
       "12       0.059146 -0.127728 -0.013404 -0.042330  0.132496       3  \n",
       "13      -0.124801 -0.186554 -0.019619  0.050675  0.029989       0  \n",
       "14      -0.113198 -0.110010 -0.034422 -0.039671  0.031843       0  \n",
       "15       0.017440 -0.120798 -0.020292 -0.027704  0.131577       0  \n",
       "16      -0.096308 -0.022851 -0.105764 -0.014592  0.030275       0  \n",
       "17      -0.076100  0.009221 -0.123665 -0.001341  0.025554       0  \n",
       "18      -0.033576  0.042487 -0.167820  0.033561  0.128995       0  \n",
       "19      -0.185088  0.027930 -0.118658 -0.022311  0.024813       0  \n",
       "20      -0.063243 -0.123433 -0.051029 -0.057219  0.027444       0  \n",
       "21      -0.054190  0.059396 -0.165138  0.031587 -0.182172       0  \n",
       "22       0.059050 -0.196315  0.015451 -0.092490 -0.068244       0  \n",
       "23       0.054682 -0.202206  0.002452 -0.053493  0.132795       0  \n",
       "24      -0.180765 -0.160223 -0.002439 -0.031172  0.031001       0  \n",
       "25      -0.080657  0.075428 -0.158784  0.046420  0.024227       0  \n",
       "26      -0.025231 -0.172058 -0.025260 -0.045787  0.011857       0  \n",
       "27      -0.173980 -0.173074 -0.023420 -0.051221  0.031378       0  \n",
       "28      -0.057943  0.026814 -0.147666  0.076462  0.023663       0  \n",
       "29      -0.153217  0.059499 -0.140180 -0.005675  0.024029       0  \n",
       "...           ...       ...       ...       ...       ...     ...  \n",
       "4958317  0.111249 -0.230992 -0.159898 -0.067243  0.035017       0  \n",
       "4958318 -0.069125 -0.106803 -0.291814 -0.161899  0.034815       0  \n",
       "4958319  0.105135 -0.011476 -0.276830 -0.167553  0.031953       0  \n",
       "4958320  0.023266 -0.130066 -0.235504 -0.169440  0.025929       0  \n",
       "4958321 -0.053262 -0.299035 -0.189453 -0.165144  0.035687       3  \n",
       "4958322 -0.229713 -0.204691 -0.237569 -0.167360  0.033159       0  \n",
       "4958323 -0.125203 -0.190074 -0.260355 -0.070121  0.031471       0  \n",
       "4958324 -0.187592 -0.028426 -0.352963 -0.139416  0.027208       0  \n",
       "4958325  0.013275 -0.130545 -0.242807 -0.088562 -0.079543       0  \n",
       "4958326 -0.175552 -0.146440 -0.262020 -0.194896  0.034258       0  \n",
       "4958327  0.025253 -0.131104 -0.235989 -0.161559  0.025794       0  \n",
       "4958328 -0.156263 -0.149718 -0.270811 -0.185841 -0.173019       0  \n",
       "4958329 -0.220526 -0.024059 -0.344770 -0.089896  0.031098       0  \n",
       "4958330 -0.117963 -0.165687 -0.276691 -0.101857 -0.174230       0  \n",
       "4958331  0.595152  0.045456 -0.363270 -0.074332  0.035826       0  \n",
       "4958332 -0.028977 -0.188680 -0.220683 -0.112649  0.038995       0  \n",
       "4958333  0.316188 -0.227518 -0.158521 -0.194730  0.030595       0  \n",
       "4958334  0.035866 -0.391865 -0.117805 -0.168534  0.041609       0  \n",
       "4958335 -0.007315 -0.126558 -0.238611 -0.079600  0.023671       0  \n",
       "4958336 -0.003626 -0.122523 -0.233292 -0.155591 -0.176715       0  \n",
       "4958337  0.044696 -0.063952 -0.259831 -0.170820  0.026051       0  \n",
       "4958338 -0.089819 -0.123468 -0.270437 -0.184814  0.039461       0  \n",
       "4958339  0.169313 -0.149987 -0.203931 -0.093381  0.031687       0  \n",
       "4958340 -0.013860 -0.265717 -0.209361 -0.067205  0.033108       0  \n",
       "4958341  0.316211  0.346462 -0.186631 -0.015983  0.020710       0  \n",
       "4958342 -0.110256  0.037619 -0.024059 -0.019847  0.016248       0  \n",
       "4958343 -0.042575  0.014107 -0.030385  0.050020  0.015723       0  \n",
       "4958344 -0.108010  0.108590 -0.048338 -0.013712  0.015953       0  \n",
       "4958345 -0.191099 -0.083295  0.026544 -0.024446  0.015646       3  \n",
       "4958346  0.022247  0.215309 -0.099488  0.014981  0.016747       0  \n",
       "\n",
       "[4958347 rows x 13 columns]>"
      ]
     },
     "execution_count": 23,
     "metadata": {},
     "output_type": "execute_result"
    }
   ],
   "source": [
    "# x2.head"
   ]
  },
  {
   "cell_type": "markdown",
   "metadata": {},
   "source": [
    "### Make sure we have no missing values"
   ]
  },
  {
   "cell_type": "code",
   "execution_count": 24,
   "metadata": {},
   "outputs": [
    {
     "data": {
      "text/plain": [
       "f0        0.0\n",
       "f1        0.0\n",
       "f2        0.0\n",
       "f3        0.0\n",
       "f4        0.0\n",
       "f5        0.0\n",
       "f6        0.0\n",
       "f7        0.0\n",
       "f8        0.0\n",
       "f9        0.0\n",
       "f10       0.0\n",
       "f11       0.0\n",
       "target    0.0\n",
       "dtype: float64"
      ]
     },
     "execution_count": 24,
     "metadata": {},
     "output_type": "execute_result"
    }
   ],
   "source": [
    "missing_values = x2.isna().mean() * 100\n",
    "missing_values"
   ]
  },
  {
   "cell_type": "markdown",
   "metadata": {},
   "source": [
    "### Save the modified parquet up to this point"
   ]
  },
  {
   "cell_type": "code",
   "execution_count": 25,
   "metadata": {},
   "outputs": [],
   "source": [
    "x2.to_parquet('training_set_v5.parquet.gzip', compression = 'gzip')"
   ]
  },
  {
   "cell_type": "code",
   "execution_count": null,
   "metadata": {},
   "outputs": [],
   "source": []
  }
 ],
 "metadata": {
  "kernelspec": {
   "display_name": "Python 3",
   "language": "python",
   "name": "python3"
  },
  "language_info": {
   "codemirror_mode": {
    "name": "ipython",
    "version": 3
   },
   "file_extension": ".py",
   "mimetype": "text/x-python",
   "name": "python",
   "nbconvert_exporter": "python",
   "pygments_lexer": "ipython3",
   "version": "3.7.3"
  }
 },
 "nbformat": 4,
 "nbformat_minor": 2
}
