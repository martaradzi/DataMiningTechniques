{
 "cells": [
  {
   "cell_type": "markdown",
   "metadata": {},
   "source": [
    "# Exploratory Data Analysis"
   ]
  },
  {
   "cell_type": "markdown",
   "metadata": {},
   "source": [
    "Importing the needed libraries"
   ]
  },
  {
   "cell_type": "code",
   "execution_count": 1,
   "metadata": {},
   "outputs": [],
   "source": [
    "import numpy as np\n",
    "\n",
    "import pandas as pd\n",
    "from pandas import Series,DataFrame\n",
    "\n",
    "import matplotlib.pyplot as plt\n",
    "\n",
    "import seaborn as sns\n",
    "sns.set_style('whitegrid')\n",
    "%matplotlib inline\n",
    "\n",
    "import datetime "
   ]
  },
  {
   "cell_type": "markdown",
   "metadata": {},
   "source": [
    "For reading in the files in parquet form, you might need to install the pyarrow engine from pandas"
   ]
  },
  {
   "cell_type": "code",
   "execution_count": null,
   "metadata": {},
   "outputs": [],
   "source": [
    "#pip install -U pyarrow"
   ]
  },
  {
   "cell_type": "markdown",
   "metadata": {},
   "source": [
    "Reading in the file data"
   ]
  },
  {
   "cell_type": "code",
   "execution_count": 2,
   "metadata": {},
   "outputs": [],
   "source": [
    "df = pd.read_parquet('training_set_VU_DM.parquet.gzip', engine = \"pyarrow\")"
   ]
  },
  {
   "cell_type": "markdown",
   "metadata": {},
   "source": [
    "Print out the information about the data"
   ]
  },
  {
   "cell_type": "code",
   "execution_count": 4,
   "metadata": {},
   "outputs": [
    {
     "name": "stdout",
     "output_type": "stream",
     "text": [
      "   srch_id            date_time  site_id  visitor_location_country_id  \\\n",
      "0        1  2013-04-04 08:32:15       12                          187   \n",
      "1        1  2013-04-04 08:32:15       12                          187   \n",
      "2        1  2013-04-04 08:32:15       12                          187   \n",
      "3        1  2013-04-04 08:32:15       12                          187   \n",
      "4        1  2013-04-04 08:32:15       12                          187   \n",
      "\n",
      "   visitor_hist_starrating  visitor_hist_adr_usd  prop_country_id  prop_id  \\\n",
      "0                      NaN                   NaN              219      893   \n",
      "1                      NaN                   NaN              219    10404   \n",
      "2                      NaN                   NaN              219    21315   \n",
      "3                      NaN                   NaN              219    27348   \n",
      "4                      NaN                   NaN              219    29604   \n",
      "\n",
      "   prop_starrating  prop_review_score  ...  comp6_rate_percent_diff  \\\n",
      "0                3                3.5  ...                      NaN   \n",
      "1                4                4.0  ...                      NaN   \n",
      "2                3                4.5  ...                      NaN   \n",
      "3                2                4.0  ...                      NaN   \n",
      "4                4                3.5  ...                      NaN   \n",
      "\n",
      "   comp7_rate  comp7_inv  comp7_rate_percent_diff  comp8_rate  comp8_inv  \\\n",
      "0         NaN        NaN                      NaN         0.0        0.0   \n",
      "1         NaN        NaN                      NaN         0.0        0.0   \n",
      "2         NaN        NaN                      NaN         0.0        0.0   \n",
      "3         NaN        NaN                      NaN        -1.0        0.0   \n",
      "4         NaN        NaN                      NaN         0.0        0.0   \n",
      "\n",
      "   comp8_rate_percent_diff  click_bool  gross_bookings_usd  booking_bool  \n",
      "0                      NaN           0                 NaN             0  \n",
      "1                      NaN           0                 NaN             0  \n",
      "2                      NaN           0                 NaN             0  \n",
      "3                      5.0           0                 NaN             0  \n",
      "4                      NaN           0                 NaN             0  \n",
      "\n",
      "[5 rows x 54 columns]\n",
      "<class 'pandas.core.frame.DataFrame'>\n",
      "RangeIndex: 4958347 entries, 0 to 4958346\n",
      "Data columns (total 54 columns):\n",
      "srch_id                        int64\n",
      "date_time                      object\n",
      "site_id                        int64\n",
      "visitor_location_country_id    int64\n",
      "visitor_hist_starrating        float64\n",
      "visitor_hist_adr_usd           float64\n",
      "prop_country_id                int64\n",
      "prop_id                        int64\n",
      "prop_starrating                int64\n",
      "prop_review_score              float64\n",
      "prop_brand_bool                int64\n",
      "prop_location_score1           float64\n",
      "prop_location_score2           float64\n",
      "prop_log_historical_price      float64\n",
      "position                       int64\n",
      "price_usd                      float64\n",
      "promotion_flag                 int64\n",
      "srch_destination_id            int64\n",
      "srch_length_of_stay            int64\n",
      "srch_booking_window            int64\n",
      "srch_adults_count              int64\n",
      "srch_children_count            int64\n",
      "srch_room_count                int64\n",
      "srch_saturday_night_bool       int64\n",
      "srch_query_affinity_score      float64\n",
      "orig_destination_distance      float64\n",
      "random_bool                    int64\n",
      "comp1_rate                     float64\n",
      "comp1_inv                      float64\n",
      "comp1_rate_percent_diff        float64\n",
      "comp2_rate                     float64\n",
      "comp2_inv                      float64\n",
      "comp2_rate_percent_diff        float64\n",
      "comp3_rate                     float64\n",
      "comp3_inv                      float64\n",
      "comp3_rate_percent_diff        float64\n",
      "comp4_rate                     float64\n",
      "comp4_inv                      float64\n",
      "comp4_rate_percent_diff        float64\n",
      "comp5_rate                     float64\n",
      "comp5_inv                      float64\n",
      "comp5_rate_percent_diff        float64\n",
      "comp6_rate                     float64\n",
      "comp6_inv                      float64\n",
      "comp6_rate_percent_diff        float64\n",
      "comp7_rate                     float64\n",
      "comp7_inv                      float64\n",
      "comp7_rate_percent_diff        float64\n",
      "comp8_rate                     float64\n",
      "comp8_inv                      float64\n",
      "comp8_rate_percent_diff        float64\n",
      "click_bool                     int64\n",
      "gross_bookings_usd             float64\n",
      "booking_bool                   int64\n",
      "dtypes: float64(34), int64(19), object(1)\n",
      "memory usage: 2.0+ GB\n"
     ]
    }
   ],
   "source": [
    "print (df.head(n=5))\n",
    "df.info()"
   ]
  },
  {
   "cell_type": "markdown",
   "metadata": {},
   "source": [
    "To start with, I will print the correlation matrix for all the variables apart from search id "
   ]
  },
  {
   "cell_type": "code",
   "execution_count": null,
   "metadata": {},
   "outputs": [],
   "source": [
    "fig, ax = plt.subplots()\n",
    "fig.set_size_inches(15, 10)\n",
    "#new_data = df.drop(['srch_id'], axis = 1)\n",
    "sns.heatmap(df.corr(),cmap='coolwarm',ax=ax,linewidths=2)"
   ]
  },
  {
   "cell_type": "markdown",
   "metadata": {},
   "source": [
    "**Analysis of data in regards to time**"
   ]
  },
  {
   "cell_type": "code",
   "execution_count": null,
   "metadata": {},
   "outputs": [],
   "source": [
    "df['date_time'] = pd.to_datetime(df['date_time'], errors='coerce')\n",
    "just_date = df.groupby([df['date_time'].dt.date]).size()\n",
    "print (just_date)\n",
    "print (\"Mean number of obesrvations per day = \" + str(just_date.mean()))\n",
    "print (\"Minimal number of observations per day = \" + str(just_date.min()))\n",
    "print (\"Maximum number of observations per day = \" + str(just_date.max()))"
   ]
  },
  {
   "cell_type": "code",
   "execution_count": null,
   "metadata": {},
   "outputs": [],
   "source": [
    "#Was trying to make a histogram of the months with the number of bookings but it didnt work out\n",
    "\n",
    "booked = df[df[\"booking_bool\"] == 1]\n",
    "not_booked = df[df[\"booking_bool\"] == 0]\n",
    "\n",
    "date_col = booked.groupby([booked['date_time'].dt.month])#.size().to_frame(name = 'months').reset_index()\n",
    "date_col = booked['date_time'].dt.month\n",
    "\n",
    "not_booked_date = not_booked.groupby([not_booked['date_time'].dt.month])#.size().to_frame(name = 'months').reset_index()\n",
    "not_booked_date = not_booked['date_time'].dt.month\n",
    "\n",
    "\n",
    "#not_booked_date = not_booked_date.to_frame()\n",
    "print (date_col.value_counts())\n",
    "print (not_booked_date.value_counts())\n"
   ]
  },
  {
   "cell_type": "markdown",
   "metadata": {},
   "source": [
    "**Starring analysis** - printing the box plot analysis for stars given for both the costumers and for the hotels"
   ]
  },
  {
   "cell_type": "code",
   "execution_count": null,
   "metadata": {},
   "outputs": [],
   "source": [
    "# Cusotmer Starring \n",
    "vis_stars = df['visitor_hist_starrating']\n",
    "vis_stars.dropna(inplace=True)\n",
    "#print(\"Number of not NaN values = \" + str(vis_stars.count()))\n",
    "#print (vis_stars.head)\n",
    "\n",
    "plt.boxplot(vis_stars)\n",
    "plt.show()\n",
    "\n",
    "print(\"Mean average of the costumers' star rating = \" + str(vis_stars.mean()))\n",
    "print(vis_stars.min())\n",
    "print(vis_stars.max())\n",
    "\n",
    "print(\"\\n\\n ---------------- \\n\\n\")\n",
    "\n",
    "# Hotels starring\n",
    "#prop_stars = df['prop_starrating']\n",
    "#prop_stars.dropna(inplace=True)\n",
    "#prop_stars = prop_stars.to_frame()\n",
    "prop_stars = df[df[\"prop_starrating\"] != 0]\n",
    "prop_stars = prop_stars['prop_starrating']\n",
    "\n",
    "plt.boxplot(prop_stars)\n",
    "plt.show()\n",
    "\n",
    "print(\"Mean average of the hotels' star rating = \" + str(prop_stars.mean()))\n",
    "print(prop_stars.min())\n",
    "print(prop_stars.max())"
   ]
  },
  {
   "cell_type": "markdown",
   "metadata": {},
   "source": [
    "**Hotel Analysis**"
   ]
  },
  {
   "cell_type": "code",
   "execution_count": null,
   "metadata": {},
   "outputs": [],
   "source": [
    "hotels_id = df['prop_id'].nunique()\n",
    "print (hotels_id)\n",
    "\n",
    "countries = df['prop_country_id'].nunique()\n",
    "print (countries)\n",
    "\n",
    "visitors = df['visitor_location_country_id'].nunique()\n",
    "print (visitors)\n"
   ]
  },
  {
   "cell_type": "markdown",
   "metadata": {},
   "source": [
    "\n",
    "**There is a booking_bool part in the original data which I cannot find the explanation for in the documentation but I am going to assume that it's if the booking was made or not**\n",
    "\n",
    "\n",
    "**Analysis of bookings**"
   ]
  },
  {
   "cell_type": "code",
   "execution_count": null,
   "metadata": {},
   "outputs": [],
   "source": [
    "# Search ended up with booking a hotel\n",
    "booked = df[df[\"booking_bool\"] == 1]\n",
    "#print (booked.head)\n",
    "\n",
    "# Histogram of countried to which people travel to most\n",
    "hist= booked.hist(column ='prop_country_id', bins = 172, figsize=(15,10), xlabelsize = 20)\n",
    "\n",
    "# countries =  booked.groupby(['prop_country_id'])\n",
    "# print (countries.size().max)"
   ]
  },
  {
   "cell_type": "code",
   "execution_count": null,
   "metadata": {},
   "outputs": [],
   "source": [
    "test_df = pd.read_parquet('test_set_VU_DM.parquet.gzip', engine = \"pyarrow\")"
   ]
  },
  {
   "cell_type": "code",
   "execution_count": null,
   "metadata": {},
   "outputs": [],
   "source": [
    "hist= test_df.hist(column ='visitor_location_country_id', bins = 172, figsize=(15,10), xlabelsize = 20)\n",
    "hist= df.hist(column ='visitor_location_country_id', bins = 172, figsize=(15,10), xlabelsize = 20)\n"
   ]
  },
  {
   "cell_type": "code",
   "execution_count": null,
   "metadata": {},
   "outputs": [],
   "source": [
    "# Search ended with not booking\n",
    "not_booked = df[df[\"booking_bool\"] == 0]\n",
    "\n",
    "#histogram of countried that people search for most \n",
    "hist= not_booked.hist(column ='prop_country_id', bins = 172, figsize=(15,10), xlabelsize = 20)\n",
    "\n",
    "# countries =  not_booked.groupby(['prop_country_id'])\n",
    "# print (countries.size().max())"
   ]
  },
  {
   "cell_type": "code",
   "execution_count": null,
   "metadata": {},
   "outputs": [],
   "source": [
    "# Plot number of hotels per country\n",
    "\n",
    "hist_data = df[['prop_id', 'prop_country_id']].copy()\n",
    "#print(hist_data.head())\n",
    "\n",
    "hist_data.drop_duplicates(subset = 'prop_id',keep='first', inplace=True)\n",
    "#print (hist_data)\n",
    "\n",
    "hist = hist_data.hist(column ='prop_country_id', bins = 172, figsize=(15,10))\n",
    "#print (hist_data.groupby('prop_country_id').count()) #print number of hotels per country"
   ]
  },
  {
   "cell_type": "markdown",
   "metadata": {},
   "source": [
    "Plotting possible outliers in the data"
   ]
  },
  {
   "cell_type": "code",
   "execution_count": null,
   "metadata": {},
   "outputs": [],
   "source": [
    "no_ints = df.drop(['srch_id','date_time','site_id','visitor_location_country_id','prop_id','prop_starrating','prop_brand_bool','position','promotion_flag','srch_destination_id','srch_length_of_stay','srch_booking_window','srch_adults_count','srch_children_count','srch_room_count','srch_saturday_night_bool','random_bool','click_bool','booking_bool'], axis = 1)\n",
    "no_ints.info()\n",
    "#,'prop_country_id'"
   ]
  },
  {
   "cell_type": "markdown",
   "metadata": {},
   "source": [
    "# Plotting the outliers of the data#"
   ]
  },
  {
   "cell_type": "code",
   "execution_count": null,
   "metadata": {},
   "outputs": [],
   "source": [
    "fig, ax = plt.subplots()\n",
    "fig.set_size_inches(15, 10)\n",
    "no_ints.plot(kind='box', rot=90, ax =ax)"
   ]
  },
  {
   "cell_type": "markdown",
   "metadata": {},
   "source": [
    "# We're trying to sort out how to fill in the missing values in orig_destination_distance"
   ]
  },
  {
   "cell_type": "code",
   "execution_count": 15,
   "metadata": {},
   "outputs": [],
   "source": [
    "kurwa = df[['prop_country_id', 'orig_destination_distance']]\n",
    "odpierdol_sie = df[['srch_id', 'orig_destination_distance']]\n",
    "chuj = df[['visitor_location_country_id', 'orig_destination_distance']]\n",
    "#print (kurwa)"
   ]
  },
  {
   "cell_type": "code",
   "execution_count": 16,
   "metadata": {},
   "outputs": [
    {
     "name": "stdout",
     "output_type": "stream",
     "text": [
      "kurwa:\n",
      "                 orig_destination_distance\n",
      "prop_country_id                           \n",
      "1                             5.979482e+05\n",
      "2                             1.578031e+06\n",
      "4                             4.661958e+06\n",
      "7                             5.186700e-01\n",
      "9                             1.651266e+06\n",
      "10                            1.250738e+07\n",
      "11                            2.287157e+05\n",
      "13                            5.055384e+06\n",
      "14                            2.793098e+06\n",
      "15                            4.524402e+06\n",
      "16                            3.840478e+06\n",
      "17                            1.125552e+06\n",
      "18                            8.874677e+05\n",
      "19                            3.474517e+06\n",
      "20                            4.811089e+06\n",
      "21                            4.534979e+06\n",
      "22                            6.128522e+06\n",
      "23                            5.384445e+06\n",
      "25                            1.607337e+01\n",
      "26                            5.495894e+06\n",
      "27                            7.877885e+05\n",
      "30                            2.359631e+06\n",
      "31                            8.262958e+06\n",
      "32                            8.582448e+06\n",
      "33                            3.386914e+06\n",
      "34                            5.702176e+06\n",
      "35                            1.061752e+06\n",
      "37                            3.588315e+05\n",
      "38                            9.860809e+03\n",
      "39                            7.148366e+06\n",
      "...                                    ...\n",
      "194                           3.518644e+06\n",
      "195                           1.293342e+06\n",
      "196                           7.797878e+00\n",
      "197                           7.702592e+04\n",
      "200                           4.544381e+06\n",
      "201                           7.148089e+04\n",
      "202                           1.000450e+07\n",
      "203                           1.860646e+05\n",
      "204                           1.401489e+03\n",
      "205                           2.127392e+06\n",
      "206                           3.116013e+06\n",
      "207                           1.555625e+07\n",
      "208                           7.271548e+06\n",
      "211                           7.580482e+05\n",
      "212                           9.719771e+05\n",
      "213                           6.742293e+06\n",
      "214                           1.312461e+04\n",
      "215                           6.462795e+06\n",
      "216                           1.372524e+06\n",
      "217                           4.037638e+01\n",
      "219                           1.582762e+06\n",
      "220                           8.222585e+06\n",
      "221                           9.170942e+06\n",
      "222                           2.438713e+01\n",
      "223                           6.746172e+06\n",
      "224                           3.194532e+06\n",
      "225                           1.330313e+06\n",
      "226                           4.354380e+00\n",
      "229                           2.900429e+06\n",
      "230                           4.512064e+05\n",
      "\n",
      "[172 rows x 1 columns]\n",
      "ppp: \n",
      "         orig_destination_distance\n",
      "srch_id                           \n",
      "1                              NaN\n",
      "4                         1.750437\n",
      "6                         0.000800\n",
      "8                         3.552816\n",
      "11                       17.236867\n",
      "12                       20.487307\n",
      "17                        0.072541\n",
      "21                             NaN\n",
      "25                        2.389217\n",
      "28                        7.681966\n",
      "29                        0.425825\n",
      "30                             NaN\n",
      "31                             NaN\n",
      "36                             NaN\n",
      "39                       27.814862\n",
      "40                             NaN\n",
      "42                        1.022102\n",
      "43                        0.401727\n",
      "44                             NaN\n",
      "45                             NaN\n",
      "46                             NaN\n",
      "47                        0.396859\n",
      "49                        0.014896\n",
      "52                        2.625684\n",
      "53                        9.576184\n",
      "56                        5.312137\n",
      "57                        2.525744\n",
      "60                       29.394528\n",
      "61                        5.117279\n",
      "63                        0.167181\n",
      "...                            ...\n",
      "332731                    8.007155\n",
      "332732                   57.725540\n",
      "332735                         NaN\n",
      "332736                         NaN\n",
      "332738                   16.725120\n",
      "332740                         NaN\n",
      "332741                   92.348448\n",
      "332742                         NaN\n",
      "332747                    7.999798\n",
      "332748                         NaN\n",
      "332749                    4.155513\n",
      "332750                   12.286655\n",
      "332751                    0.023620\n",
      "332752                   58.434296\n",
      "332753                   27.506114\n",
      "332754                         NaN\n",
      "332755                   83.521716\n",
      "332757                    2.628013\n",
      "332761                         NaN\n",
      "332763                    0.022497\n",
      "332765                    0.108711\n",
      "332768                   23.636790\n",
      "332772                    0.400543\n",
      "332774                    5.108304\n",
      "332776                    3.156307\n",
      "332777                    4.493534\n",
      "332781                   28.786841\n",
      "332782                         NaN\n",
      "332784                    0.171655\n",
      "332785                  505.686240\n",
      "\n",
      "[199795 rows x 1 columns]\n",
      "chuj: \n",
      "                             orig_destination_distance\n",
      "visitor_location_country_id                           \n",
      "1                                                  NaN\n",
      "2                                                  NaN\n",
      "3                                                  NaN\n",
      "4                                         4.308389e+06\n",
      "5                                                  NaN\n",
      "6                                                  NaN\n",
      "7                                                  NaN\n",
      "9                                                  NaN\n",
      "10                                        3.341615e+05\n",
      "11                                                 NaN\n",
      "12                                                 NaN\n",
      "13                                                 NaN\n",
      "14                                                 NaN\n",
      "15                                                 NaN\n",
      "16                                                 NaN\n",
      "17                                                 NaN\n",
      "18                                                 NaN\n",
      "19                                                 NaN\n",
      "20                                                 NaN\n",
      "21                                                 NaN\n",
      "22                                                 NaN\n",
      "23                                                 NaN\n",
      "25                                        1.727355e+06\n",
      "26                                                 NaN\n",
      "27                                                 NaN\n",
      "28                                                 NaN\n",
      "29                                                 NaN\n",
      "30                                                 NaN\n",
      "31                                        3.613810e+06\n",
      "32                                        5.877145e+06\n",
      "...                                                ...\n",
      "201                                       5.243741e+06\n",
      "202                                       7.218456e+06\n",
      "203                                                NaN\n",
      "204                                                NaN\n",
      "205                                                NaN\n",
      "206                                                NaN\n",
      "207                                                NaN\n",
      "208                                                NaN\n",
      "209                                                NaN\n",
      "210                                                NaN\n",
      "211                                                NaN\n",
      "212                                                NaN\n",
      "213                                                NaN\n",
      "214                                                NaN\n",
      "215                                       4.805760e+04\n",
      "216                                                NaN\n",
      "217                                                NaN\n",
      "218                                                NaN\n",
      "219                                       2.571890e+06\n",
      "220                                       1.499087e+07\n",
      "221                                                NaN\n",
      "222                                                NaN\n",
      "223                                                NaN\n",
      "224                                                NaN\n",
      "226                                                NaN\n",
      "227                                                NaN\n",
      "228                                                NaN\n",
      "229                                                NaN\n",
      "230                                                NaN\n",
      "231                                                NaN\n",
      "\n",
      "[210 rows x 1 columns]\n"
     ]
    }
   ],
   "source": [
    "kurwa_dwa = kurwa.groupby('prop_country_id').var()\n",
    "print (\"kurwa:\")\n",
    "print (kkk)\n",
    "\n",
    "\n",
    "pierdol_sie_tez = odpierdol_sie.groupby('srch_id').var()\n",
    "print (\"ppp: \")\n",
    "print (ppp)\n",
    "\n",
    "\n",
    "chuj_ci_w_dupe = chuj.groupby('visitor_location_country_id').var()\n",
    "print (\"chuj: \")\n",
    "print (ccc)\n",
    "\n",
    "#kurwa[['prop_country_id', 'orig_destination_distance']].to_csv(\"kurwa.csv\")"
   ]
  },
  {
   "cell_type": "code",
   "execution_count": null,
   "metadata": {},
   "outputs": [],
   "source": [
    "print (\"max:\")\n",
    "print (df['orig_destination_distance'].max())\n",
    "print (\"\\n \\n min:\")\n",
    "print (df['orig_destination_distance'].min())\n",
    "print (\"\\n \\n mean:\")\n",
    "print (df['orig_destination_distance'].mean())"
   ]
  },
  {
   "cell_type": "code",
   "execution_count": 21,
   "metadata": {},
   "outputs": [
    {
     "data": {
      "text/plain": [
       "[<matplotlib.lines.Line2D at 0x173840c5748>]"
      ]
     },
     "execution_count": 21,
     "metadata": {},
     "output_type": "execute_result"
    },
    {
     "data": {
      "image/png": "[encoded data removed]",
      "text/plain": [
       "<Figure size 432x288 with 1 Axes>"
      ]
     },
     "metadata": {
      "needs_background": "light"
     },
     "output_type": "display_data"
    }
   ],
   "source": [
    "plt.plot(kurwa_dwa)"
   ]
  },
  {
   "cell_type": "code",
   "execution_count": 20,
   "metadata": {},
   "outputs": [
    {
     "data": {
      "text/plain": [
       "[<matplotlib.lines.Line2D at 0x173839ef2b0>]"
      ]
     },
     "execution_count": 20,
     "metadata": {},
     "output_type": "execute_result"
    },
    {
     "data": {
      "image/png": "[encoded data removed]",
      "text/plain": [
       "<Figure size 432x288 with 1 Axes>"
      ]
     },
     "metadata": {
      "needs_background": "light"
     },
     "output_type": "display_data"
    }
   ],
   "source": [
    "plt.plot(pierdol_sie_tez)"
   ]
  },
  {
   "cell_type": "code",
   "execution_count": 22,
   "metadata": {},
   "outputs": [
    {
     "data": {
      "text/plain": [
       "[<matplotlib.lines.Line2D at 0x17384112e80>]"
      ]
     },
     "execution_count": 22,
     "metadata": {},
     "output_type": "execute_result"
    },
    {
     "data": {
      "image/png": "[encoded data removed]",
      "text/plain": [
       "<Figure size 432x288 with 1 Axes>"
      ]
     },
     "metadata": {
      "needs_background": "light"
     },
     "output_type": "display_data"
    }
   ],
   "source": [
    "plt.plot(chuj_ci_w_dupe)"
   ]
  },
  {
   "cell_type": "code",
   "execution_count": null,
   "metadata": {},
   "outputs": [],
   "source": []
  }
 ],
 "metadata": {
  "kernelspec": {
   "display_name": "Python 3",
   "language": "python",
   "name": "python3"
  },
  "language_info": {
   "codemirror_mode": {
    "name": "ipython",
    "version": 3
   },
   "file_extension": ".py",
   "mimetype": "text/x-python",
   "name": "python",
   "nbconvert_exporter": "python",
   "pygments_lexer": "ipython3",
   "version": "3.7.3"
  }
 },
 "nbformat": 4,
 "nbformat_minor": 2
}
