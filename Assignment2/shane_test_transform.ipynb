{
 "cells": [
  {
   "cell_type": "code",
   "execution_count": 1,
   "metadata": {},
   "outputs": [],
   "source": [
    "import pandas as pd  \n",
    "import numpy as np \n",
    "import matplotlib.pyplot as plt\n",
    "from sklearn.ensemble import RandomForestRegressor\n",
    "from sklearn.preprocessing import MinMaxScaler\n",
    "from sklearn.preprocessing import RobustScaler\n",
    "from sklearn.model_selection import train_test_split\n",
    "from sklearn.metrics import classification_report, confusion_matrix  \n",
    "from sklearn.metrics import roc_auc_score\n",
    "from sklearn.metrics import classification_report, confusion_matrix  \n",
    "from sklearn import metrics\n",
    "from sklearn.tree import export_graphviz\n",
    "from sklearn.model_selection import cross_val_score\n",
    "from pprint import pprint\n",
    "\n",
    "pd.options.mode.chained_assignment = None  # default='warn'"
   ]
  },
  {
   "cell_type": "markdown",
   "metadata": {},
   "source": [
    "### Read in training data"
   ]
  },
  {
   "cell_type": "code",
   "execution_count": 2,
   "metadata": {},
   "outputs": [],
   "source": [
    "x = pd.read_parquet('test_set_VU_DM.parquet.gzip')"
   ]
  },
  {
   "cell_type": "markdown",
   "metadata": {},
   "source": [
    "### Some feature engineering"
   ]
  },
  {
   "cell_type": "code",
   "execution_count": 3,
   "metadata": {},
   "outputs": [],
   "source": [
    "# if countries are the same for hotel and user\n",
    "x['same_location'] = np.where(x['prop_country_id'] == x['visitor_location_country_id'], 1, 0)\n",
    "\n",
    "# fill nans for prop_location_score2 with prop_location_score1 (since only ~20% missing. note: scaling is different)\n",
    "multiplier = x['prop_location_score2'].mean() / x['prop_location_score1'].mean()\n",
    "x['prop_location_score2'].fillna(x['prop_location_score1'] * multiplier, inplace=True)\n",
    "\n",
    "# fill nans for review score with the mean of all review scores\n",
    "x['prop_review_score'].fillna(x['prop_review_score'].mean(), inplace=True)\n",
    "\n",
    "##### THESE WILL BE DELETED LATER, STILL TOO MUCH MISSING DATA AFTERWARDS #####\n",
    "x['visitor_hist_starrating'].fillna(0, inplace=True)\n",
    "x['visitor_hist_adr_usd'].fillna(0, inplace=True)\n",
    "x['has_rate_hist'] = np.where((x['visitor_hist_starrating'] > 0) & (x['visitor_hist_adr_usd'] > 0), 1, 0)"
   ]
  },
  {
   "cell_type": "markdown",
   "metadata": {},
   "source": [
    "### Fill missing orig_destination_distance data with mean distance for that property id"
   ]
  },
  {
   "cell_type": "code",
   "execution_count": 4,
   "metadata": {},
   "outputs": [],
   "source": [
    "x[\"distance\"] = x.groupby('prop_id')['orig_destination_distance'].transform(lambda x: x.fillna(x.mean()))"
   ]
  },
  {
   "cell_type": "markdown",
   "metadata": {},
   "source": [
    "### Normalize price based on prop_country_id"
   ]
  },
  {
   "cell_type": "code",
   "execution_count": 5,
   "metadata": {},
   "outputs": [],
   "source": [
    "# x['new_price'] = x.groupby('prop_country_id')['price_usd'].transform(lambda x: (x - x.mean()) / x.std())"
   ]
  },
  {
   "cell_type": "markdown",
   "metadata": {},
   "source": [
    "### Use robust scaler on the distances"
   ]
  },
  {
   "cell_type": "code",
   "execution_count": 6,
   "metadata": {},
   "outputs": [],
   "source": [
    "# x['distance'] = RobustScaler().fit_transform(np.array(x['distance'], dtype = float).reshape(-1, 1))"
   ]
  },
  {
   "cell_type": "markdown",
   "metadata": {},
   "source": [
    "### New features for competitor rates"
   ]
  },
  {
   "cell_type": "code",
   "execution_count": 7,
   "metadata": {},
   "outputs": [],
   "source": [
    "x_copy = x[['comp1_rate','comp2_rate','comp3_rate','comp4_rate','comp5_rate','comp6_rate','comp7_rate','comp8_rate']].copy()\n",
    "x['comp_rate_lower'] = (x_copy == -1).T.sum()\n",
    "x['comp_rate_equal'] = (x_copy == 0).T.sum()\n",
    "x['comp_rate_higher'] = (x_copy == 1).T.sum()"
   ]
  },
  {
   "cell_type": "markdown",
   "metadata": {},
   "source": [
    "### New features for competitor availability"
   ]
  },
  {
   "cell_type": "code",
   "execution_count": 8,
   "metadata": {},
   "outputs": [],
   "source": [
    "x_copy = x[['comp1_inv','comp2_inv','comp3_inv','comp4_inv','comp5_inv','comp6_inv','comp7_inv','comp8_inv']].copy()\n",
    "x['comp_inv_same'] = (x_copy == 0).T.sum()\n",
    "x['comp_inv_better'] = (x_copy == 1).T.sum()"
   ]
  },
  {
   "cell_type": "markdown",
   "metadata": {},
   "source": [
    "### New features for competitor rate percent difference"
   ]
  },
  {
   "cell_type": "code",
   "execution_count": 9,
   "metadata": {},
   "outputs": [],
   "source": [
    "x_copy = x[['comp1_rate_percent_diff','comp2_rate_percent_diff','comp3_rate_percent_diff','comp4_rate_percent_diff','comp5_rate_percent_diff','comp6_rate_percent_diff','comp7_rate_percent_diff','comp8_rate_percent_diff']].copy()\n",
    "x['comp_rate_percent_diff_low'] = x_copy.T.min()\n",
    "x['comp_rate_percent_diff_high'] = x_copy.T.max()"
   ]
  },
  {
   "cell_type": "markdown",
   "metadata": {},
   "source": [
    "### Delete the old competitor data"
   ]
  },
  {
   "cell_type": "code",
   "execution_count": 10,
   "metadata": {},
   "outputs": [],
   "source": [
    "x.drop(['comp1_rate','comp2_rate','comp3_rate','comp4_rate','comp5_rate','comp6_rate','comp7_rate','comp8_rate'], axis=1,inplace=True)\n",
    "x.drop(['comp1_inv','comp2_inv','comp3_inv','comp4_inv','comp5_inv','comp6_inv','comp7_inv','comp8_inv'], axis=1,inplace=True)\n",
    "x.drop(['comp1_rate_percent_diff','comp2_rate_percent_diff','comp3_rate_percent_diff','comp4_rate_percent_diff','comp5_rate_percent_diff','comp6_rate_percent_diff','comp7_rate_percent_diff','comp8_rate_percent_diff'], axis=1,inplace=True)"
   ]
  },
  {
   "cell_type": "markdown",
   "metadata": {},
   "source": [
    "### Fill remaining NaN values"
   ]
  },
  {
   "cell_type": "code",
   "execution_count": 11,
   "metadata": {},
   "outputs": [],
   "source": [
    "x['distance'].fillna(x['distance'].mean(), inplace=True)"
   ]
  },
  {
   "cell_type": "markdown",
   "metadata": {},
   "source": [
    "### Delete irrelevant columns"
   ]
  },
  {
   "cell_type": "code",
   "execution_count": 12,
   "metadata": {
    "scrolled": true
   },
   "outputs": [],
   "source": [
    "del x['date_time']\n",
    "del x['site_id']\n",
    "del x['visitor_location_country_id']\n",
    "del x['prop_country_id']\n",
    "del x['visitor_hist_starrating']\n",
    "del x['visitor_hist_adr_usd']\n",
    "del x['orig_destination_distance']\n",
    "del x['srch_query_affinity_score']\n",
    "del x['srch_destination_id']\n",
    "# del x['price_usd']"
   ]
  },
  {
   "cell_type": "markdown",
   "metadata": {},
   "source": [
    "### Delete the competitor low/high rate percent differences for now, since ~68% of entries have no values at all. Also delete users that have booked & rated in the past, since ~95% of this is still empty"
   ]
  },
  {
   "cell_type": "code",
   "execution_count": 13,
   "metadata": {},
   "outputs": [],
   "source": [
    "del x['comp_rate_percent_diff_low']\n",
    "del x['comp_rate_percent_diff_high']\n",
    "del x['has_rate_hist']"
   ]
  },
  {
   "cell_type": "markdown",
   "metadata": {},
   "source": [
    "### Try deleting these for the 3rd run to see how it goes"
   ]
  },
  {
   "cell_type": "code",
   "execution_count": 14,
   "metadata": {},
   "outputs": [],
   "source": [
    "del x['srch_booking_window']\n",
    "del x['srch_adults_count']\n",
    "del x['srch_children_count']\n",
    "del x['srch_room_count']\n",
    "del x['srch_saturday_night_bool']\n",
    "del x['srch_length_of_stay']"
   ]
  },
  {
   "cell_type": "markdown",
   "metadata": {},
   "source": [
    "### Combine some competitor features, since some of these columns were quite thin"
   ]
  },
  {
   "cell_type": "code",
   "execution_count": 15,
   "metadata": {},
   "outputs": [],
   "source": [
    "del x['comp_rate_lower']\n",
    "\n",
    "x['rate_equal_or_better'] = x['comp_rate_equal'] + x['comp_rate_higher']\n",
    "del x['comp_rate_equal']\n",
    "del x['comp_rate_higher']\n",
    "\n",
    "x['inv_equal_or_better'] = x['comp_inv_same'] + x['comp_inv_better']\n",
    "del x['comp_inv_same']\n",
    "del x['comp_inv_better']"
   ]
  },
  {
   "cell_type": "markdown",
   "metadata": {},
   "source": [
    "### Make sure we have no missing values"
   ]
  },
  {
   "cell_type": "code",
   "execution_count": 16,
   "metadata": {
    "scrolled": true
   },
   "outputs": [
    {
     "data": {
      "text/plain": [
       "srch_id                      0.0\n",
       "prop_id                      0.0\n",
       "prop_starrating              0.0\n",
       "prop_review_score            0.0\n",
       "prop_brand_bool              0.0\n",
       "prop_location_score1         0.0\n",
       "prop_location_score2         0.0\n",
       "prop_log_historical_price    0.0\n",
       "price_usd                    0.0\n",
       "promotion_flag               0.0\n",
       "random_bool                  0.0\n",
       "same_location                0.0\n",
       "distance                     0.0\n",
       "rate_equal_or_better         0.0\n",
       "inv_equal_or_better          0.0\n",
       "dtype: float64"
      ]
     },
     "execution_count": 16,
     "metadata": {},
     "output_type": "execute_result"
    }
   ],
   "source": [
    "missing_values = x.isna().mean() * 100\n",
    "missing_values"
   ]
  },
  {
   "cell_type": "code",
   "execution_count": 17,
   "metadata": {},
   "outputs": [
    {
     "data": {
      "text/plain": [
       "<bound method NDFrame.head of          srch_id  prop_id  prop_starrating  prop_review_score  \\\n",
       "0              1     3180                3                4.5   \n",
       "1              1     5543                3                4.5   \n",
       "2              1    14142                2                3.5   \n",
       "3              1    22393                3                4.5   \n",
       "4              1    24194                3                4.5   \n",
       "5              1    28181                3                4.5   \n",
       "6              1    34263                3                4.5   \n",
       "7              1    37567                2                4.5   \n",
       "8              1    50162                2                3.5   \n",
       "9              1    54937                3                4.0   \n",
       "10             1    56050                3                4.0   \n",
       "11             1    61632                0                0.0   \n",
       "12             1    61934                3                4.5   \n",
       "13             1    63894                3                4.5   \n",
       "14             1    72090                3                4.0   \n",
       "15             1    73666                3                4.5   \n",
       "16             1    74045                3                4.0   \n",
       "17             1    78599                4                4.5   \n",
       "18             1    82231                3                4.5   \n",
       "19             1    89466                2                3.0   \n",
       "20             1    90385                3                4.5   \n",
       "21             1    94729                3                4.5   \n",
       "22             1    95031                3                3.5   \n",
       "23             1    99484                3                4.0   \n",
       "24             1   123675                3                4.5   \n",
       "25             1   128085                2                3.0   \n",
       "26             1   128871                2                3.0   \n",
       "27             1   134992                2                5.0   \n",
       "28             1   139162                3                4.5   \n",
       "29             3     6533                4                4.0   \n",
       "...          ...      ...              ...                ...   \n",
       "4959153   332785   131771                3                3.5   \n",
       "4959154   332785   135401                4                4.5   \n",
       "4959155   332786    15662                4                4.5   \n",
       "4959156   332786    19265                2                3.5   \n",
       "4959157   332786    29028                4                4.5   \n",
       "4959158   332786    36331                3                4.5   \n",
       "4959159   332786    43698                4                4.5   \n",
       "4959160   332786    45449                4                4.0   \n",
       "4959161   332786    46497                4                4.5   \n",
       "4959162   332786    54775                4                4.5   \n",
       "4959163   332786    54994                4                5.0   \n",
       "4959164   332786    59590                3                3.5   \n",
       "4959165   332786    63164                4                4.5   \n",
       "4959166   332786    92950                5                5.0   \n",
       "4959167   332786    98306                4                3.5   \n",
       "4959168   332786   101905                5                4.5   \n",
       "4959169   332786   103457                4                4.5   \n",
       "4959170   332786   113183                3                4.5   \n",
       "4959171   332786   117267                4                4.5   \n",
       "4959172   332786   125075                4                4.5   \n",
       "4959173   332786   127402                5                4.5   \n",
       "4959174   332786   128251                3                4.0   \n",
       "4959175   332786   135414                3                4.0   \n",
       "4959176   332787    22854                5                4.5   \n",
       "4959177   332787    29018                4                5.0   \n",
       "4959178   332787    32019                4                3.5   \n",
       "4959179   332787    33959                4                3.0   \n",
       "4959180   332787    35240                4                0.0   \n",
       "4959181   332787    94437                4                0.0   \n",
       "4959182   332787    99509                4                4.5   \n",
       "\n",
       "         prop_brand_bool  prop_location_score1  prop_location_score2  \\\n",
       "0                      1                  2.94              0.069100   \n",
       "1                      1                  2.64              0.084300   \n",
       "2                      1                  2.71              0.055600   \n",
       "3                      1                  2.40              0.056100   \n",
       "4                      1                  2.94              0.209000   \n",
       "5                      1                  2.30              0.182600   \n",
       "6                      1                  3.09              0.130000   \n",
       "7                      0                  2.83              0.013800   \n",
       "8                      1                  2.20              0.080800   \n",
       "9                      1                  2.08              0.164900   \n",
       "10                     1                  2.77              0.121000   \n",
       "11                     0                  3.04              0.013600   \n",
       "12                     1                  2.89              0.242500   \n",
       "13                     1                  2.77              0.226100   \n",
       "14                     1                  2.89              0.046600   \n",
       "15                     1                  2.89              0.227200   \n",
       "16                     1                  2.77              0.200300   \n",
       "17                     1                  2.30              0.089500   \n",
       "18                     1                  2.77              0.209000   \n",
       "19                     0                  2.08              0.077800   \n",
       "20                     1                  2.77              0.056900   \n",
       "21                     1                  2.83              0.239500   \n",
       "22                     1                  2.83              0.090800   \n",
       "23                     1                  2.40              0.218200   \n",
       "24                     1                  2.83              0.230300   \n",
       "25                     1                  2.40              0.051800   \n",
       "26                     1                  2.56              0.046900   \n",
       "27                     1                  3.04              0.140100   \n",
       "28                     1                  2.20              0.061800   \n",
       "29                     1                  2.30              0.104204   \n",
       "...                  ...                   ...                   ...   \n",
       "4959153                0                  5.05              0.173000   \n",
       "4959154                0                  5.14              0.276000   \n",
       "4959155                0                  3.37              0.034400   \n",
       "4959156                1                  2.89              0.016800   \n",
       "4959157                1                  2.77              0.008500   \n",
       "4959158                0                  3.04              0.137900   \n",
       "4959159                1                  2.89              0.173300   \n",
       "4959160                1                  2.77              0.103300   \n",
       "4959161                0                  0.69              0.034400   \n",
       "4959162                1                  2.77              0.139400   \n",
       "4959163                1                  2.94              0.130200   \n",
       "4959164                1                  1.61              0.053200   \n",
       "4959165                1                  0.00              0.003900   \n",
       "4959166                1                  3.00              0.051200   \n",
       "4959167                1                  2.77              0.125498   \n",
       "4959168                1                  2.89              0.041300   \n",
       "4959169                1                  2.77              0.141000   \n",
       "4959170                1                  3.43              0.043600   \n",
       "4959171                1                  2.94              0.115300   \n",
       "4959172                1                  3.09              0.030400   \n",
       "4959173                1                  2.56              0.048300   \n",
       "4959174                1                  3.33              0.041000   \n",
       "4959175                1                  2.83              0.065100   \n",
       "4959176                1                  2.30              0.193500   \n",
       "4959177                1                  2.56              0.053800   \n",
       "4959178                0                  2.48              0.055100   \n",
       "4959179                1                  2.20              0.334400   \n",
       "4959180                0                  1.79              0.081098   \n",
       "4959181                0                  2.94              0.092800   \n",
       "4959182                1                  2.08              0.034400   \n",
       "\n",
       "         prop_log_historical_price  price_usd  promotion_flag  random_bool  \\\n",
       "0                             5.03     119.00               0            0   \n",
       "1                             4.93     118.00               0            0   \n",
       "2                             4.16      49.00               0            0   \n",
       "3                             5.03     143.00               0            0   \n",
       "4                             4.72      79.00               0            0   \n",
       "5                             4.68      84.15               0            0   \n",
       "6                             4.63      79.00               0            0   \n",
       "7                             4.21      52.40               1            0   \n",
       "8                             4.36      49.99               1            0   \n",
       "9                             4.75      83.30               1            0   \n",
       "10                            4.59     145.00               0            0   \n",
       "11                            4.62      45.00               0            0   \n",
       "12                            4.69      88.88               1            0   \n",
       "13                            4.88     103.98               0            0   \n",
       "14                            4.95      79.00               0            0   \n",
       "15                            4.79     149.00               0            0   \n",
       "16                            4.56      89.99               0            0   \n",
       "17                            5.06     158.87               0            0   \n",
       "18                            4.92     104.00               0            0   \n",
       "19                            4.31      58.57               0            0   \n",
       "20                            4.40      64.00               0            0   \n",
       "21                            4.82     139.00               0            0   \n",
       "22                            4.50      69.00               0            0   \n",
       "23                            4.54      69.00               1            0   \n",
       "24                            4.66     109.00               0            0   \n",
       "25                            4.19      47.97               1            0   \n",
       "26                            4.21      55.00               0            0   \n",
       "27                            4.31     119.00               0            0   \n",
       "28                            5.03     169.00               0            0   \n",
       "29                            4.80     139.00               0            0   \n",
       "...                            ...        ...             ...          ...   \n",
       "4959153                       4.90     173.34               0            1   \n",
       "4959154                       5.31     190.28               0            1   \n",
       "4959155                       5.62     285.00               0            1   \n",
       "4959156                       5.18      95.00               0            1   \n",
       "4959157                       5.97     299.00               1            1   \n",
       "4959158                       5.76     169.00               1            1   \n",
       "4959159                       6.21     439.00               0            1   \n",
       "4959160                       5.88     245.00               1            1   \n",
       "4959161                       6.03     270.00               0            1   \n",
       "4959162                       6.14     569.00               0            1   \n",
       "4959163                       6.21     339.00               0            1   \n",
       "4959164                       5.09     126.00               0            1   \n",
       "4959165                       5.60     199.00               0            1   \n",
       "4959166                       6.21     525.00               0            1   \n",
       "4959167                       6.14     489.00               0            1   \n",
       "4959168                       6.21     519.00               0            1   \n",
       "4959169                       6.21     255.00               1            1   \n",
       "4959170                       5.91     299.00               1            1   \n",
       "4959171                       5.91     259.00               1            1   \n",
       "4959172                       6.21     349.00               0            1   \n",
       "4959173                       6.21     429.00               0            1   \n",
       "4959174                       5.63     175.00               1            1   \n",
       "4959175                       5.80     218.00               1            1   \n",
       "4959176                       4.96     109.71               0            0   \n",
       "4959177                       4.64      70.05               0            0   \n",
       "4959178                       4.53      66.07               0            0   \n",
       "4959179                       4.39      67.10               0            0   \n",
       "4959180                       4.64      73.91               0            0   \n",
       "4959181                       4.64      66.07               0            0   \n",
       "4959182                       4.64      82.06               0            0   \n",
       "\n",
       "         same_location     distance  rate_equal_or_better  inv_equal_or_better  \n",
       "0                    0   758.355488                     0                    0  \n",
       "1                    0   687.263911                     1                    1  \n",
       "2                    0   725.476288                     2                    2  \n",
       "3                    0   788.461473                     2                    2  \n",
       "4                    0   682.800419                     2                    2  \n",
       "5                    0   689.957390                     0                    0  \n",
       "6                    0   708.785140                     2                    2  \n",
       "7                    0   735.273052                     2                    2  \n",
       "8                    0   693.489077                     1                    2  \n",
       "9                    0   761.929160                     1                    1  \n",
       "10                   0   745.476829                     0                    1  \n",
       "11                   0   695.308710                     1                    1  \n",
       "12                   0   648.484218                     1                    1  \n",
       "13                   0   723.361409                     2                    2  \n",
       "14                   0   709.783313                     2                    2  \n",
       "15                   0   742.852047                     2                    2  \n",
       "16                   0   690.787074                     2                    2  \n",
       "17                   0   631.907963                     1                    1  \n",
       "18                   0   751.992099                     2                    2  \n",
       "19                   0   553.574000                     1                    1  \n",
       "20                   0   739.758611                     2                    2  \n",
       "21                   0   718.373742                     2                    2  \n",
       "22                   0   793.432733                     2                    2  \n",
       "23                   0   684.685731                     2                    2  \n",
       "24                   0   738.289429                     2                    2  \n",
       "25                   0   742.835207                     2                    2  \n",
       "26                   0   688.228015                     2                    2  \n",
       "27                   0   740.108279                     2                    2  \n",
       "28                   0   716.599114                     0                    0  \n",
       "29                   1    62.460000                     4                    4  \n",
       "...                ...          ...                   ...                  ...  \n",
       "4959153              0   388.560000                     4                    4  \n",
       "4959154              0   388.340000                     2                    2  \n",
       "4959155              1  2557.590000                     1                    1  \n",
       "4959156              1  2556.740000                     4                    4  \n",
       "4959157              1  2558.280000                     4                    4  \n",
       "4959158              1  2564.920000                     1                    3  \n",
       "4959159              1  2565.130000                     2                    2  \n",
       "4959160              1  2564.600000                     2                    4  \n",
       "4959161              1  2559.610000                     4                    4  \n",
       "4959162              1  2565.250000                     1                    4  \n",
       "4959163              1  2564.040000                     2                    2  \n",
       "4959164              1  2553.370000                     4                    4  \n",
       "4959165              1  2552.270000                     4                    4  \n",
       "4959166              1  2558.710000                     3                    2  \n",
       "4959167              1  2565.250000                     1                    3  \n",
       "4959168              1  2558.760000                     4                    4  \n",
       "4959169              1  2565.250000                     4                    4  \n",
       "4959170              1  2558.010000                     2                    2  \n",
       "4959171              1  2563.840000                     0                    0  \n",
       "4959172              1  2558.310000                     4                    4  \n",
       "4959173              1  2560.300000                     4                    4  \n",
       "4959174              1  2557.770000                     4                    4  \n",
       "4959175              1  2563.690000                     3                    4  \n",
       "4959176              0  6295.990000                     4                    4  \n",
       "4959177              0  7628.020000                     3                    3  \n",
       "4959178              0  6062.028333                     3                    4  \n",
       "4959179              0  5952.285000                     4                    4  \n",
       "4959180              0  7627.540000                     4                    4  \n",
       "4959181              0  7102.340000                     2                    4  \n",
       "4959182              0  7026.336667                     4                    4  \n",
       "\n",
       "[4959183 rows x 15 columns]>"
      ]
     },
     "execution_count": 17,
     "metadata": {},
     "output_type": "execute_result"
    }
   ],
   "source": [
    "x.head"
   ]
  },
  {
   "cell_type": "markdown",
   "metadata": {},
   "source": [
    "### Save the modified parquet up to this point"
   ]
  },
  {
   "cell_type": "code",
   "execution_count": 18,
   "metadata": {},
   "outputs": [],
   "source": [
    "x.to_parquet('test_set_v3.parquet.gzip', compression = 'gzip')"
   ]
  },
  {
   "cell_type": "code",
   "execution_count": null,
   "metadata": {},
   "outputs": [],
   "source": []
  }
 ],
 "metadata": {
  "kernelspec": {
   "display_name": "Python 3",
   "language": "python",
   "name": "python3"
  },
  "language_info": {
   "codemirror_mode": {
    "name": "ipython",
    "version": 3
   },
   "file_extension": ".py",
   "mimetype": "text/x-python",
   "name": "python",
   "nbconvert_exporter": "python",
   "pygments_lexer": "ipython3",
   "version": "3.5.2"
  }
 },
 "nbformat": 4,
 "nbformat_minor": 2
}
