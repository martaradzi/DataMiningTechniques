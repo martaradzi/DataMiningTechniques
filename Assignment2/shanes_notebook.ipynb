{
 "cells": [
  {
   "cell_type": "code",
   "execution_count": 1,
   "metadata": {},
   "outputs": [],
   "source": [
    "import pandas as pd  \n",
    "import numpy as np \n",
    "import matplotlib.pyplot as plt\n",
    "from sklearn.ensemble import RandomForestRegressor\n",
    "from sklearn.preprocessing import MinMaxScaler\n",
    "from sklearn.model_selection import train_test_split\n",
    "from sklearn.metrics import classification_report, confusion_matrix  \n",
    "from sklearn.metrics import roc_auc_score\n",
    "from sklearn.metrics import classification_report, confusion_matrix  \n",
    "from sklearn import metrics\n",
    "from sklearn.tree import export_graphviz\n",
    "from sklearn.model_selection import cross_val_score\n",
    "from pprint import pprint\n",
    "\n",
    "pd.options.mode.chained_assignment = None  # default='warn'"
   ]
  },
  {
   "cell_type": "markdown",
   "metadata": {},
   "source": [
    "### Read in training data"
   ]
  },
  {
   "cell_type": "code",
   "execution_count": 2,
   "metadata": {},
   "outputs": [],
   "source": [
    "x = pd.read_parquet('training_set_VU_DM.parquet.gzip')"
   ]
  },
  {
   "cell_type": "markdown",
   "metadata": {},
   "source": [
    "### Get target and save columns for submission"
   ]
  },
  {
   "cell_type": "code",
   "execution_count": 3,
   "metadata": {
    "scrolled": false
   },
   "outputs": [],
   "source": [
    "x['target'] = x['booking_bool'] + x['click_bool']"
   ]
  },
  {
   "cell_type": "markdown",
   "metadata": {},
   "source": [
    "### Some feature engineering"
   ]
  },
  {
   "cell_type": "code",
   "execution_count": 4,
   "metadata": {},
   "outputs": [],
   "source": [
    "# if countries are the same for hotel and user\n",
    "x['same_location'] = np.where(x['prop_country_id'] == x['visitor_location_country_id'], 1, 0)\n",
    "\n",
    "# if user has rated any hotels in the past\n",
    "x['has_rated'] = np.where(x['visitor_hist_starrating'] > 0, 1, 0)\n",
    "\n",
    "# if user has booking history\n",
    "x['has_history'] = np.where(x['visitor_hist_adr_usd'] > 0, 1, 0)\n",
    "\n",
    "# scale affinity scores, fill nans with zero\n",
    "scaler = MinMaxScaler(feature_range=(0,1))\n",
    "col = scaler.fit_transform(np.array(x['srch_query_affinity_score']).reshape(-1,1))\n",
    "x['srch_query_affinity_score'] = scaler.fit_transform(col)\n",
    "x['srch_query_affinity_score'].fillna(0, inplace=True)\n",
    "\n",
    "# fill nans for prop_location_score2 with prop_location_score1 (since only ~20% missing)\n",
    "x['prop_location_score2'].fillna(x['prop_location_score1'], inplace=True)\n",
    "\n",
    "# fill nans for review score to zero\n",
    "x['prop_review_score'].fillna(0, inplace=True)"
   ]
  },
  {
   "cell_type": "markdown",
   "metadata": {},
   "source": [
    "### Delete irrelevant columns"
   ]
  },
  {
   "cell_type": "code",
   "execution_count": 5,
   "metadata": {
    "scrolled": true
   },
   "outputs": [],
   "source": [
    "del x['date_time']\n",
    "del x['site_id']\n",
    "del x['booking_bool']\n",
    "del x['click_bool']\n",
    "del x['gross_bookings_usd']\n",
    "del x['visitor_location_country_id']\n",
    "del x['prop_country_id']\n",
    "del x['visitor_hist_starrating']\n",
    "del x['visitor_hist_adr_usd']\n",
    "del x['orig_destination_distance']"
   ]
  },
  {
   "cell_type": "code",
   "execution_count": 6,
   "metadata": {},
   "outputs": [
    {
     "name": "stdout",
     "output_type": "stream",
     "text": [
      "Index(['srch_id', 'prop_id', 'prop_starrating', 'prop_review_score',\n",
      "       'prop_brand_bool', 'prop_location_score1', 'prop_location_score2',\n",
      "       'prop_log_historical_price', 'position', 'price_usd', 'promotion_flag',\n",
      "       'srch_destination_id', 'srch_length_of_stay', 'srch_booking_window',\n",
      "       'srch_adults_count', 'srch_children_count', 'srch_room_count',\n",
      "       'srch_saturday_night_bool', 'srch_query_affinity_score', 'random_bool',\n",
      "       'comp1_rate', 'comp1_inv', 'comp1_rate_percent_diff', 'comp2_rate',\n",
      "       'comp2_inv', 'comp2_rate_percent_diff', 'comp3_rate', 'comp3_inv',\n",
      "       'comp3_rate_percent_diff', 'comp4_rate', 'comp4_inv',\n",
      "       'comp4_rate_percent_diff', 'comp5_rate', 'comp5_inv',\n",
      "       'comp5_rate_percent_diff', 'comp6_rate', 'comp6_inv',\n",
      "       'comp6_rate_percent_diff', 'comp7_rate', 'comp7_inv',\n",
      "       'comp7_rate_percent_diff', 'comp8_rate', 'comp8_inv',\n",
      "       'comp8_rate_percent_diff', 'target', 'same_location', 'has_rated',\n",
      "       'has_history'],\n",
      "      dtype='object')\n"
     ]
    },
    {
     "data": {
      "text/html": [
       "<div>\n",
       "<style scoped>\n",
       "    .dataframe tbody tr th:only-of-type {\n",
       "        vertical-align: middle;\n",
       "    }\n",
       "\n",
       "    .dataframe tbody tr th {\n",
       "        vertical-align: top;\n",
       "    }\n",
       "\n",
       "    .dataframe thead th {\n",
       "        text-align: right;\n",
       "    }\n",
       "</style>\n",
       "<table border=\"1\" class=\"dataframe\">\n",
       "  <thead>\n",
       "    <tr style=\"text-align: right;\">\n",
       "      <th></th>\n",
       "      <th>srch_id</th>\n",
       "      <th>prop_id</th>\n",
       "      <th>prop_starrating</th>\n",
       "      <th>prop_review_score</th>\n",
       "      <th>prop_brand_bool</th>\n",
       "      <th>prop_location_score1</th>\n",
       "      <th>prop_location_score2</th>\n",
       "      <th>prop_log_historical_price</th>\n",
       "      <th>position</th>\n",
       "      <th>price_usd</th>\n",
       "      <th>...</th>\n",
       "      <th>comp7_rate</th>\n",
       "      <th>comp7_inv</th>\n",
       "      <th>comp7_rate_percent_diff</th>\n",
       "      <th>comp8_rate</th>\n",
       "      <th>comp8_inv</th>\n",
       "      <th>comp8_rate_percent_diff</th>\n",
       "      <th>target</th>\n",
       "      <th>same_location</th>\n",
       "      <th>has_rated</th>\n",
       "      <th>has_history</th>\n",
       "    </tr>\n",
       "  </thead>\n",
       "  <tbody>\n",
       "    <tr>\n",
       "      <th>0</th>\n",
       "      <td>1</td>\n",
       "      <td>893</td>\n",
       "      <td>3</td>\n",
       "      <td>3.5</td>\n",
       "      <td>1</td>\n",
       "      <td>2.83</td>\n",
       "      <td>0.0438</td>\n",
       "      <td>4.95</td>\n",
       "      <td>27</td>\n",
       "      <td>104.77</td>\n",
       "      <td>...</td>\n",
       "      <td>NaN</td>\n",
       "      <td>NaN</td>\n",
       "      <td>NaN</td>\n",
       "      <td>0.0</td>\n",
       "      <td>0.0</td>\n",
       "      <td>NaN</td>\n",
       "      <td>0</td>\n",
       "      <td>0</td>\n",
       "      <td>0</td>\n",
       "      <td>0</td>\n",
       "    </tr>\n",
       "    <tr>\n",
       "      <th>1</th>\n",
       "      <td>1</td>\n",
       "      <td>10404</td>\n",
       "      <td>4</td>\n",
       "      <td>4.0</td>\n",
       "      <td>1</td>\n",
       "      <td>2.20</td>\n",
       "      <td>0.0149</td>\n",
       "      <td>5.03</td>\n",
       "      <td>26</td>\n",
       "      <td>170.74</td>\n",
       "      <td>...</td>\n",
       "      <td>NaN</td>\n",
       "      <td>NaN</td>\n",
       "      <td>NaN</td>\n",
       "      <td>0.0</td>\n",
       "      <td>0.0</td>\n",
       "      <td>NaN</td>\n",
       "      <td>0</td>\n",
       "      <td>0</td>\n",
       "      <td>0</td>\n",
       "      <td>0</td>\n",
       "    </tr>\n",
       "    <tr>\n",
       "      <th>2</th>\n",
       "      <td>1</td>\n",
       "      <td>21315</td>\n",
       "      <td>3</td>\n",
       "      <td>4.5</td>\n",
       "      <td>1</td>\n",
       "      <td>2.20</td>\n",
       "      <td>0.0245</td>\n",
       "      <td>4.92</td>\n",
       "      <td>21</td>\n",
       "      <td>179.80</td>\n",
       "      <td>...</td>\n",
       "      <td>NaN</td>\n",
       "      <td>NaN</td>\n",
       "      <td>NaN</td>\n",
       "      <td>0.0</td>\n",
       "      <td>0.0</td>\n",
       "      <td>NaN</td>\n",
       "      <td>0</td>\n",
       "      <td>0</td>\n",
       "      <td>0</td>\n",
       "      <td>0</td>\n",
       "    </tr>\n",
       "    <tr>\n",
       "      <th>3</th>\n",
       "      <td>1</td>\n",
       "      <td>27348</td>\n",
       "      <td>2</td>\n",
       "      <td>4.0</td>\n",
       "      <td>1</td>\n",
       "      <td>2.83</td>\n",
       "      <td>0.0125</td>\n",
       "      <td>4.39</td>\n",
       "      <td>34</td>\n",
       "      <td>602.77</td>\n",
       "      <td>...</td>\n",
       "      <td>NaN</td>\n",
       "      <td>NaN</td>\n",
       "      <td>NaN</td>\n",
       "      <td>-1.0</td>\n",
       "      <td>0.0</td>\n",
       "      <td>5.0</td>\n",
       "      <td>0</td>\n",
       "      <td>0</td>\n",
       "      <td>0</td>\n",
       "      <td>0</td>\n",
       "    </tr>\n",
       "    <tr>\n",
       "      <th>4</th>\n",
       "      <td>1</td>\n",
       "      <td>29604</td>\n",
       "      <td>4</td>\n",
       "      <td>3.5</td>\n",
       "      <td>1</td>\n",
       "      <td>2.64</td>\n",
       "      <td>0.1241</td>\n",
       "      <td>4.93</td>\n",
       "      <td>4</td>\n",
       "      <td>143.58</td>\n",
       "      <td>...</td>\n",
       "      <td>NaN</td>\n",
       "      <td>NaN</td>\n",
       "      <td>NaN</td>\n",
       "      <td>0.0</td>\n",
       "      <td>0.0</td>\n",
       "      <td>NaN</td>\n",
       "      <td>0</td>\n",
       "      <td>0</td>\n",
       "      <td>0</td>\n",
       "      <td>0</td>\n",
       "    </tr>\n",
       "  </tbody>\n",
       "</table>\n",
       "<p>5 rows × 48 columns</p>\n",
       "</div>"
      ],
      "text/plain": [
       "   srch_id  prop_id  prop_starrating  prop_review_score  prop_brand_bool  \\\n",
       "0        1      893                3                3.5                1   \n",
       "1        1    10404                4                4.0                1   \n",
       "2        1    21315                3                4.5                1   \n",
       "3        1    27348                2                4.0                1   \n",
       "4        1    29604                4                3.5                1   \n",
       "\n",
       "   prop_location_score1  prop_location_score2  prop_log_historical_price  \\\n",
       "0                  2.83                0.0438                       4.95   \n",
       "1                  2.20                0.0149                       5.03   \n",
       "2                  2.20                0.0245                       4.92   \n",
       "3                  2.83                0.0125                       4.39   \n",
       "4                  2.64                0.1241                       4.93   \n",
       "\n",
       "   position  price_usd  ...  comp7_rate  comp7_inv  comp7_rate_percent_diff  \\\n",
       "0        27     104.77  ...         NaN        NaN                      NaN   \n",
       "1        26     170.74  ...         NaN        NaN                      NaN   \n",
       "2        21     179.80  ...         NaN        NaN                      NaN   \n",
       "3        34     602.77  ...         NaN        NaN                      NaN   \n",
       "4         4     143.58  ...         NaN        NaN                      NaN   \n",
       "\n",
       "   comp8_rate  comp8_inv  comp8_rate_percent_diff  target  same_location  \\\n",
       "0         0.0        0.0                      NaN       0              0   \n",
       "1         0.0        0.0                      NaN       0              0   \n",
       "2         0.0        0.0                      NaN       0              0   \n",
       "3        -1.0        0.0                      5.0       0              0   \n",
       "4         0.0        0.0                      NaN       0              0   \n",
       "\n",
       "   has_rated  has_history  \n",
       "0          0            0  \n",
       "1          0            0  \n",
       "2          0            0  \n",
       "3          0            0  \n",
       "4          0            0  \n",
       "\n",
       "[5 rows x 48 columns]"
      ]
     },
     "execution_count": 6,
     "metadata": {},
     "output_type": "execute_result"
    }
   ],
   "source": [
    "print(x.columns)\n",
    "x.head()"
   ]
  },
  {
   "cell_type": "markdown",
   "metadata": {},
   "source": [
    "### Fill in missing competitor rates"
   ]
  },
  {
   "cell_type": "code",
   "execution_count": 8,
   "metadata": {
    "scrolled": true
   },
   "outputs": [],
   "source": [
    "x['comp1_rate'].fillna(x[['comp1_rate','comp2_rate','comp3_rate','comp4_rate','comp5_rate','comp6_rate','comp7_rate','comp8_rate']].mean(axis=1), inplace=True)\n",
    "x['comp2_rate'].fillna(x[['comp1_rate','comp2_rate','comp3_rate','comp4_rate','comp5_rate','comp6_rate','comp7_rate','comp8_rate']].mean(axis=1), inplace=True)\n",
    "x['comp3_rate'].fillna(x[['comp1_rate','comp2_rate','comp3_rate','comp4_rate','comp5_rate','comp6_rate','comp7_rate','comp8_rate']].mean(axis=1), inplace=True)\n",
    "x['comp4_rate'].fillna(x[['comp1_rate','comp2_rate','comp3_rate','comp4_rate','comp5_rate','comp6_rate','comp7_rate','comp8_rate']].mean(axis=1), inplace=True)\n",
    "x['comp5_rate'].fillna(x[['comp1_rate','comp2_rate','comp3_rate','comp4_rate','comp5_rate','comp6_rate','comp7_rate','comp8_rate']].mean(axis=1), inplace=True)\n",
    "x['comp6_rate'].fillna(x[['comp1_rate','comp2_rate','comp3_rate','comp4_rate','comp5_rate','comp6_rate','comp7_rate','comp8_rate']].mean(axis=1), inplace=True)\n",
    "x['comp7_rate'].fillna(x[['comp1_rate','comp2_rate','comp3_rate','comp4_rate','comp5_rate','comp6_rate','comp7_rate','comp8_rate']].mean(axis=1), inplace=True)\n",
    "x['comp8_rate'].fillna(x[['comp1_rate','comp2_rate','comp3_rate','comp4_rate','comp5_rate','comp6_rate','comp7_rate','comp8_rate']].mean(axis=1), inplace=True)"
   ]
  },
  {
   "cell_type": "markdown",
   "metadata": {},
   "source": [
    "### Fill in missing competitor availability"
   ]
  },
  {
   "cell_type": "code",
   "execution_count": 9,
   "metadata": {},
   "outputs": [],
   "source": [
    "x['comp1_inv'].fillna(x[['comp1_inv','comp2_inv','comp3_inv','comp4_inv','comp5_inv','comp6_inv','comp7_inv','comp8_inv']].mean(axis=1), inplace=True)\n",
    "x['comp2_inv'].fillna(x[['comp1_inv','comp2_inv','comp3_inv','comp4_inv','comp5_inv','comp6_inv','comp7_inv','comp8_inv']].mean(axis=1), inplace=True)\n",
    "x['comp3_inv'].fillna(x[['comp1_inv','comp2_inv','comp3_inv','comp4_inv','comp5_inv','comp6_inv','comp7_inv','comp8_inv']].mean(axis=1), inplace=True)\n",
    "x['comp4_inv'].fillna(x[['comp1_inv','comp2_inv','comp3_inv','comp4_inv','comp5_inv','comp6_inv','comp7_inv','comp8_inv']].mean(axis=1), inplace=True)\n",
    "x['comp5_inv'].fillna(x[['comp1_inv','comp2_inv','comp3_inv','comp4_inv','comp5_inv','comp6_inv','comp7_inv','comp8_inv']].mean(axis=1), inplace=True)\n",
    "x['comp6_inv'].fillna(x[['comp1_inv','comp2_inv','comp3_inv','comp4_inv','comp5_inv','comp6_inv','comp7_inv','comp8_inv']].mean(axis=1), inplace=True)\n",
    "x['comp7_inv'].fillna(x[['comp1_inv','comp2_inv','comp3_inv','comp4_inv','comp5_inv','comp6_inv','comp7_inv','comp8_inv']].mean(axis=1), inplace=True)\n",
    "x['comp8_inv'].fillna(x[['comp1_inv','comp2_inv','comp3_inv','comp4_inv','comp5_inv','comp6_inv','comp7_inv','comp8_inv']].mean(axis=1), inplace=True)"
   ]
  },
  {
   "cell_type": "markdown",
   "metadata": {},
   "source": [
    "### Fill in missing competitor rate percent difference"
   ]
  },
  {
   "cell_type": "code",
   "execution_count": 10,
   "metadata": {},
   "outputs": [],
   "source": [
    "x['comp1_rate_percent_diff'].fillna(x[['comp1_rate_percent_diff','comp2_rate_percent_diff','comp3_rate_percent_diff','comp4_rate_percent_diff','comp5_rate_percent_diff','comp6_rate_percent_diff','comp7_rate_percent_diff','comp8_rate_percent_diff']].mean(axis=1), inplace=True)\n",
    "x['comp2_rate_percent_diff'].fillna(x[['comp1_rate_percent_diff','comp2_rate_percent_diff','comp3_rate_percent_diff','comp4_rate_percent_diff','comp5_rate_percent_diff','comp6_rate_percent_diff','comp7_rate_percent_diff','comp8_rate_percent_diff']].mean(axis=1), inplace=True)\n",
    "x['comp3_rate_percent_diff'].fillna(x[['comp1_rate_percent_diff','comp2_rate_percent_diff','comp3_rate_percent_diff','comp4_rate_percent_diff','comp5_rate_percent_diff','comp6_rate_percent_diff','comp7_rate_percent_diff','comp8_rate_percent_diff']].mean(axis=1), inplace=True)\n",
    "x['comp4_rate_percent_diff'].fillna(x[['comp1_rate_percent_diff','comp2_rate_percent_diff','comp3_rate_percent_diff','comp4_rate_percent_diff','comp5_rate_percent_diff','comp6_rate_percent_diff','comp7_rate_percent_diff','comp8_rate_percent_diff']].mean(axis=1), inplace=True)\n",
    "x['comp5_rate_percent_diff'].fillna(x[['comp1_rate_percent_diff','comp2_rate_percent_diff','comp3_rate_percent_diff','comp4_rate_percent_diff','comp5_rate_percent_diff','comp6_rate_percent_diff','comp7_rate_percent_diff','comp8_rate_percent_diff']].mean(axis=1), inplace=True)\n",
    "x['comp6_rate_percent_diff'].fillna(x[['comp1_rate_percent_diff','comp2_rate_percent_diff','comp3_rate_percent_diff','comp4_rate_percent_diff','comp5_rate_percent_diff','comp6_rate_percent_diff','comp7_rate_percent_diff','comp8_rate_percent_diff']].mean(axis=1), inplace=True)\n",
    "x['comp7_rate_percent_diff'].fillna(x[['comp1_rate_percent_diff','comp2_rate_percent_diff','comp3_rate_percent_diff','comp4_rate_percent_diff','comp5_rate_percent_diff','comp6_rate_percent_diff','comp7_rate_percent_diff','comp8_rate_percent_diff']].mean(axis=1), inplace=True)\n",
    "x['comp8_rate_percent_diff'].fillna(x[['comp1_rate_percent_diff','comp2_rate_percent_diff','comp3_rate_percent_diff','comp4_rate_percent_diff','comp5_rate_percent_diff','comp6_rate_percent_diff','comp7_rate_percent_diff','comp8_rate_percent_diff']].mean(axis=1), inplace=True)"
   ]
  },
  {
   "cell_type": "markdown",
   "metadata": {},
   "source": [
    "### Fill in the competitor data that only contain NaN values with zeros"
   ]
  },
  {
   "cell_type": "code",
   "execution_count": 11,
   "metadata": {},
   "outputs": [],
   "source": [
    "x['comp1_rate'].fillna(0, inplace=True)\n",
    "x['comp2_rate'].fillna(0, inplace=True)\n",
    "x['comp3_rate'].fillna(0, inplace=True)\n",
    "x['comp4_rate'].fillna(0, inplace=True)\n",
    "x['comp5_rate'].fillna(0, inplace=True)\n",
    "x['comp6_rate'].fillna(0, inplace=True)\n",
    "x['comp7_rate'].fillna(0, inplace=True)\n",
    "x['comp8_rate'].fillna(0, inplace=True)\n",
    "\n",
    "x['comp1_inv'].fillna(0, inplace=True)\n",
    "x['comp2_inv'].fillna(0, inplace=True)\n",
    "x['comp3_inv'].fillna(0, inplace=True)\n",
    "x['comp4_inv'].fillna(0, inplace=True)\n",
    "x['comp5_inv'].fillna(0, inplace=True)\n",
    "x['comp6_inv'].fillna(0, inplace=True)\n",
    "x['comp7_inv'].fillna(0, inplace=True)\n",
    "x['comp8_inv'].fillna(0, inplace=True)\n",
    "\n",
    "x['comp1_rate_percent_diff'].fillna(0, inplace=True)\n",
    "x['comp2_rate_percent_diff'].fillna(0, inplace=True)\n",
    "x['comp3_rate_percent_diff'].fillna(0, inplace=True)\n",
    "x['comp4_rate_percent_diff'].fillna(0, inplace=True)\n",
    "x['comp5_rate_percent_diff'].fillna(0, inplace=True)\n",
    "x['comp6_rate_percent_diff'].fillna(0, inplace=True)\n",
    "x['comp7_rate_percent_diff'].fillna(0, inplace=True)\n",
    "x['comp8_rate_percent_diff'].fillna(0, inplace=True)"
   ]
  },
  {
   "cell_type": "markdown",
   "metadata": {},
   "source": [
    "### Make sure we have no missing values"
   ]
  },
  {
   "cell_type": "code",
   "execution_count": 12,
   "metadata": {
    "scrolled": true
   },
   "outputs": [
    {
     "data": {
      "text/plain": [
       "srch_id                      0.0\n",
       "prop_id                      0.0\n",
       "prop_starrating              0.0\n",
       "prop_review_score            0.0\n",
       "prop_brand_bool              0.0\n",
       "prop_location_score1         0.0\n",
       "prop_location_score2         0.0\n",
       "prop_log_historical_price    0.0\n",
       "position                     0.0\n",
       "price_usd                    0.0\n",
       "promotion_flag               0.0\n",
       "srch_destination_id          0.0\n",
       "srch_length_of_stay          0.0\n",
       "srch_booking_window          0.0\n",
       "srch_adults_count            0.0\n",
       "srch_children_count          0.0\n",
       "srch_room_count              0.0\n",
       "srch_saturday_night_bool     0.0\n",
       "srch_query_affinity_score    0.0\n",
       "random_bool                  0.0\n",
       "comp1_rate                   0.0\n",
       "comp1_inv                    0.0\n",
       "comp1_rate_percent_diff      0.0\n",
       "comp2_rate                   0.0\n",
       "comp2_inv                    0.0\n",
       "comp2_rate_percent_diff      0.0\n",
       "comp3_rate                   0.0\n",
       "comp3_inv                    0.0\n",
       "comp3_rate_percent_diff      0.0\n",
       "comp4_rate                   0.0\n",
       "comp4_inv                    0.0\n",
       "comp4_rate_percent_diff      0.0\n",
       "comp5_rate                   0.0\n",
       "comp5_inv                    0.0\n",
       "comp5_rate_percent_diff      0.0\n",
       "comp6_rate                   0.0\n",
       "comp6_inv                    0.0\n",
       "comp6_rate_percent_diff      0.0\n",
       "comp7_rate                   0.0\n",
       "comp7_inv                    0.0\n",
       "comp7_rate_percent_diff      0.0\n",
       "comp8_rate                   0.0\n",
       "comp8_inv                    0.0\n",
       "comp8_rate_percent_diff      0.0\n",
       "target                       0.0\n",
       "same_location                0.0\n",
       "has_rated                    0.0\n",
       "has_history                  0.0\n",
       "dtype: float64"
      ]
     },
     "execution_count": 12,
     "metadata": {},
     "output_type": "execute_result"
    }
   ],
   "source": [
    "missing_values = x.isna().mean() * 100\n",
    "missing_values"
   ]
  },
  {
   "cell_type": "markdown",
   "metadata": {},
   "source": [
    "### Save the modified parquet up to this point"
   ]
  },
  {
   "cell_type": "code",
   "execution_count": 13,
   "metadata": {},
   "outputs": [],
   "source": [
    "x.to_parquet('training_set_v1.parquet.gzip', compression = 'gzip')"
   ]
  },
  {
   "cell_type": "markdown",
   "metadata": {},
   "source": [
    "# Using the new parquet file"
   ]
  },
  {
   "cell_type": "code",
   "execution_count": null,
   "metadata": {},
   "outputs": [],
   "source": [
    "train = pd.read_parquet('training_set_v1.parquet.gzip')\n",
    "target = train['target']\n",
    "out_col1 = x['srch_id']\n",
    "out_col2 = x['prop_id']\n",
    "del train['target']\n",
    "del train['srch_id']\n",
    "del train['prop_id']"
   ]
  },
  {
   "cell_type": "markdown",
   "metadata": {},
   "source": [
    "### Double check that we do not have any empty cells"
   ]
  },
  {
   "cell_type": "code",
   "execution_count": null,
   "metadata": {},
   "outputs": [],
   "source": [
    "missing_values = train.isna().mean() * 100\n",
    "missing_values"
   ]
  },
  {
   "cell_type": "markdown",
   "metadata": {},
   "source": [
    "### Test/train"
   ]
  },
  {
   "cell_type": "code",
   "execution_count": null,
   "metadata": {},
   "outputs": [],
   "source": [
    "x_train, x_test, y_train, y_test = train_test_split(x, y, test_size=0.2, random_state=0)"
   ]
  },
  {
   "cell_type": "code",
   "execution_count": null,
   "metadata": {},
   "outputs": [],
   "source": [
    "rf = RandomForestRegressor(n_estimators= 100, random_state=42)\n",
    "rf.fit(x_train, y_train)"
   ]
  },
  {
   "cell_type": "code",
   "execution_count": null,
   "metadata": {},
   "outputs": [],
   "source": [
    "predictions = rf.predict(x_test)"
   ]
  },
  {
   "cell_type": "code",
   "execution_count": null,
   "metadata": {},
   "outputs": [],
   "source": [
    "# for p in predictions:\n",
    "#     print(p)"
   ]
  },
  {
   "cell_type": "code",
   "execution_count": null,
   "metadata": {},
   "outputs": [],
   "source": [
    "x = pd.read_parquet('test_set_VU_DM.parquet.gzip')"
   ]
  },
  {
   "cell_type": "code",
   "execution_count": null,
   "metadata": {},
   "outputs": [],
   "source": [
    "predictions_real = rf.predict(x)"
   ]
  },
  {
   "cell_type": "code",
   "execution_count": null,
   "metadata": {},
   "outputs": [],
   "source": [
    "out = pd.DataFrame(x['srch_id'])\n",
    "out['prop_id'] = x['prop_id']\n",
    "out['pred'] = predictions_real\n",
    "out.groupby(['srch_id', 'pred'])\n",
    "print(out.head)"
   ]
  }
 ],
 "metadata": {
  "kernelspec": {
   "display_name": "Python 3",
   "language": "python",
   "name": "python3"
  },
  "language_info": {
   "codemirror_mode": {
    "name": "ipython",
    "version": 3
   },
   "file_extension": ".py",
   "mimetype": "text/x-python",
   "name": "python",
   "nbconvert_exporter": "python",
   "pygments_lexer": "ipython3",
   "version": "3.5.2"
  }
 },
 "nbformat": 4,
 "nbformat_minor": 2
}
