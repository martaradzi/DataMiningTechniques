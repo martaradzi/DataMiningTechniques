{
 "cells": [
  {
   "cell_type": "markdown",
   "metadata": {},
   "source": [
    "**Task 1: Pre-process the dataset**"
   ]
  },
  {
   "cell_type": "markdown",
   "metadata": {},
   "source": [
    "All the imports:"
   ]
  },
  {
   "cell_type": "code",
   "execution_count": 2,
   "metadata": {},
   "outputs": [],
   "source": [
    "import csv\n",
    "import numpy as np\n",
    "import pandas as pd\n",
    "import pickle as pkl\n",
    "import matplotlib.pyplot as plt"
   ]
  },
  {
   "cell_type": "markdown",
   "metadata": {},
   "source": [
    "**Check how many patients/variables there are**"
   ]
  },
  {
   "cell_type": "code",
   "execution_count": 14,
   "metadata": {},
   "outputs": [
    {
     "name": "stdout",
     "output_type": "stream",
     "text": [
      "27\n",
      "id\n",
      "AS14.01    21999\n",
      "AS14.02    14581\n",
      "AS14.03    14425\n",
      "AS14.05    15745\n",
      "AS14.06    18092\n",
      "AS14.07    16045\n",
      "AS14.08     7902\n",
      "AS14.09    10886\n",
      "AS14.12    17311\n",
      "AS14.13    19592\n",
      "AS14.14     9286\n",
      "AS14.15     2848\n",
      "AS14.16     3982\n",
      "AS14.17    15826\n",
      "AS14.19    11397\n",
      "AS14.20     3620\n",
      "AS14.23    21852\n",
      "AS14.24    14430\n",
      "AS14.25    12589\n",
      "AS14.26    16403\n",
      "AS14.27    14575\n",
      "AS14.28    19276\n",
      "AS14.29    17499\n",
      "AS14.30    17279\n",
      "AS14.31    11889\n",
      "AS14.32    11193\n",
      "AS14.33    16390\n",
      "dtype: int64\n"
     ]
    }
   ],
   "source": [
    "df = pd.read_csv(\"dataset_mood_smartphone.csv\")\n",
    "counted = df.groupby([\"id\"]).size()\n",
    "print (len(counted))\n",
    "print (counted)"
   ]
  },
  {
   "cell_type": "code",
   "execution_count": 15,
   "metadata": {},
   "outputs": [
    {
     "name": "stdout",
     "output_type": "stream",
     "text": [
      "19\n",
      "variable\n",
      "activity                22965\n",
      "appCat.builtin          91288\n",
      "appCat.communication    74276\n",
      "appCat.entertainment    27125\n",
      "appCat.finance            939\n",
      "appCat.game               813\n",
      "appCat.office            5642\n",
      "appCat.other             7650\n",
      "appCat.social           19145\n",
      "appCat.travel            2846\n",
      "appCat.unknown            939\n",
      "appCat.utilities         2487\n",
      "appCat.weather            255\n",
      "call                     5239\n",
      "circumplex.arousal       5643\n",
      "circumplex.valence       5643\n",
      "mood                     5641\n",
      "screen                  96578\n",
      "sms                      1798\n",
      "dtype: int64\n"
     ]
    }
   ],
   "source": [
    "counted = df.groupby([\"variable\"]).size()\n",
    "print (len(counted))\n",
    "print (counted)"
   ]
  },
  {
   "cell_type": "markdown",
   "metadata": {},
   "source": [
    "There are __***27 patients***__, names from 01 to 33 (some numbers are missing)\n",
    "\n",
    "There are __***19 variables***__\n",
    "\n",
    "\n",
    "\n",
    "**Making individual files for each patient:**"
   ]
  },
  {
   "cell_type": "code",
   "execution_count": 2,
   "metadata": {},
   "outputs": [],
   "source": [
    "RawFile = \"dataset_mood_smartphone.csv\"\n",
    "\n",
    "with open(RawFile) as infile:\n",
    "    reader = csv.reader(infile)\n",
    "    #input_header = reader.next()\n",
    "    for row in reader:\n",
    "        patient = row[1]\n",
    "        CleanedFile = \"./data/\" + patient +\".csv\"\n",
    "        with open(CleanedFile, 'a', newline='') as outfile:\n",
    "            writer = csv.writer(outfile)\n",
    "            if row[4] != \"NA\": #deleting rows with NA as VALUE\n",
    "                writer.writerow(row[2:5])"
   ]
  },
  {
   "cell_type": "markdown",
   "metadata": {},
   "source": [
    "With good old-fashioned CTRL-F method we discover that: (AND REALIZING YOU DIDN'T NEED TO CHECK THAT CAUSE ITS ALL IN THE ASSIGNMENT DESCRIPTION)\n",
    "\n",
    "activity                Numerical value - use mean\n",
    "appCat.builtin          Time - add times\n",
    "appCat.communication    Time - add times\n",
    "appCat.entertainment    Time - add times\n",
    "appCat.finance          Time - add times\n",
    "appCat.game             Time - add times\n",
    "appCat.office           Time - add times\n",
    "appCat.other            Time - add times\n",
    "appCat.social           Time - add times\n",
    "appCat.travel           Time - add times\n",
    "appCat.unknown          Time - add times\n",
    "appCat.utilities        Time - add times\n",
    "appCat.weather          Time - add times\n",
    "call                    Numerical value - use mean\n",
    "circumplex.arousal      Numerical value - use mean\n",
    "circumplex.valence      Numerical value - use mean\n",
    "mood                    Numerical value - use mean\n",
    "screen                  Time\n",
    "SMS                     Numerical values - use mean\n",
    "\n",
    "Want to creat a table/csv that would summarize each day. Then we can proceed with another algorithm."
   ]
  },
  {
   "cell_type": "code",
   "execution_count": 7,
   "metadata": {},
   "outputs": [
    {
     "ename": "AttributeError",
     "evalue": "Cannot access callable attribute 'to_csv' of 'DataFrameGroupBy' objects, try using the 'apply' method",
     "output_type": "error",
     "traceback": [
      "\u001b[1;31m---------------------------------------------------------------------------\u001b[0m",
      "\u001b[1;31mAttributeError\u001b[0m                            Traceback (most recent call last)",
      "\u001b[1;32m<ipython-input-7-c8780249e331>\u001b[0m in \u001b[0;36m<module>\u001b[1;34m()\u001b[0m\n\u001b[0;32m      3\u001b[0m \u001b[0mdf\u001b[0m\u001b[1;33m\u001b[0m\u001b[0m\n\u001b[0;32m      4\u001b[0m \u001b[0mtestout\u001b[0m \u001b[1;33m=\u001b[0m \u001b[1;34m\"./data/summary/AS14.01.csv\"\u001b[0m\u001b[1;33m\u001b[0m\u001b[0m\n\u001b[1;32m----> 5\u001b[1;33m \u001b[0mdf\u001b[0m\u001b[1;33m.\u001b[0m\u001b[0mto_csv\u001b[0m\u001b[1;33m(\u001b[0m\u001b[0mtestout\u001b[0m\u001b[1;33m,\u001b[0m \u001b[0mencoding\u001b[0m\u001b[1;33m=\u001b[0m\u001b[1;34m'utf-8'\u001b[0m\u001b[1;33m,\u001b[0m \u001b[0mindex\u001b[0m\u001b[1;33m=\u001b[0m\u001b[1;32mFalse\u001b[0m\u001b[1;33m)\u001b[0m\u001b[1;33m\u001b[0m\u001b[0m\n\u001b[0m",
      "\u001b[1;32mD:\\Users\\marta\\Anaconda3\\lib\\site-packages\\pandas\\core\\groupby\\groupby.py\u001b[0m in \u001b[0;36m__getattr__\u001b[1;34m(self, attr)\u001b[0m\n\u001b[0;32m    760\u001b[0m             \u001b[1;32mreturn\u001b[0m \u001b[0mself\u001b[0m\u001b[1;33m[\u001b[0m\u001b[0mattr\u001b[0m\u001b[1;33m]\u001b[0m\u001b[1;33m\u001b[0m\u001b[0m\n\u001b[0;32m    761\u001b[0m         \u001b[1;32mif\u001b[0m \u001b[0mhasattr\u001b[0m\u001b[1;33m(\u001b[0m\u001b[0mself\u001b[0m\u001b[1;33m.\u001b[0m\u001b[0mobj\u001b[0m\u001b[1;33m,\u001b[0m \u001b[0mattr\u001b[0m\u001b[1;33m)\u001b[0m\u001b[1;33m:\u001b[0m\u001b[1;33m\u001b[0m\u001b[0m\n\u001b[1;32m--> 762\u001b[1;33m             \u001b[1;32mreturn\u001b[0m \u001b[0mself\u001b[0m\u001b[1;33m.\u001b[0m\u001b[0m_make_wrapper\u001b[0m\u001b[1;33m(\u001b[0m\u001b[0mattr\u001b[0m\u001b[1;33m)\u001b[0m\u001b[1;33m\u001b[0m\u001b[0m\n\u001b[0m\u001b[0;32m    763\u001b[0m \u001b[1;33m\u001b[0m\u001b[0m\n\u001b[0;32m    764\u001b[0m         raise AttributeError(\"%r object has no attribute %r\" %\n",
      "\u001b[1;32mD:\\Users\\marta\\Anaconda3\\lib\\site-packages\\pandas\\core\\groupby\\groupby.py\u001b[0m in \u001b[0;36m_make_wrapper\u001b[1;34m(self, name)\u001b[0m\n\u001b[0;32m    797\u001b[0m                    \"using the 'apply' method\".format(kind, name,\n\u001b[0;32m    798\u001b[0m                                                      type(self).__name__))\n\u001b[1;32m--> 799\u001b[1;33m             \u001b[1;32mraise\u001b[0m \u001b[0mAttributeError\u001b[0m\u001b[1;33m(\u001b[0m\u001b[0mmsg\u001b[0m\u001b[1;33m)\u001b[0m\u001b[1;33m\u001b[0m\u001b[0m\n\u001b[0m\u001b[0;32m    800\u001b[0m \u001b[1;33m\u001b[0m\u001b[0m\n\u001b[0;32m    801\u001b[0m         \u001b[0mself\u001b[0m\u001b[1;33m.\u001b[0m\u001b[0m_set_group_selection\u001b[0m\u001b[1;33m(\u001b[0m\u001b[1;33m)\u001b[0m\u001b[1;33m\u001b[0m\u001b[0m\n",
      "\u001b[1;31mAttributeError\u001b[0m: Cannot access callable attribute 'to_csv' of 'DataFrameGroupBy' objects, try using the 'apply' method"
     ]
    }
   ],
   "source": [
    "df = pd.read_csv(\"./test_scripts/AS14.01.csv\")\n",
    "\n",
    "grouped = df.groupby(['date', 'variable'])\n",
    "\n",
    "VARIABLES = ['mood', 'circumplex.arousal', 'circumplex.valence', 'activity', 'screen', 'call', 'sms', 'appCat.builtin', 'appCat.communication', 'appCat.entertainment', 'appCat.finance', 'appCat.game', 'appCat.office',\t'appCat.other', 'appCat.social', 'appCat.travel', 'appCat.unknown', 'appCat.utilities', 'appCat.weather']\n",
    "\n",
    "\n",
    "\n",
    "#newdf = pd.DataFrame(data, columns = VARIABLES)\n",
    "\n",
    "testout = \"./data/summary/AS14.01.csv\"\n",
    "#df.to_csv(testout, encoding='utf-8', index=False)"
   ]
  },
  {
   "cell_type": "code",
   "execution_count": null,
   "metadata": {},
   "outputs": [],
   "source": [
    "\n"
   ]
  }
 ],
 "metadata": {
  "kernelspec": {
   "display_name": "Python 3",
   "language": "python",
   "name": "python3"
  },
  "language_info": {
   "codemirror_mode": {
    "name": "ipython",
    "version": 3
   },
   "file_extension": ".py",
   "mimetype": "text/x-python",
   "name": "python",
   "nbconvert_exporter": "python",
   "pygments_lexer": "ipython3",
   "version": "3.7.0"
  }
 },
 "nbformat": 4,
 "nbformat_minor": 2
}
