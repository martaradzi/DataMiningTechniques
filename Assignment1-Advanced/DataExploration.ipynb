{
 "cells": [
  {
   "cell_type": "markdown",
   "metadata": {},
   "source": [
    "**Task 1: Pre-process the dataset**"
   ]
  },
  {
   "cell_type": "markdown",
   "metadata": {},
   "source": [
    "All the imports:"
   ]
  },
  {
   "cell_type": "code",
   "execution_count": 13,
   "metadata": {},
   "outputs": [],
   "source": [
    "import csv\n",
    "import numpy as np\n",
    "import pandas as pd\n",
    "import pickle as pkl\n",
    "import matplotlib.pyplot as plt"
   ]
  },
  {
   "cell_type": "markdown",
   "metadata": {},
   "source": [
    "**Check how many patients/variables there are**"
   ]
  },
  {
   "cell_type": "code",
   "execution_count": 14,
   "metadata": {},
   "outputs": [
    {
     "name": "stdout",
     "output_type": "stream",
     "text": [
      "27\n",
      "id\n",
      "AS14.01    21999\n",
      "AS14.02    14581\n",
      "AS14.03    14425\n",
      "AS14.05    15745\n",
      "AS14.06    18092\n",
      "AS14.07    16045\n",
      "AS14.08     7902\n",
      "AS14.09    10886\n",
      "AS14.12    17311\n",
      "AS14.13    19592\n",
      "AS14.14     9286\n",
      "AS14.15     2848\n",
      "AS14.16     3982\n",
      "AS14.17    15826\n",
      "AS14.19    11397\n",
      "AS14.20     3620\n",
      "AS14.23    21852\n",
      "AS14.24    14430\n",
      "AS14.25    12589\n",
      "AS14.26    16403\n",
      "AS14.27    14575\n",
      "AS14.28    19276\n",
      "AS14.29    17499\n",
      "AS14.30    17279\n",
      "AS14.31    11889\n",
      "AS14.32    11193\n",
      "AS14.33    16390\n",
      "dtype: int64\n"
     ]
    }
   ],
   "source": [
    "df = pd.read_csv(\"dataset_mood_smartphone.csv\")\n",
    "counted = df.groupby([\"id\"]).size()\n",
    "print (len(counted))\n",
    "print (counted)"
   ]
  },
  {
   "cell_type": "code",
   "execution_count": 15,
   "metadata": {},
   "outputs": [
    {
     "name": "stdout",
     "output_type": "stream",
     "text": [
      "19\n",
      "variable\n",
      "activity                22965\n",
      "appCat.builtin          91288\n",
      "appCat.communication    74276\n",
      "appCat.entertainment    27125\n",
      "appCat.finance            939\n",
      "appCat.game               813\n",
      "appCat.office            5642\n",
      "appCat.other             7650\n",
      "appCat.social           19145\n",
      "appCat.travel            2846\n",
      "appCat.unknown            939\n",
      "appCat.utilities         2487\n",
      "appCat.weather            255\n",
      "call                     5239\n",
      "circumplex.arousal       5643\n",
      "circumplex.valence       5643\n",
      "mood                     5641\n",
      "screen                  96578\n",
      "sms                      1798\n",
      "dtype: int64\n"
     ]
    }
   ],
   "source": [
    "counted = df.groupby([\"variable\"]).size()\n",
    "print (len(counted))\n",
    "print (counted)"
   ]
  },
  {
   "cell_type": "markdown",
   "metadata": {},
   "source": [
    "There are __***27 patients***__, names from 01 to 33 (some numbers are missing)\n",
    "\n",
    "There are __***19 variables***__\n",
    "\n",
    "\n",
    "\n",
    "**Making individual files for each patient:**"
   ]
  },
  {
   "cell_type": "code",
   "execution_count": 16,
   "metadata": {},
   "outputs": [],
   "source": [
    "RawFile = \"dataset_mood_smartphone.csv\"\n",
    "\n",
    "with open(RawFile) as infile:\n",
    "    reader = csv.reader(infile)\n",
    "    #input_header = reader.next()\n",
    "    for row in reader:\n",
    "        patient = row[1]\n",
    "        CleanedFile = \"./data/\" + patient +\".csv\"\n",
    "        with open(CleanedFile, 'a') as outfile:\n",
    "            writer = csv.writer(outfile)\n",
    "            writer.writerow(row[2:5])"
   ]
  },
  {
   "cell_type": "markdown",
   "metadata": {},
   "source": [
    "With good old-fashioned CTRL-F method we discover that: (AND REALIZING YOU DIDN'T NEED TO CHECK THAT CAUSE ITS ALL IN THE ASSIGNMENT DESCRIPTION)\n",
    "\n",
    "activity                Numerical value - use mean\n",
    "appCat.builtin          Time - add times\n",
    "appCat.communication    Time - add times\n",
    "appCat.entertainment    Time - add times\n",
    "appCat.finance          Time - add times\n",
    "appCat.game             Time - add times\n",
    "appCat.office           Time - add times\n",
    "appCat.other            Time - add times\n",
    "appCat.social           Time - add times\n",
    "appCat.travel           Time - add times\n",
    "appCat.unknown          Time - add times\n",
    "appCat.utilities        Time - add times\n",
    "appCat.weather          Time - add times\n",
    "call                    Numerical value - use mean\n",
    "circumplex.arousal      Numerical value - use mean\n",
    "circumplex.valence      Numerical value - use mean\n",
    "mood                    Numerical value - use mean\n",
    "screen                  Time\n",
    "SMS                     Numerical values - use mean\n",
    "\n",
    "Certain values have N/A so we need to delete that row.\n"
   ]
  },
  {
   "cell_type": "code",
   "execution_count": 29,
   "metadata": {},
   "outputs": [],
   "source": [
    "name1 = \"AS14.01.csv\"\n",
    "pathin = \"./data/\"+ name1\n",
    "pathout = \"./data/clean/\" + name1\n",
    "df = pd.read_csv(pathin)\n",
    "#df\n",
    "df = df[df.value.astype(str)  != 'NA']\n",
    "df.to_csv(pathout, encoding='utf-8', index=False)"
   ]
  },
  {
   "cell_type": "code",
   "execution_count": null,
   "metadata": {},
   "outputs": [],
   "source": []
  }
 ],
 "metadata": {
  "kernelspec": {
   "display_name": "Python 3",
   "language": "python",
   "name": "python3"
  },
  "language_info": {
   "codemirror_mode": {
    "name": "ipython",
    "version": 3
   },
   "file_extension": ".py",
   "mimetype": "text/x-python",
   "name": "python",
   "nbconvert_exporter": "python",
   "pygments_lexer": "ipython3",
   "version": "3.7.0"
  }
 },
 "nbformat": 4,
 "nbformat_minor": 2
}
