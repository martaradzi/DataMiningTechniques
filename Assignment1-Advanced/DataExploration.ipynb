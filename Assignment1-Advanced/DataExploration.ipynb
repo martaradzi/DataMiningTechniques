{
 "cells": [
  {
   "cell_type": "markdown",
   "metadata": {},
   "source": [
    "**Task 1: Pre-process the dataset**"
   ]
  },
  {
   "cell_type": "markdown",
   "metadata": {},
   "source": [
    "Read in the csv data."
   ]
  },
  {
   "cell_type": "code",
   "execution_count": 1,
   "metadata": {},
   "outputs": [],
   "source": [
    "import csv\n",
    "import numpy as numpy\n",
    "import pandas as pd"
   ]
  },
  {
   "cell_type": "code",
   "execution_count": 4,
   "metadata": {},
   "outputs": [
    {
     "ename": "TypeError",
     "evalue": "'DictReader' object does not support indexing",
     "output_type": "error",
     "traceback": [
      "\u001b[1;31m---------------------------------------------------------------------------\u001b[0m",
      "\u001b[1;31mTypeError\u001b[0m                                 Traceback (most recent call last)",
      "\u001b[1;32m<ipython-input-4-7b475ad506a9>\u001b[0m in \u001b[0;36m<module>\u001b[1;34m()\u001b[0m\n\u001b[0;32m      5\u001b[0m     \u001b[1;31m#for row in reader:\u001b[0m\u001b[1;33m\u001b[0m\u001b[1;33m\u001b[0m\u001b[0m\n\u001b[0;32m      6\u001b[0m \u001b[1;33m\u001b[0m\u001b[0m\n\u001b[1;32m----> 7\u001b[1;33m     \u001b[0mprint\u001b[0m\u001b[1;33m(\u001b[0m\u001b[0mreader\u001b[0m\u001b[1;33m[\u001b[0m\u001b[1;36m1\u001b[0m\u001b[1;33m]\u001b[0m\u001b[1;33m)\u001b[0m\u001b[1;33m\u001b[0m\u001b[0m\n\u001b[0m\u001b[0;32m      8\u001b[0m \u001b[1;33m\u001b[0m\u001b[0m\n\u001b[0;32m      9\u001b[0m    \u001b[1;31m# csvFile.close()\u001b[0m\u001b[1;33m\u001b[0m\u001b[1;33m\u001b[0m\u001b[0m\n",
      "\u001b[1;31mTypeError\u001b[0m: 'DictReader' object does not support indexing"
     ]
    }
   ],
   "source": [
    "with open('dataset_mood_smartphone.csv', 'r') as csvFile:\n",
    "    #reader = csv.reader(csvFile)\n",
    "    reader = csv.DictReader(csvFile)\n",
    "    #next(reader)\n",
    "    #for row in reader:\n",
    "        \n",
    "        #print(row)\n",
    "\n",
    "   # csvFile.close()"
   ]
  },
  {
   "cell_type": "code",
   "execution_count": 6,
   "metadata": {},
   "outputs": [
    {
     "name": "stdout",
     "output_type": "stream",
     "text": [
      "27\n",
      "id\n",
      "AS14.01    21999\n",
      "AS14.02    14581\n",
      "AS14.03    14425\n",
      "AS14.05    15745\n",
      "AS14.06    18092\n",
      "AS14.07    16045\n",
      "AS14.08     7902\n",
      "AS14.09    10886\n",
      "AS14.12    17311\n",
      "AS14.13    19592\n",
      "AS14.14     9286\n",
      "AS14.15     2848\n",
      "AS14.16     3982\n",
      "AS14.17    15826\n",
      "AS14.19    11397\n",
      "AS14.20     3620\n",
      "AS14.23    21852\n",
      "AS14.24    14430\n",
      "AS14.25    12589\n",
      "AS14.26    16403\n",
      "AS14.27    14575\n",
      "AS14.28    19276\n",
      "AS14.29    17499\n",
      "AS14.30    17279\n",
      "AS14.31    11889\n",
      "AS14.32    11193\n",
      "AS14.33    16390\n",
      "dtype: int64\n"
     ]
    }
   ],
   "source": [
    "df = pd.read_csv(\"dataset_mood_smartphone.csv\")\n",
    "counted = df.groupby([\"id\"]).size()\n",
    "print (len(counted))\n",
    "print (counted)"
   ]
  },
  {
   "cell_type": "markdown",
   "metadata": {},
   "source": [
    "Making individual files for all patients"
   ]
  },
  {
   "cell_type": "code",
   "execution_count": 7,
   "metadata": {},
   "outputs": [],
   "source": [
    "RawFile = \"dataset_mood_smartphone.csv\"\n",
    "\n",
    "with open(RawFile) as infile:\n",
    "    reader = csv.reader(infile)\n",
    "    input_header = reader.next()\n",
    "    for row in reader:\n",
    "        patient = row[1]\n",
    "        #print(mmsi)\n",
    "        CleanedFile= patient +\".csv\"\n",
    "        with open(CleanedFile, 'a') as outfile:\n",
    "            writer = csv.writer(outfile)\n",
    "            writer.writerow(row)"
   ]
  },
  {
   "cell_type": "code",
   "execution_count": null,
   "metadata": {},
   "outputs": [],
   "source": []
  }
 ],
 "metadata": {
  "kernelspec": {
   "display_name": "Python 3",
   "language": "python",
   "name": "python3"
  },
  "language_info": {
   "codemirror_mode": {
    "name": "ipython",
    "version": 3
   },
   "file_extension": ".py",
   "mimetype": "text/x-python",
   "name": "python",
   "nbconvert_exporter": "python",
   "pygments_lexer": "ipython3",
   "version": "3.7.0"
  }
 },
 "nbformat": 4,
 "nbformat_minor": 2
}
