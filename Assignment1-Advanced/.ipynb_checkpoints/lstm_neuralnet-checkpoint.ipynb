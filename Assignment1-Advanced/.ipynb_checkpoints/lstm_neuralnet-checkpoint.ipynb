{
 "cells": [
  {
   "cell_type": "markdown",
   "metadata": {},
   "source": [
    "# LSTM (Long Short-Term Memory) Neural Network"
   ]
  },
  {
   "cell_type": "markdown",
   "metadata": {},
   "source": [
    "### Import modules"
   ]
  },
  {
   "cell_type": "code",
   "execution_count": 1,
   "metadata": {},
   "outputs": [
    {
     "name": "stderr",
     "output_type": "stream",
     "text": [
      "Using TensorFlow backend.\n"
     ]
    }
   ],
   "source": [
    "import pandas as pd\n",
    "import glob\n",
    "import numpy as np\n",
    "import sys\n",
    "import matplotlib.pyplot as plt\n",
    "from keras.models import Sequential\n",
    "from keras.layers import Dense\n",
    "from keras.layers import LSTM\n",
    "from sklearn.model_selection import train_test_split\n",
    "\n",
    "plt.style.use('ggplot')"
   ]
  },
  {
   "cell_type": "markdown",
   "metadata": {},
   "source": [
    "### Read in our dataframe and print the head"
   ]
  },
  {
   "cell_type": "code",
   "execution_count": 64,
   "metadata": {
    "scrolled": true
   },
   "outputs": [
    {
     "name": "stdout",
     "output_type": "stream",
     "text": [
      "   activity  appCat.builtin  appCat.communication  appCat.entertainment  \\\n",
      "0  0.194919       14018.421             13106.589              2523.033   \n",
      "1  0.195758       17947.665             10977.717              2481.042   \n",
      "2  0.178188       16138.365             10227.168              2114.949   \n",
      "3  0.166907       18882.663             10379.178              2596.956   \n",
      "4  0.184079       20763.381             16983.687              2779.512   \n",
      "\n",
      "   appCat.office  appCat.other  appCat.social  appCat.travel  appCat.unknown  \\\n",
      "0       1177.701      1524.471       2088.828       1605.474             0.0   \n",
      "1       1383.021      1321.545       1993.173       2001.090             0.0   \n",
      "2       1406.280      1092.156       1306.854       2455.134             0.0   \n",
      "3       1428.516      1367.439       2004.513       2036.802             0.0   \n",
      "4       1441.110      1553.658       2052.147       1736.133             0.0   \n",
      "\n",
      "   appCat.utilities  call  circumplex.arousal  circumplex.valence      mood  \\\n",
      "0          1677.987    39                0.63            0.423333  6.893333   \n",
      "1          1726.467    36                0.61            0.393333  6.813333   \n",
      "2          1730.772    36                0.61            0.370000  6.800000   \n",
      "3          1903.692    30                0.61            0.350000  6.880000   \n",
      "4          1468.332    27                0.60            0.360000  6.920000   \n",
      "\n",
      "   patientno   period         screen  sms  target_mood  \n",
      "0  Patient31  t = 0-5  112579.727998   45          6.6  \n",
      "1  Patient31  t = 1-6  128035.760998   39          6.6  \n",
      "2  Patient31  t = 2-7  104684.955001   39          7.0  \n",
      "3  Patient31  t = 3-8   74261.696998   33          7.0  \n",
      "4  Patient31  t = 4-9   78580.781995   30          7.2  \n"
     ]
    }
   ],
   "source": [
    "df = pd.read_csv('data/table_5.csv')\n",
    "df.fillna(0, inplace = True)\n",
    "\n",
    "print(df.head())"
   ]
  },
  {
   "cell_type": "markdown",
   "metadata": {},
   "source": [
    "### Convert data/target into numpy arrays"
   ]
  },
  {
   "cell_type": "code",
   "execution_count": 65,
   "metadata": {},
   "outputs": [],
   "source": [
    "target = np.array(df['target_mood'], dtype = float)\n",
    "del df['target_mood']\n",
    "del df['patientno']\n",
    "del df['period']\n",
    "data = np.array(df, dtype = float)"
   ]
  },
  {
   "cell_type": "markdown",
   "metadata": {},
   "source": [
    "### Show data/target shapes"
   ]
  },
  {
   "cell_type": "code",
   "execution_count": 66,
   "metadata": {},
   "outputs": [
    {
     "name": "stdout",
     "output_type": "stream",
     "text": [
      "(1151, 16)\n",
      "(1151,)\n"
     ]
    }
   ],
   "source": [
    "print(data.shape)\n",
    "print(target.shape)"
   ]
  },
  {
   "cell_type": "markdown",
   "metadata": {},
   "source": [
    "### Split test/train datasets (set random_state for seeding)"
   ]
  },
  {
   "cell_type": "code",
   "execution_count": 67,
   "metadata": {},
   "outputs": [],
   "source": [
    "x_train, x_test, y_train, y_test = train_test_split(data, target, test_size = 0.2, random_state = 1)\n",
    "\n",
    "x_train = np.reshape(x_train, (x_train.shape[0], 1, x_train.shape[1]))\n",
    "x_test = np.reshape(x_test, (x_test.shape[0], 1, x_test.shape[1]))"
   ]
  },
  {
   "cell_type": "markdown",
   "metadata": {},
   "source": [
    "### LSTM RNN model"
   ]
  },
  {
   "cell_type": "code",
   "execution_count": 68,
   "metadata": {},
   "outputs": [
    {
     "name": "stdout",
     "output_type": "stream",
     "text": [
      "_________________________________________________________________\n",
      "Layer (type)                 Output Shape              Param #   \n",
      "=================================================================\n",
      "lstm_23 (LSTM)               (None, 1)                 72        \n",
      "=================================================================\n",
      "Total params: 72\n",
      "Trainable params: 72\n",
      "Non-trainable params: 0\n",
      "_________________________________________________________________\n"
     ]
    }
   ],
   "source": [
    "rnn = Sequential()\n",
    "rnn.add(LSTM((1), input_shape = (None, 16), return_sequences = False))\n",
    "rnn.compile(loss = 'mean_absolute_error', optimizer = 'adam', metrics = ['accuracy'])\n",
    "rnn.summary()"
   ]
  },
  {
   "cell_type": "markdown",
   "metadata": {},
   "source": [
    "### Fit the model and save it for re-training/fine-tuning later"
   ]
  },
  {
   "cell_type": "code",
   "execution_count": 69,
   "metadata": {
    "scrolled": true
   },
   "outputs": [
    {
     "name": "stdout",
     "output_type": "stream",
     "text": [
      "Train on 920 samples, validate on 231 samples\n",
      "Epoch 1/50\n",
      "920/920 [==============================] - 1s 1ms/step - loss: 7.0425 - acc: 0.0000e+00 - val_loss: 7.1141 - val_acc: 0.0000e+00\n",
      "Epoch 2/50\n",
      "920/920 [==============================] - 0s 52us/step - loss: 7.0425 - acc: 0.0000e+00 - val_loss: 7.1141 - val_acc: 0.0000e+00\n",
      "Epoch 3/50\n",
      "920/920 [==============================] - 0s 57us/step - loss: 7.0425 - acc: 0.0000e+00 - val_loss: 7.1141 - val_acc: 0.0000e+00\n",
      "Epoch 4/50\n",
      "920/920 [==============================] - 0s 56us/step - loss: 7.0425 - acc: 0.0000e+00 - val_loss: 7.1141 - val_acc: 0.0000e+00\n",
      "Epoch 5/50\n",
      "920/920 [==============================] - 0s 68us/step - loss: 7.0425 - acc: 0.0000e+00 - val_loss: 7.1141 - val_acc: 0.0000e+00\n",
      "Epoch 6/50\n",
      "920/920 [==============================] - 0s 71us/step - loss: 7.0425 - acc: 0.0000e+00 - val_loss: 7.1141 - val_acc: 0.0000e+00\n",
      "Epoch 7/50\n",
      "920/920 [==============================] - 0s 53us/step - loss: 7.0425 - acc: 0.0000e+00 - val_loss: 7.1141 - val_acc: 0.0000e+00\n",
      "Epoch 8/50\n",
      "920/920 [==============================] - 0s 52us/step - loss: 7.0425 - acc: 0.0000e+00 - val_loss: 7.1141 - val_acc: 0.0000e+00\n",
      "Epoch 9/50\n",
      "920/920 [==============================] - 0s 53us/step - loss: 7.0425 - acc: 0.0000e+00 - val_loss: 7.1141 - val_acc: 0.0000e+00\n",
      "Epoch 10/50\n",
      "920/920 [==============================] - 0s 58us/step - loss: 7.0425 - acc: 0.0000e+00 - val_loss: 7.1141 - val_acc: 0.0000e+00\n",
      "Epoch 11/50\n",
      "920/920 [==============================] - 0s 69us/step - loss: 7.0425 - acc: 0.0000e+00 - val_loss: 7.1141 - val_acc: 0.0000e+00\n",
      "Epoch 12/50\n",
      "920/920 [==============================] - 0s 56us/step - loss: 7.0425 - acc: 0.0000e+00 - val_loss: 7.1141 - val_acc: 0.0000e+00\n",
      "Epoch 13/50\n",
      "920/920 [==============================] - 0s 67us/step - loss: 7.0425 - acc: 0.0000e+00 - val_loss: 7.1141 - val_acc: 0.0000e+00\n",
      "Epoch 14/50\n",
      "920/920 [==============================] - 0s 62us/step - loss: 7.0425 - acc: 0.0000e+00 - val_loss: 7.1141 - val_acc: 0.0000e+00\n",
      "Epoch 15/50\n",
      "920/920 [==============================] - 0s 80us/step - loss: 7.0425 - acc: 0.0000e+00 - val_loss: 7.1141 - val_acc: 0.0000e+00\n",
      "Epoch 16/50\n",
      "920/920 [==============================] - 0s 62us/step - loss: 7.0425 - acc: 0.0000e+00 - val_loss: 7.1141 - val_acc: 0.0000e+00\n",
      "Epoch 17/50\n",
      "920/920 [==============================] - 0s 70us/step - loss: 7.0425 - acc: 0.0000e+00 - val_loss: 7.1141 - val_acc: 0.0000e+00\n",
      "Epoch 18/50\n",
      "920/920 [==============================] - 0s 60us/step - loss: 7.0425 - acc: 0.0000e+00 - val_loss: 7.1141 - val_acc: 0.0000e+00\n",
      "Epoch 19/50\n",
      "920/920 [==============================] - 0s 66us/step - loss: 7.0425 - acc: 0.0000e+00 - val_loss: 7.1141 - val_acc: 0.0000e+00\n",
      "Epoch 20/50\n",
      "920/920 [==============================] - 0s 64us/step - loss: 7.0425 - acc: 0.0000e+00 - val_loss: 7.1141 - val_acc: 0.0000e+00\n",
      "Epoch 21/50\n",
      "920/920 [==============================] - 0s 90us/step - loss: 7.0425 - acc: 0.0000e+00 - val_loss: 7.1141 - val_acc: 0.0000e+00\n",
      "Epoch 22/50\n",
      "920/920 [==============================] - 0s 102us/step - loss: 7.0425 - acc: 0.0000e+00 - val_loss: 7.1141 - val_acc: 0.0000e+00\n",
      "Epoch 23/50\n",
      "920/920 [==============================] - 0s 106us/step - loss: 7.0425 - acc: 0.0000e+00 - val_loss: 7.1141 - val_acc: 0.0000e+00\n",
      "Epoch 24/50\n",
      "920/920 [==============================] - 0s 57us/step - loss: 7.0425 - acc: 0.0000e+00 - val_loss: 7.1141 - val_acc: 0.0000e+00\n",
      "Epoch 25/50\n",
      "920/920 [==============================] - 0s 54us/step - loss: 7.0425 - acc: 0.0000e+00 - val_loss: 7.1141 - val_acc: 0.0000e+00\n",
      "Epoch 26/50\n",
      "920/920 [==============================] - 0s 56us/step - loss: 7.0425 - acc: 0.0000e+00 - val_loss: 7.1141 - val_acc: 0.0000e+00\n",
      "Epoch 27/50\n",
      "920/920 [==============================] - 0s 56us/step - loss: 7.0425 - acc: 0.0000e+00 - val_loss: 7.1141 - val_acc: 0.0000e+00\n",
      "Epoch 28/50\n",
      "920/920 [==============================] - 0s 72us/step - loss: 7.0425 - acc: 0.0000e+00 - val_loss: 7.1141 - val_acc: 0.0000e+00\n",
      "Epoch 29/50\n",
      "920/920 [==============================] - 0s 69us/step - loss: 7.0425 - acc: 0.0000e+00 - val_loss: 7.1141 - val_acc: 0.0000e+00\n",
      "Epoch 30/50\n",
      "920/920 [==============================] - 0s 55us/step - loss: 7.0425 - acc: 0.0000e+00 - val_loss: 7.1141 - val_acc: 0.0000e+00\n",
      "Epoch 31/50\n",
      "920/920 [==============================] - 0s 72us/step - loss: 7.0425 - acc: 0.0000e+00 - val_loss: 7.1141 - val_acc: 0.0000e+00\n",
      "Epoch 32/50\n",
      "920/920 [==============================] - 0s 68us/step - loss: 7.0425 - acc: 0.0000e+00 - val_loss: 7.1141 - val_acc: 0.0000e+00\n",
      "Epoch 33/50\n",
      "920/920 [==============================] - 0s 54us/step - loss: 7.0425 - acc: 0.0000e+00 - val_loss: 7.1141 - val_acc: 0.0000e+00\n",
      "Epoch 34/50\n",
      "920/920 [==============================] - 0s 56us/step - loss: 7.0425 - acc: 0.0000e+00 - val_loss: 7.1141 - val_acc: 0.0000e+00\n",
      "Epoch 35/50\n",
      "920/920 [==============================] - 0s 62us/step - loss: 7.0425 - acc: 0.0000e+00 - val_loss: 7.1141 - val_acc: 0.0000e+00\n",
      "Epoch 36/50\n",
      "920/920 [==============================] - 0s 78us/step - loss: 7.0425 - acc: 0.0000e+00 - val_loss: 7.1141 - val_acc: 0.0000e+00\n",
      "Epoch 37/50\n",
      "920/920 [==============================] - 0s 56us/step - loss: 7.0425 - acc: 0.0000e+00 - val_loss: 7.1141 - val_acc: 0.0000e+00\n",
      "Epoch 38/50\n",
      "920/920 [==============================] - 0s 69us/step - loss: 7.0425 - acc: 0.0000e+00 - val_loss: 7.1141 - val_acc: 0.0000e+00\n",
      "Epoch 39/50\n",
      "920/920 [==============================] - 0s 58us/step - loss: 7.0425 - acc: 0.0000e+00 - val_loss: 7.1141 - val_acc: 0.0000e+00\n",
      "Epoch 40/50\n",
      "920/920 [==============================] - 0s 57us/step - loss: 7.0425 - acc: 0.0000e+00 - val_loss: 7.1141 - val_acc: 0.0000e+00\n",
      "Epoch 41/50\n",
      "920/920 [==============================] - 0s 52us/step - loss: 7.0425 - acc: 0.0000e+00 - val_loss: 7.1141 - val_acc: 0.0000e+00\n",
      "Epoch 42/50\n",
      "920/920 [==============================] - 0s 55us/step - loss: 7.0425 - acc: 0.0000e+00 - val_loss: 7.1141 - val_acc: 0.0000e+00\n",
      "Epoch 43/50\n",
      "920/920 [==============================] - 0s 54us/step - loss: 7.0425 - acc: 0.0000e+00 - val_loss: 7.1141 - val_acc: 0.0000e+00\n",
      "Epoch 44/50\n",
      "920/920 [==============================] - 0s 55us/step - loss: 7.0425 - acc: 0.0000e+00 - val_loss: 7.1141 - val_acc: 0.0000e+00\n",
      "Epoch 45/50\n",
      "920/920 [==============================] - 0s 53us/step - loss: 7.0425 - acc: 0.0000e+00 - val_loss: 7.1141 - val_acc: 0.0000e+00\n",
      "Epoch 46/50\n",
      "920/920 [==============================] - 0s 58us/step - loss: 7.0425 - acc: 0.0000e+00 - val_loss: 7.1141 - val_acc: 0.0000e+00\n",
      "Epoch 47/50\n",
      "920/920 [==============================] - 0s 55us/step - loss: 7.0425 - acc: 0.0000e+00 - val_loss: 7.1141 - val_acc: 0.0000e+00\n",
      "Epoch 48/50\n",
      "920/920 [==============================] - 0s 55us/step - loss: 7.0425 - acc: 0.0000e+00 - val_loss: 7.1141 - val_acc: 0.0000e+00\n",
      "Epoch 49/50\n",
      "920/920 [==============================] - 0s 54us/step - loss: 7.0425 - acc: 0.0000e+00 - val_loss: 7.1141 - val_acc: 0.0000e+00\n",
      "Epoch 50/50\n",
      "920/920 [==============================] - 0s 56us/step - loss: 7.0425 - acc: 0.0000e+00 - val_loss: 7.1141 - val_acc: 0.0000e+00\n"
     ]
    }
   ],
   "source": [
    "history = rnn.fit(x_train, y_train, epochs=150, validation_data = (x_test, y_test))"
   ]
  },
  {
   "cell_type": "markdown",
   "metadata": {},
   "source": [
    "### Predict x-test and plot against y-test"
   ]
  },
  {
   "cell_type": "code",
   "execution_count": 72,
   "metadata": {
    "scrolled": false
   },
   "outputs": [
    {
     "data": {
      "image/png": "[encoded data removed]",
      "text/plain": [
       "<Figure size 432x288 with 1 Axes>"
      ]
     },
     "metadata": {
      "needs_background": "light"
     },
     "output_type": "display_data"
    }
   ],
   "source": [
    "results = rnn.predict(x_test)\n",
    "\n",
    "plt.scatter(range(231), results, c='r')\n",
    "plt.scatter(range(231), y_test, c='b')\n",
    "plt.show()"
   ]
  },
  {
   "cell_type": "markdown",
   "metadata": {},
   "source": [
    "### Plot the loss from our history"
   ]
  },
  {
   "cell_type": "code",
   "execution_count": 73,
   "metadata": {},
   "outputs": [
    {
     "data": {
      "image/png": "[encoded data removed]",
      "text/plain": [
       "<Figure size 432x288 with 1 Axes>"
      ]
     },
     "metadata": {
      "needs_background": "light"
     },
     "output_type": "display_data"
    }
   ],
   "source": [
    "plt.plot(history.history['loss'])\n",
    "plt.show()"
   ]
  },
  {
   "cell_type": "code",
   "execution_count": null,
   "metadata": {},
   "outputs": [],
   "source": []
  }
 ],
 "metadata": {
  "kernelspec": {
   "display_name": "Python 3",
   "language": "python",
   "name": "python3"
  },
  "language_info": {
   "codemirror_mode": {
    "name": "ipython",
    "version": 3
   },
   "file_extension": ".py",
   "mimetype": "text/x-python",
   "name": "python",
   "nbconvert_exporter": "python",
   "pygments_lexer": "ipython3",
   "version": "3.5.2"
  }
 },
 "nbformat": 4,
 "nbformat_minor": 2
}
