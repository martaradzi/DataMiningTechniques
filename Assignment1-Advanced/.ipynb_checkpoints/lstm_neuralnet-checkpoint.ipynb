{
 "cells": [
  {
   "cell_type": "markdown",
   "metadata": {},
   "source": [
    "# LSTM (Long Short-Term Memory) Neural Network"
   ]
  },
  {
   "cell_type": "markdown",
   "metadata": {},
   "source": [
    "### Import modules"
   ]
  },
  {
   "cell_type": "code",
   "execution_count": 827,
   "metadata": {},
   "outputs": [],
   "source": [
    "import pandas as pd\n",
    "import glob\n",
    "import numpy as np\n",
    "import sys\n",
    "import matplotlib.pyplot as plt\n",
    "from keras.models import Sequential\n",
    "from keras.layers import Dense, Activation, Dropout\n",
    "from keras.layers import LSTM\n",
    "from sklearn.model_selection import train_test_split\n",
    "from sklearn.preprocessing import MinMaxScaler\n",
    "from sklearn.metrics import mean_squared_error\n",
    "from math import sqrt\n",
    "\n",
    "plt.style.use('ggplot')\n",
    "%matplotlib inline"
   ]
  },
  {
   "cell_type": "markdown",
   "metadata": {},
   "source": [
    "### Read in our dataframe and print the head"
   ]
  },
  {
   "cell_type": "code",
   "execution_count": 828,
   "metadata": {
    "scrolled": false
   },
   "outputs": [
    {
     "name": "stdout",
     "output_type": "stream",
     "text": [
      "   p31      mood  circumplex.arousal  circumplex.valence  activity  \\\n",
      "0  1.0  7.000000                 0.6            0.800000  0.163271   \n",
      "1  1.0  6.666667                 0.2            0.666667  0.234817   \n",
      "2  1.0  6.600000                 0.6            1.000000  0.199502   \n",
      "3  1.0  6.800000                 0.4            0.400000  0.133804   \n",
      "4  1.0  7.400000                 0.8            0.600000  0.243202   \n",
      "\n",
      "         screen  call  sms  appCat.builtin  appCat.communication  ...  p19  \\\n",
      "0   7486.406999     6    9        1844.007              4656.453  ...  0.0   \n",
      "1  39966.077998     3    6        4449.852              3253.128  ...  0.0   \n",
      "2  40121.378999     9   12        1514.190              2658.900  ...  0.0   \n",
      "3   7680.174001     6    9        1786.245               401.637  ...  0.0   \n",
      "4  17325.690001    15    9        4424.127              2136.471  ...  0.0   \n",
      "\n",
      "   p15   p5  p20  p24  p13  p33  p29  p25   p8  \n",
      "0  0.0  0.0  0.0  0.0  0.0  0.0  0.0  0.0  0.0  \n",
      "1  0.0  0.0  0.0  0.0  0.0  0.0  0.0  0.0  0.0  \n",
      "2  0.0  0.0  0.0  0.0  0.0  0.0  0.0  0.0  0.0  \n",
      "3  0.0  0.0  0.0  0.0  0.0  0.0  0.0  0.0  0.0  \n",
      "4  0.0  0.0  0.0  0.0  0.0  0.0  0.0  0.0  0.0  \n",
      "\n",
      "[5 rows x 54 columns]\n"
     ]
    }
   ],
   "source": [
    "# df = pd.read_csv('data/patient_data/5_p1.csv')\n",
    "df = pd.read_csv('data/LSTM_window_1.csv')\n",
    "df.fillna(0, inplace = True)\n",
    "print(df.head())"
   ]
  },
  {
   "cell_type": "markdown",
   "metadata": {},
   "source": [
    "### Scale/convert data/target into numpy arrays"
   ]
  },
  {
   "cell_type": "code",
   "execution_count": 829,
   "metadata": {},
   "outputs": [],
   "source": [
    "# del df['period']\n",
    "scaler = MinMaxScaler(feature_range=(-1, 1))\n",
    "target = scaler.fit_transform(np.array(df['target_mood'], dtype = float).reshape(-1, 1))\n",
    "del df['target_mood']\n",
    "data = scaler.fit_transform(np.array(df, dtype = float))"
   ]
  },
  {
   "cell_type": "markdown",
   "metadata": {},
   "source": [
    "### Show data/target shapes"
   ]
  },
  {
   "cell_type": "code",
   "execution_count": 830,
   "metadata": {},
   "outputs": [
    {
     "name": "stdout",
     "output_type": "stream",
     "text": [
      "(1259, 53)\n",
      "(1259, 1)\n"
     ]
    }
   ],
   "source": [
    "print(data.shape)\n",
    "print(target.shape)"
   ]
  },
  {
   "cell_type": "markdown",
   "metadata": {},
   "source": [
    "### Split test/train datasets (set random_state for seeding)"
   ]
  },
  {
   "cell_type": "code",
   "execution_count": 831,
   "metadata": {},
   "outputs": [],
   "source": [
    "x_train, x_test, y_train, y_test = train_test_split(data, target, test_size = 0.2, random_state = None)\n",
    "\n",
    "x_train = np.reshape(x_train, (x_train.shape[0], 1, x_train.shape[1]))\n",
    "x_test = np.reshape(x_test, (x_test.shape[0], 1, x_test.shape[1]))"
   ]
  },
  {
   "cell_type": "markdown",
   "metadata": {},
   "source": [
    "### LSTM RNN model"
   ]
  },
  {
   "cell_type": "code",
   "execution_count": 832,
   "metadata": {},
   "outputs": [
    {
     "name": "stdout",
     "output_type": "stream",
     "text": [
      "_________________________________________________________________\n",
      "Layer (type)                 Output Shape              Param #   \n",
      "=================================================================\n",
      "lstm_159 (LSTM)              (None, 1, 1)              220       \n",
      "_________________________________________________________________\n",
      "lstm_160 (LSTM)              (None, 1)                 12        \n",
      "_________________________________________________________________\n",
      "dropout_13 (Dropout)         (None, 1)                 0         \n",
      "_________________________________________________________________\n",
      "dense_21 (Dense)             (None, 1)                 2         \n",
      "_________________________________________________________________\n",
      "activation_13 (Activation)   (None, 1)                 0         \n",
      "=================================================================\n",
      "Total params: 234\n",
      "Trainable params: 234\n",
      "Non-trainable params: 0\n",
      "_________________________________________________________________\n"
     ]
    }
   ],
   "source": [
    "rnn = Sequential()\n",
    "rnn.add(LSTM((1), batch_input_shape = (None, 1, data.shape[1]), return_sequences = True))\n",
    "rnn.add(LSTM((1), return_sequences = False))\n",
    "rnn.add(Dropout(0.2))\n",
    "rnn.add(Dense(1))\n",
    "rnn.add(Activation(\"linear\"))\n",
    "rnn.compile(loss = 'mse', optimizer = 'rmsprop', metrics=['mse'])\n",
    "# rnn.compile(loss = 'mse', optimizer = 'adam', metrics=['mse', 'mae', 'cosine'])\n",
    "rnn.summary()"
   ]
  },
  {
   "cell_type": "markdown",
   "metadata": {},
   "source": [
    "### Fit the model and save it for re-training/fine-tuning later"
   ]
  },
  {
   "cell_type": "code",
   "execution_count": 833,
   "metadata": {
    "scrolled": true
   },
   "outputs": [
    {
     "name": "stdout",
     "output_type": "stream",
     "text": [
      "Train on 1007 samples, validate on 252 samples\n",
      "Epoch 1/200\n",
      "1007/1007 [==============================] - 18s 18ms/step - loss: 0.1062 - mean_squared_error: 0.1062 - val_loss: 0.0839 - val_mean_squared_error: 0.0839\n",
      "Epoch 2/200\n",
      "1007/1007 [==============================] - 0s 134us/step - loss: 0.0824 - mean_squared_error: 0.0824 - val_loss: 0.0664 - val_mean_squared_error: 0.0664\n",
      "Epoch 3/200\n",
      "1007/1007 [==============================] - 0s 153us/step - loss: 0.0671 - mean_squared_error: 0.0671 - val_loss: 0.0572 - val_mean_squared_error: 0.0572\n",
      "Epoch 4/200\n",
      "1007/1007 [==============================] - 0s 128us/step - loss: 0.0614 - mean_squared_error: 0.0614 - val_loss: 0.0536 - val_mean_squared_error: 0.0536\n",
      "Epoch 5/200\n",
      "1007/1007 [==============================] - 0s 144us/step - loss: 0.0570 - mean_squared_error: 0.0570 - val_loss: 0.0521 - val_mean_squared_error: 0.0521\n",
      "Epoch 6/200\n",
      "1007/1007 [==============================] - 0s 144us/step - loss: 0.0550 - mean_squared_error: 0.0550 - val_loss: 0.0516 - val_mean_squared_error: 0.0516\n",
      "Epoch 7/200\n",
      "1007/1007 [==============================] - 0s 128us/step - loss: 0.0549 - mean_squared_error: 0.0549 - val_loss: 0.0515 - val_mean_squared_error: 0.0515\n",
      "Epoch 8/200\n",
      "1007/1007 [==============================] - 0s 141us/step - loss: 0.0531 - mean_squared_error: 0.0531 - val_loss: 0.0512 - val_mean_squared_error: 0.0512\n",
      "Epoch 9/200\n",
      "1007/1007 [==============================] - 0s 124us/step - loss: 0.0526 - mean_squared_error: 0.0526 - val_loss: 0.0514 - val_mean_squared_error: 0.0514\n",
      "Epoch 10/200\n",
      "1007/1007 [==============================] - 0s 126us/step - loss: 0.0520 - mean_squared_error: 0.0520 - val_loss: 0.0510 - val_mean_squared_error: 0.0510\n",
      "Epoch 11/200\n",
      "1007/1007 [==============================] - 0s 134us/step - loss: 0.0527 - mean_squared_error: 0.0527 - val_loss: 0.0510 - val_mean_squared_error: 0.0510\n",
      "Epoch 12/200\n",
      "1007/1007 [==============================] - 0s 140us/step - loss: 0.0521 - mean_squared_error: 0.0521 - val_loss: 0.0510 - val_mean_squared_error: 0.0510\n",
      "Epoch 13/200\n",
      "1007/1007 [==============================] - 0s 126us/step - loss: 0.0518 - mean_squared_error: 0.0518 - val_loss: 0.0507 - val_mean_squared_error: 0.0507\n",
      "Epoch 14/200\n",
      "1007/1007 [==============================] - 0s 131us/step - loss: 0.0516 - mean_squared_error: 0.0516 - val_loss: 0.0508 - val_mean_squared_error: 0.0508\n",
      "Epoch 15/200\n",
      "1007/1007 [==============================] - 0s 136us/step - loss: 0.0513 - mean_squared_error: 0.0513 - val_loss: 0.0508 - val_mean_squared_error: 0.0508\n",
      "Epoch 16/200\n",
      "1007/1007 [==============================] - 0s 130us/step - loss: 0.0519 - mean_squared_error: 0.0519 - val_loss: 0.0507 - val_mean_squared_error: 0.0507\n",
      "Epoch 17/200\n",
      "1007/1007 [==============================] - 0s 129us/step - loss: 0.0508 - mean_squared_error: 0.0508 - val_loss: 0.0502 - val_mean_squared_error: 0.0502\n",
      "Epoch 18/200\n",
      "1007/1007 [==============================] - 0s 126us/step - loss: 0.0510 - mean_squared_error: 0.0510 - val_loss: 0.0497 - val_mean_squared_error: 0.0497\n",
      "Epoch 19/200\n",
      "1007/1007 [==============================] - 0s 138us/step - loss: 0.0504 - mean_squared_error: 0.0504 - val_loss: 0.0490 - val_mean_squared_error: 0.0490\n",
      "Epoch 20/200\n",
      "1007/1007 [==============================] - 0s 132us/step - loss: 0.0502 - mean_squared_error: 0.0502 - val_loss: 0.0486 - val_mean_squared_error: 0.0486\n",
      "Epoch 21/200\n",
      "1007/1007 [==============================] - 0s 134us/step - loss: 0.0494 - mean_squared_error: 0.0494 - val_loss: 0.0481 - val_mean_squared_error: 0.0481\n",
      "Epoch 22/200\n",
      "1007/1007 [==============================] - 0s 126us/step - loss: 0.0488 - mean_squared_error: 0.0488 - val_loss: 0.0476 - val_mean_squared_error: 0.0476\n",
      "Epoch 23/200\n",
      "1007/1007 [==============================] - 0s 121us/step - loss: 0.0483 - mean_squared_error: 0.0483 - val_loss: 0.0478 - val_mean_squared_error: 0.0478\n",
      "Epoch 24/200\n",
      "1007/1007 [==============================] - 0s 125us/step - loss: 0.0486 - mean_squared_error: 0.0486 - val_loss: 0.0472 - val_mean_squared_error: 0.0472\n",
      "Epoch 25/200\n",
      "1007/1007 [==============================] - 0s 131us/step - loss: 0.0471 - mean_squared_error: 0.0471 - val_loss: 0.0465 - val_mean_squared_error: 0.0465\n",
      "Epoch 26/200\n",
      "1007/1007 [==============================] - 0s 114us/step - loss: 0.0475 - mean_squared_error: 0.0475 - val_loss: 0.0460 - val_mean_squared_error: 0.0460\n",
      "Epoch 27/200\n",
      "1007/1007 [==============================] - 0s 136us/step - loss: 0.0467 - mean_squared_error: 0.0467 - val_loss: 0.0456 - val_mean_squared_error: 0.0456\n",
      "Epoch 28/200\n",
      "1007/1007 [==============================] - 0s 121us/step - loss: 0.0471 - mean_squared_error: 0.0471 - val_loss: 0.0456 - val_mean_squared_error: 0.0456\n",
      "Epoch 29/200\n",
      "1007/1007 [==============================] - 0s 128us/step - loss: 0.0459 - mean_squared_error: 0.0459 - val_loss: 0.0451 - val_mean_squared_error: 0.0451\n",
      "Epoch 30/200\n",
      "1007/1007 [==============================] - 0s 130us/step - loss: 0.0463 - mean_squared_error: 0.0463 - val_loss: 0.0446 - val_mean_squared_error: 0.0446\n",
      "Epoch 31/200\n",
      "1007/1007 [==============================] - 0s 130us/step - loss: 0.0454 - mean_squared_error: 0.0454 - val_loss: 0.0442 - val_mean_squared_error: 0.0442\n",
      "Epoch 32/200\n",
      "1007/1007 [==============================] - 0s 133us/step - loss: 0.0454 - mean_squared_error: 0.0454 - val_loss: 0.0440 - val_mean_squared_error: 0.0440\n",
      "Epoch 33/200\n",
      "1007/1007 [==============================] - 0s 131us/step - loss: 0.0442 - mean_squared_error: 0.0442 - val_loss: 0.0438 - val_mean_squared_error: 0.0438\n",
      "Epoch 34/200\n",
      "1007/1007 [==============================] - 0s 121us/step - loss: 0.0447 - mean_squared_error: 0.0447 - val_loss: 0.0433 - val_mean_squared_error: 0.0433\n",
      "Epoch 35/200\n",
      "1007/1007 [==============================] - 0s 130us/step - loss: 0.0444 - mean_squared_error: 0.0444 - val_loss: 0.0429 - val_mean_squared_error: 0.0429\n",
      "Epoch 36/200\n",
      "1007/1007 [==============================] - 0s 140us/step - loss: 0.0434 - mean_squared_error: 0.0434 - val_loss: 0.0424 - val_mean_squared_error: 0.0424\n",
      "Epoch 37/200\n",
      "1007/1007 [==============================] - 0s 146us/step - loss: 0.0443 - mean_squared_error: 0.0443 - val_loss: 0.0423 - val_mean_squared_error: 0.0423\n",
      "Epoch 38/200\n",
      "1007/1007 [==============================] - 0s 137us/step - loss: 0.0430 - mean_squared_error: 0.0430 - val_loss: 0.0421 - val_mean_squared_error: 0.0421\n",
      "Epoch 39/200\n",
      "1007/1007 [==============================] - 0s 141us/step - loss: 0.0426 - mean_squared_error: 0.0426 - val_loss: 0.0417 - val_mean_squared_error: 0.0417\n",
      "Epoch 40/200\n",
      "1007/1007 [==============================] - 0s 135us/step - loss: 0.0430 - mean_squared_error: 0.0430 - val_loss: 0.0416 - val_mean_squared_error: 0.0416\n",
      "Epoch 41/200\n",
      "1007/1007 [==============================] - 0s 133us/step - loss: 0.0426 - mean_squared_error: 0.0426 - val_loss: 0.0411 - val_mean_squared_error: 0.0411\n",
      "Epoch 42/200\n",
      "1007/1007 [==============================] - 0s 132us/step - loss: 0.0420 - mean_squared_error: 0.0420 - val_loss: 0.0413 - val_mean_squared_error: 0.0413\n",
      "Epoch 43/200\n",
      "1007/1007 [==============================] - 0s 139us/step - loss: 0.0403 - mean_squared_error: 0.0403 - val_loss: 0.0407 - val_mean_squared_error: 0.0407\n",
      "Epoch 44/200\n",
      "1007/1007 [==============================] - 0s 133us/step - loss: 0.0409 - mean_squared_error: 0.0409 - val_loss: 0.0404 - val_mean_squared_error: 0.0404\n",
      "Epoch 45/200\n",
      "1007/1007 [==============================] - 0s 160us/step - loss: 0.0430 - mean_squared_error: 0.0430 - val_loss: 0.0404 - val_mean_squared_error: 0.0404\n",
      "Epoch 46/200\n",
      "1007/1007 [==============================] - 0s 131us/step - loss: 0.0423 - mean_squared_error: 0.0423 - val_loss: 0.0401 - val_mean_squared_error: 0.0401\n",
      "Epoch 47/200\n",
      "1007/1007 [==============================] - 0s 130us/step - loss: 0.0409 - mean_squared_error: 0.0409 - val_loss: 0.0399 - val_mean_squared_error: 0.0399\n",
      "Epoch 48/200\n",
      "1007/1007 [==============================] - 0s 129us/step - loss: 0.0416 - mean_squared_error: 0.0416 - val_loss: 0.0397 - val_mean_squared_error: 0.0397\n",
      "Epoch 49/200\n"
     ]
    },
    {
     "name": "stdout",
     "output_type": "stream",
     "text": [
      "1007/1007 [==============================] - 0s 137us/step - loss: 0.0413 - mean_squared_error: 0.0413 - val_loss: 0.0396 - val_mean_squared_error: 0.0396\n",
      "Epoch 50/200\n",
      "1007/1007 [==============================] - 0s 135us/step - loss: 0.0408 - mean_squared_error: 0.0408 - val_loss: 0.0394 - val_mean_squared_error: 0.0394\n",
      "Epoch 51/200\n",
      "1007/1007 [==============================] - 0s 118us/step - loss: 0.0406 - mean_squared_error: 0.0406 - val_loss: 0.0392 - val_mean_squared_error: 0.0392\n",
      "Epoch 52/200\n",
      "1007/1007 [==============================] - 0s 130us/step - loss: 0.0413 - mean_squared_error: 0.0413 - val_loss: 0.0393 - val_mean_squared_error: 0.0393\n",
      "Epoch 53/200\n",
      "1007/1007 [==============================] - 0s 127us/step - loss: 0.0393 - mean_squared_error: 0.0393 - val_loss: 0.0392 - val_mean_squared_error: 0.0392\n",
      "Epoch 54/200\n",
      "1007/1007 [==============================] - 0s 138us/step - loss: 0.0403 - mean_squared_error: 0.0403 - val_loss: 0.0392 - val_mean_squared_error: 0.0392\n",
      "Epoch 55/200\n",
      "1007/1007 [==============================] - 0s 114us/step - loss: 0.0396 - mean_squared_error: 0.0396 - val_loss: 0.0388 - val_mean_squared_error: 0.0388\n",
      "Epoch 56/200\n",
      "1007/1007 [==============================] - 0s 133us/step - loss: 0.0394 - mean_squared_error: 0.0394 - val_loss: 0.0388 - val_mean_squared_error: 0.0388\n",
      "Epoch 57/200\n",
      "1007/1007 [==============================] - 0s 119us/step - loss: 0.0390 - mean_squared_error: 0.0390 - val_loss: 0.0394 - val_mean_squared_error: 0.0394\n",
      "Epoch 58/200\n",
      "1007/1007 [==============================] - 0s 128us/step - loss: 0.0395 - mean_squared_error: 0.0395 - val_loss: 0.0386 - val_mean_squared_error: 0.0386\n",
      "Epoch 59/200\n",
      "1007/1007 [==============================] - 0s 132us/step - loss: 0.0397 - mean_squared_error: 0.0397 - val_loss: 0.0393 - val_mean_squared_error: 0.0393\n",
      "Epoch 60/200\n",
      "1007/1007 [==============================] - 0s 124us/step - loss: 0.0397 - mean_squared_error: 0.0397 - val_loss: 0.0386 - val_mean_squared_error: 0.0386\n",
      "Epoch 61/200\n",
      "1007/1007 [==============================] - 0s 135us/step - loss: 0.0391 - mean_squared_error: 0.0391 - val_loss: 0.0383 - val_mean_squared_error: 0.0383\n",
      "Epoch 62/200\n",
      "1007/1007 [==============================] - 0s 134us/step - loss: 0.0398 - mean_squared_error: 0.0398 - val_loss: 0.0383 - val_mean_squared_error: 0.0383\n",
      "Epoch 63/200\n",
      "1007/1007 [==============================] - 0s 114us/step - loss: 0.0388 - mean_squared_error: 0.0388 - val_loss: 0.0383 - val_mean_squared_error: 0.0383\n",
      "Epoch 64/200\n",
      "1007/1007 [==============================] - 0s 109us/step - loss: 0.0393 - mean_squared_error: 0.0393 - val_loss: 0.0382 - val_mean_squared_error: 0.0382\n",
      "Epoch 65/200\n",
      "1007/1007 [==============================] - 0s 133us/step - loss: 0.0399 - mean_squared_error: 0.0399 - val_loss: 0.0382 - val_mean_squared_error: 0.0382\n",
      "Epoch 66/200\n",
      "1007/1007 [==============================] - 0s 138us/step - loss: 0.0396 - mean_squared_error: 0.0396 - val_loss: 0.0380 - val_mean_squared_error: 0.0380\n",
      "Epoch 67/200\n",
      "1007/1007 [==============================] - 0s 130us/step - loss: 0.0398 - mean_squared_error: 0.0398 - val_loss: 0.0380 - val_mean_squared_error: 0.0380\n",
      "Epoch 68/200\n",
      "1007/1007 [==============================] - 0s 123us/step - loss: 0.0378 - mean_squared_error: 0.0378 - val_loss: 0.0390 - val_mean_squared_error: 0.0390\n",
      "Epoch 69/200\n",
      "1007/1007 [==============================] - 0s 133us/step - loss: 0.0391 - mean_squared_error: 0.0391 - val_loss: 0.0379 - val_mean_squared_error: 0.0379\n",
      "Epoch 70/200\n",
      "1007/1007 [==============================] - 0s 132us/step - loss: 0.0376 - mean_squared_error: 0.0376 - val_loss: 0.0379 - val_mean_squared_error: 0.0379\n",
      "Epoch 71/200\n",
      "1007/1007 [==============================] - 0s 128us/step - loss: 0.0382 - mean_squared_error: 0.0382 - val_loss: 0.0379 - val_mean_squared_error: 0.0379\n",
      "Epoch 72/200\n",
      "1007/1007 [==============================] - 0s 130us/step - loss: 0.0391 - mean_squared_error: 0.0391 - val_loss: 0.0383 - val_mean_squared_error: 0.0383\n",
      "Epoch 73/200\n",
      "1007/1007 [==============================] - 0s 132us/step - loss: 0.0387 - mean_squared_error: 0.0387 - val_loss: 0.0380 - val_mean_squared_error: 0.0380\n",
      "Epoch 74/200\n",
      "1007/1007 [==============================] - 0s 131us/step - loss: 0.0387 - mean_squared_error: 0.0387 - val_loss: 0.0378 - val_mean_squared_error: 0.0378\n",
      "Epoch 75/200\n",
      "1007/1007 [==============================] - 0s 122us/step - loss: 0.0389 - mean_squared_error: 0.0389 - val_loss: 0.0384 - val_mean_squared_error: 0.0384\n",
      "Epoch 76/200\n",
      "1007/1007 [==============================] - 0s 127us/step - loss: 0.0383 - mean_squared_error: 0.0383 - val_loss: 0.0379 - val_mean_squared_error: 0.0379\n",
      "Epoch 77/200\n",
      "1007/1007 [==============================] - 0s 134us/step - loss: 0.0380 - mean_squared_error: 0.0380 - val_loss: 0.0379 - val_mean_squared_error: 0.0379\n",
      "Epoch 78/200\n",
      "1007/1007 [==============================] - 0s 125us/step - loss: 0.0384 - mean_squared_error: 0.0384 - val_loss: 0.0377 - val_mean_squared_error: 0.0377\n",
      "Epoch 79/200\n",
      "1007/1007 [==============================] - 0s 129us/step - loss: 0.0395 - mean_squared_error: 0.0395 - val_loss: 0.0380 - val_mean_squared_error: 0.0380\n",
      "Epoch 80/200\n",
      "1007/1007 [==============================] - 0s 132us/step - loss: 0.0379 - mean_squared_error: 0.0379 - val_loss: 0.0377 - val_mean_squared_error: 0.0377\n",
      "Epoch 81/200\n",
      "1007/1007 [==============================] - 0s 125us/step - loss: 0.0392 - mean_squared_error: 0.0392 - val_loss: 0.0380 - val_mean_squared_error: 0.0380\n",
      "Epoch 82/200\n",
      "1007/1007 [==============================] - 0s 127us/step - loss: 0.0386 - mean_squared_error: 0.0386 - val_loss: 0.0377 - val_mean_squared_error: 0.0377\n",
      "Epoch 83/200\n",
      "1007/1007 [==============================] - 0s 127us/step - loss: 0.0395 - mean_squared_error: 0.0395 - val_loss: 0.0377 - val_mean_squared_error: 0.0377\n",
      "Epoch 84/200\n",
      "1007/1007 [==============================] - 0s 129us/step - loss: 0.0383 - mean_squared_error: 0.0383 - val_loss: 0.0382 - val_mean_squared_error: 0.0382\n",
      "Epoch 85/200\n",
      "1007/1007 [==============================] - 0s 133us/step - loss: 0.0385 - mean_squared_error: 0.0385 - val_loss: 0.0381 - val_mean_squared_error: 0.0381\n",
      "Epoch 86/200\n",
      "1007/1007 [==============================] - 0s 124us/step - loss: 0.0378 - mean_squared_error: 0.0378 - val_loss: 0.0380 - val_mean_squared_error: 0.0380\n",
      "Epoch 87/200\n",
      "1007/1007 [==============================] - 0s 132us/step - loss: 0.0375 - mean_squared_error: 0.0375 - val_loss: 0.0380 - val_mean_squared_error: 0.0380\n",
      "Epoch 88/200\n",
      "1007/1007 [==============================] - 0s 125us/step - loss: 0.0392 - mean_squared_error: 0.0392 - val_loss: 0.0381 - val_mean_squared_error: 0.0381\n",
      "Epoch 89/200\n",
      "1007/1007 [==============================] - 0s 140us/step - loss: 0.0386 - mean_squared_error: 0.0386 - val_loss: 0.0385 - val_mean_squared_error: 0.0385\n",
      "Epoch 90/200\n",
      "1007/1007 [==============================] - 0s 125us/step - loss: 0.0372 - mean_squared_error: 0.0372 - val_loss: 0.0390 - val_mean_squared_error: 0.0390\n",
      "Epoch 91/200\n",
      "1007/1007 [==============================] - 0s 146us/step - loss: 0.0371 - mean_squared_error: 0.0371 - val_loss: 0.0377 - val_mean_squared_error: 0.0377\n",
      "Epoch 92/200\n",
      "1007/1007 [==============================] - 0s 124us/step - loss: 0.0382 - mean_squared_error: 0.0382 - val_loss: 0.0378 - val_mean_squared_error: 0.0378\n",
      "Epoch 93/200\n",
      "1007/1007 [==============================] - 0s 132us/step - loss: 0.0375 - mean_squared_error: 0.0375 - val_loss: 0.0380 - val_mean_squared_error: 0.0380\n",
      "Epoch 94/200\n",
      "1007/1007 [==============================] - 0s 122us/step - loss: 0.0381 - mean_squared_error: 0.0381 - val_loss: 0.0377 - val_mean_squared_error: 0.0377\n",
      "Epoch 95/200\n",
      "1007/1007 [==============================] - 0s 140us/step - loss: 0.0385 - mean_squared_error: 0.0385 - val_loss: 0.0377 - val_mean_squared_error: 0.0377\n",
      "Epoch 96/200\n",
      "1007/1007 [==============================] - 0s 118us/step - loss: 0.0364 - mean_squared_error: 0.0364 - val_loss: 0.0388 - val_mean_squared_error: 0.0388\n",
      "Epoch 97/200\n",
      "1007/1007 [==============================] - 0s 129us/step - loss: 0.0366 - mean_squared_error: 0.0366 - val_loss: 0.0389 - val_mean_squared_error: 0.0389\n"
     ]
    },
    {
     "name": "stdout",
     "output_type": "stream",
     "text": [
      "Epoch 98/200\n",
      "1007/1007 [==============================] - 0s 126us/step - loss: 0.0398 - mean_squared_error: 0.0398 - val_loss: 0.0381 - val_mean_squared_error: 0.0381\n",
      "Epoch 99/200\n",
      "1007/1007 [==============================] - 0s 120us/step - loss: 0.0385 - mean_squared_error: 0.0385 - val_loss: 0.0376 - val_mean_squared_error: 0.0376\n",
      "Epoch 100/200\n",
      "1007/1007 [==============================] - 0s 135us/step - loss: 0.0375 - mean_squared_error: 0.0375 - val_loss: 0.0393 - val_mean_squared_error: 0.0393\n",
      "Epoch 101/200\n",
      "1007/1007 [==============================] - 0s 132us/step - loss: 0.0384 - mean_squared_error: 0.0384 - val_loss: 0.0375 - val_mean_squared_error: 0.0375\n",
      "Epoch 102/200\n",
      "1007/1007 [==============================] - 0s 134us/step - loss: 0.0395 - mean_squared_error: 0.0395 - val_loss: 0.0376 - val_mean_squared_error: 0.0376\n",
      "Epoch 103/200\n",
      "1007/1007 [==============================] - 0s 156us/step - loss: 0.0381 - mean_squared_error: 0.0381 - val_loss: 0.0394 - val_mean_squared_error: 0.0394\n",
      "Epoch 104/200\n",
      "1007/1007 [==============================] - 0s 145us/step - loss: 0.0380 - mean_squared_error: 0.0380 - val_loss: 0.0379 - val_mean_squared_error: 0.0379\n",
      "Epoch 105/200\n",
      "1007/1007 [==============================] - 0s 147us/step - loss: 0.0368 - mean_squared_error: 0.0368 - val_loss: 0.0375 - val_mean_squared_error: 0.0375\n",
      "Epoch 106/200\n",
      "1007/1007 [==============================] - 0s 163us/step - loss: 0.0385 - mean_squared_error: 0.0385 - val_loss: 0.0377 - val_mean_squared_error: 0.0377\n",
      "Epoch 107/200\n",
      "1007/1007 [==============================] - 0s 153us/step - loss: 0.0385 - mean_squared_error: 0.0385 - val_loss: 0.0380 - val_mean_squared_error: 0.0380\n",
      "Epoch 108/200\n",
      "1007/1007 [==============================] - 0s 138us/step - loss: 0.0387 - mean_squared_error: 0.0387 - val_loss: 0.0393 - val_mean_squared_error: 0.0393\n",
      "Epoch 109/200\n",
      "1007/1007 [==============================] - 0s 131us/step - loss: 0.0375 - mean_squared_error: 0.0375 - val_loss: 0.0376 - val_mean_squared_error: 0.0376\n",
      "Epoch 110/200\n",
      "1007/1007 [==============================] - 0s 131us/step - loss: 0.0396 - mean_squared_error: 0.0396 - val_loss: 0.0377 - val_mean_squared_error: 0.0377\n",
      "Epoch 111/200\n",
      "1007/1007 [==============================] - 0s 128us/step - loss: 0.0372 - mean_squared_error: 0.0372 - val_loss: 0.0376 - val_mean_squared_error: 0.0376\n",
      "Epoch 112/200\n",
      "1007/1007 [==============================] - 0s 134us/step - loss: 0.0367 - mean_squared_error: 0.0367 - val_loss: 0.0390 - val_mean_squared_error: 0.0390\n",
      "Epoch 113/200\n",
      "1007/1007 [==============================] - 0s 126us/step - loss: 0.0378 - mean_squared_error: 0.0378 - val_loss: 0.0384 - val_mean_squared_error: 0.0384\n",
      "Epoch 114/200\n",
      "1007/1007 [==============================] - 0s 129us/step - loss: 0.0367 - mean_squared_error: 0.0367 - val_loss: 0.0377 - val_mean_squared_error: 0.0377\n",
      "Epoch 115/200\n",
      "1007/1007 [==============================] - 0s 123us/step - loss: 0.0376 - mean_squared_error: 0.0376 - val_loss: 0.0378 - val_mean_squared_error: 0.0378\n",
      "Epoch 116/200\n",
      "1007/1007 [==============================] - 0s 127us/step - loss: 0.0381 - mean_squared_error: 0.0381 - val_loss: 0.0378 - val_mean_squared_error: 0.0378\n",
      "Epoch 117/200\n",
      "1007/1007 [==============================] - 0s 143us/step - loss: 0.0366 - mean_squared_error: 0.0366 - val_loss: 0.0382 - val_mean_squared_error: 0.0382\n",
      "Epoch 118/200\n",
      "1007/1007 [==============================] - 0s 160us/step - loss: 0.0376 - mean_squared_error: 0.0376 - val_loss: 0.0377 - val_mean_squared_error: 0.0377\n",
      "Epoch 119/200\n",
      "1007/1007 [==============================] - 0s 129us/step - loss: 0.0376 - mean_squared_error: 0.0376 - val_loss: 0.0379 - val_mean_squared_error: 0.0379\n",
      "Epoch 120/200\n",
      "1007/1007 [==============================] - 0s 126us/step - loss: 0.0375 - mean_squared_error: 0.0375 - val_loss: 0.0392 - val_mean_squared_error: 0.0392\n",
      "Epoch 121/200\n",
      "1007/1007 [==============================] - 0s 132us/step - loss: 0.0381 - mean_squared_error: 0.0381 - val_loss: 0.0382 - val_mean_squared_error: 0.0382\n",
      "Epoch 122/200\n",
      "1007/1007 [==============================] - 0s 128us/step - loss: 0.0381 - mean_squared_error: 0.0381 - val_loss: 0.0387 - val_mean_squared_error: 0.0387\n",
      "Epoch 123/200\n",
      "1007/1007 [==============================] - 0s 119us/step - loss: 0.0377 - mean_squared_error: 0.0377 - val_loss: 0.0376 - val_mean_squared_error: 0.0376\n",
      "Epoch 124/200\n",
      "1007/1007 [==============================] - 0s 127us/step - loss: 0.0378 - mean_squared_error: 0.0378 - val_loss: 0.0382 - val_mean_squared_error: 0.0382\n",
      "Epoch 125/200\n",
      "1007/1007 [==============================] - 0s 122us/step - loss: 0.0378 - mean_squared_error: 0.0378 - val_loss: 0.0387 - val_mean_squared_error: 0.0387\n",
      "Epoch 126/200\n",
      "1007/1007 [==============================] - 0s 127us/step - loss: 0.0388 - mean_squared_error: 0.0388 - val_loss: 0.0392 - val_mean_squared_error: 0.0392\n",
      "Epoch 127/200\n",
      "1007/1007 [==============================] - 0s 131us/step - loss: 0.0385 - mean_squared_error: 0.0385 - val_loss: 0.0380 - val_mean_squared_error: 0.0380\n",
      "Epoch 128/200\n",
      "1007/1007 [==============================] - 0s 123us/step - loss: 0.0380 - mean_squared_error: 0.0380 - val_loss: 0.0383 - val_mean_squared_error: 0.0383\n",
      "Epoch 129/200\n",
      "1007/1007 [==============================] - 0s 124us/step - loss: 0.0367 - mean_squared_error: 0.0367 - val_loss: 0.0379 - val_mean_squared_error: 0.0379\n",
      "Epoch 130/200\n",
      "1007/1007 [==============================] - 0s 128us/step - loss: 0.0378 - mean_squared_error: 0.0378 - val_loss: 0.0392 - val_mean_squared_error: 0.0392\n",
      "Epoch 131/200\n",
      "1007/1007 [==============================] - 0s 125us/step - loss: 0.0362 - mean_squared_error: 0.0362 - val_loss: 0.0378 - val_mean_squared_error: 0.0378\n",
      "Epoch 132/200\n",
      "1007/1007 [==============================] - 0s 128us/step - loss: 0.0372 - mean_squared_error: 0.0372 - val_loss: 0.0375 - val_mean_squared_error: 0.0375\n",
      "Epoch 133/200\n",
      "1007/1007 [==============================] - 0s 128us/step - loss: 0.0362 - mean_squared_error: 0.0362 - val_loss: 0.0381 - val_mean_squared_error: 0.0381\n",
      "Epoch 134/200\n",
      "1007/1007 [==============================] - 0s 129us/step - loss: 0.0381 - mean_squared_error: 0.0381 - val_loss: 0.0377 - val_mean_squared_error: 0.0377\n",
      "Epoch 135/200\n",
      "1007/1007 [==============================] - 0s 119us/step - loss: 0.0377 - mean_squared_error: 0.0377 - val_loss: 0.0394 - val_mean_squared_error: 0.0394\n",
      "Epoch 136/200\n",
      "1007/1007 [==============================] - 0s 124us/step - loss: 0.0379 - mean_squared_error: 0.0379 - val_loss: 0.0379 - val_mean_squared_error: 0.0379\n",
      "Epoch 137/200\n",
      "1007/1007 [==============================] - 0s 127us/step - loss: 0.0367 - mean_squared_error: 0.0367 - val_loss: 0.0378 - val_mean_squared_error: 0.0378\n",
      "Epoch 138/200\n",
      "1007/1007 [==============================] - 0s 131us/step - loss: 0.0372 - mean_squared_error: 0.0372 - val_loss: 0.0378 - val_mean_squared_error: 0.0378\n",
      "Epoch 139/200\n",
      "1007/1007 [==============================] - 0s 132us/step - loss: 0.0370 - mean_squared_error: 0.0370 - val_loss: 0.0377 - val_mean_squared_error: 0.0377\n",
      "Epoch 140/200\n",
      "1007/1007 [==============================] - 0s 126us/step - loss: 0.0373 - mean_squared_error: 0.0373 - val_loss: 0.0392 - val_mean_squared_error: 0.0392\n",
      "Epoch 141/200\n",
      "1007/1007 [==============================] - 0s 143us/step - loss: 0.0377 - mean_squared_error: 0.0377 - val_loss: 0.0377 - val_mean_squared_error: 0.0377\n",
      "Epoch 142/200\n",
      "1007/1007 [==============================] - 0s 124us/step - loss: 0.0369 - mean_squared_error: 0.0369 - val_loss: 0.0380 - val_mean_squared_error: 0.0380\n",
      "Epoch 143/200\n",
      "1007/1007 [==============================] - 0s 144us/step - loss: 0.0370 - mean_squared_error: 0.0370 - val_loss: 0.0388 - val_mean_squared_error: 0.0388\n",
      "Epoch 144/200\n",
      "1007/1007 [==============================] - 0s 128us/step - loss: 0.0371 - mean_squared_error: 0.0371 - val_loss: 0.0382 - val_mean_squared_error: 0.0382\n",
      "Epoch 145/200\n",
      "1007/1007 [==============================] - 0s 120us/step - loss: 0.0395 - mean_squared_error: 0.0395 - val_loss: 0.0376 - val_mean_squared_error: 0.0376\n",
      "Epoch 146/200\n"
     ]
    },
    {
     "name": "stdout",
     "output_type": "stream",
     "text": [
      "1007/1007 [==============================] - 0s 126us/step - loss: 0.0386 - mean_squared_error: 0.0386 - val_loss: 0.0379 - val_mean_squared_error: 0.0379\n",
      "Epoch 147/200\n",
      "1007/1007 [==============================] - 0s 120us/step - loss: 0.0367 - mean_squared_error: 0.0367 - val_loss: 0.0376 - val_mean_squared_error: 0.0376\n",
      "Epoch 148/200\n",
      "1007/1007 [==============================] - 0s 118us/step - loss: 0.0366 - mean_squared_error: 0.0366 - val_loss: 0.0376 - val_mean_squared_error: 0.0376\n",
      "Epoch 149/200\n",
      "1007/1007 [==============================] - 0s 129us/step - loss: 0.0378 - mean_squared_error: 0.0378 - val_loss: 0.0390 - val_mean_squared_error: 0.0390\n",
      "Epoch 150/200\n",
      "1007/1007 [==============================] - 0s 124us/step - loss: 0.0367 - mean_squared_error: 0.0367 - val_loss: 0.0378 - val_mean_squared_error: 0.0378\n",
      "Epoch 151/200\n",
      "1007/1007 [==============================] - 0s 135us/step - loss: 0.0380 - mean_squared_error: 0.0380 - val_loss: 0.0381 - val_mean_squared_error: 0.0381\n",
      "Epoch 152/200\n",
      "1007/1007 [==============================] - 0s 120us/step - loss: 0.0373 - mean_squared_error: 0.0373 - val_loss: 0.0383 - val_mean_squared_error: 0.0383\n",
      "Epoch 153/200\n",
      "1007/1007 [==============================] - 0s 125us/step - loss: 0.0388 - mean_squared_error: 0.0388 - val_loss: 0.0390 - val_mean_squared_error: 0.0390\n",
      "Epoch 154/200\n",
      "1007/1007 [==============================] - 0s 133us/step - loss: 0.0359 - mean_squared_error: 0.0359 - val_loss: 0.0382 - val_mean_squared_error: 0.0382\n",
      "Epoch 155/200\n",
      "1007/1007 [==============================] - 0s 135us/step - loss: 0.0368 - mean_squared_error: 0.0368 - val_loss: 0.0376 - val_mean_squared_error: 0.0376\n",
      "Epoch 156/200\n",
      "1007/1007 [==============================] - 0s 117us/step - loss: 0.0368 - mean_squared_error: 0.0368 - val_loss: 0.0383 - val_mean_squared_error: 0.0383\n",
      "Epoch 157/200\n",
      "1007/1007 [==============================] - 0s 134us/step - loss: 0.0374 - mean_squared_error: 0.0374 - val_loss: 0.0379 - val_mean_squared_error: 0.0379\n",
      "Epoch 158/200\n",
      "1007/1007 [==============================] - 0s 124us/step - loss: 0.0395 - mean_squared_error: 0.0395 - val_loss: 0.0376 - val_mean_squared_error: 0.0376\n",
      "Epoch 159/200\n",
      "1007/1007 [==============================] - 0s 116us/step - loss: 0.0382 - mean_squared_error: 0.0382 - val_loss: 0.0382 - val_mean_squared_error: 0.0382\n",
      "Epoch 160/200\n",
      "1007/1007 [==============================] - 0s 135us/step - loss: 0.0365 - mean_squared_error: 0.0365 - val_loss: 0.0385 - val_mean_squared_error: 0.0385\n",
      "Epoch 161/200\n",
      "1007/1007 [==============================] - 0s 121us/step - loss: 0.0369 - mean_squared_error: 0.0369 - val_loss: 0.0379 - val_mean_squared_error: 0.0379\n",
      "Epoch 162/200\n",
      "1007/1007 [==============================] - 0s 127us/step - loss: 0.0386 - mean_squared_error: 0.0386 - val_loss: 0.0377 - val_mean_squared_error: 0.0377\n",
      "Epoch 163/200\n",
      "1007/1007 [==============================] - 0s 117us/step - loss: 0.0370 - mean_squared_error: 0.0370 - val_loss: 0.0376 - val_mean_squared_error: 0.0376\n",
      "Epoch 164/200\n",
      "1007/1007 [==============================] - 0s 113us/step - loss: 0.0369 - mean_squared_error: 0.0369 - val_loss: 0.0389 - val_mean_squared_error: 0.0389\n",
      "Epoch 165/200\n",
      "1007/1007 [==============================] - 0s 129us/step - loss: 0.0374 - mean_squared_error: 0.0374 - val_loss: 0.0386 - val_mean_squared_error: 0.0386\n",
      "Epoch 166/200\n",
      "1007/1007 [==============================] - 0s 126us/step - loss: 0.0369 - mean_squared_error: 0.0369 - val_loss: 0.0383 - val_mean_squared_error: 0.0383\n",
      "Epoch 167/200\n",
      "1007/1007 [==============================] - 0s 130us/step - loss: 0.0391 - mean_squared_error: 0.0391 - val_loss: 0.0378 - val_mean_squared_error: 0.0378\n",
      "Epoch 168/200\n",
      "1007/1007 [==============================] - 0s 140us/step - loss: 0.0390 - mean_squared_error: 0.0390 - val_loss: 0.0379 - val_mean_squared_error: 0.0379\n",
      "Epoch 169/200\n",
      "1007/1007 [==============================] - 0s 117us/step - loss: 0.0367 - mean_squared_error: 0.0367 - val_loss: 0.0376 - val_mean_squared_error: 0.0376\n",
      "Epoch 170/200\n",
      "1007/1007 [==============================] - 0s 133us/step - loss: 0.0363 - mean_squared_error: 0.0363 - val_loss: 0.0379 - val_mean_squared_error: 0.0379\n",
      "Epoch 171/200\n",
      "1007/1007 [==============================] - 0s 127us/step - loss: 0.0371 - mean_squared_error: 0.0371 - val_loss: 0.0378 - val_mean_squared_error: 0.0378\n",
      "Epoch 172/200\n",
      "1007/1007 [==============================] - 0s 128us/step - loss: 0.0383 - mean_squared_error: 0.0383 - val_loss: 0.0375 - val_mean_squared_error: 0.0375\n",
      "Epoch 173/200\n",
      "1007/1007 [==============================] - 0s 117us/step - loss: 0.0371 - mean_squared_error: 0.0371 - val_loss: 0.0395 - val_mean_squared_error: 0.0395\n",
      "Epoch 174/200\n",
      "1007/1007 [==============================] - 0s 126us/step - loss: 0.0370 - mean_squared_error: 0.0370 - val_loss: 0.0381 - val_mean_squared_error: 0.0381\n",
      "Epoch 175/200\n",
      "1007/1007 [==============================] - 0s 114us/step - loss: 0.0365 - mean_squared_error: 0.0365 - val_loss: 0.0385 - val_mean_squared_error: 0.0385\n",
      "Epoch 176/200\n",
      "1007/1007 [==============================] - 0s 126us/step - loss: 0.0358 - mean_squared_error: 0.0358 - val_loss: 0.0375 - val_mean_squared_error: 0.0375\n",
      "Epoch 177/200\n",
      "1007/1007 [==============================] - 0s 129us/step - loss: 0.0369 - mean_squared_error: 0.0369 - val_loss: 0.0380 - val_mean_squared_error: 0.0380\n",
      "Epoch 178/200\n",
      "1007/1007 [==============================] - 0s 121us/step - loss: 0.0365 - mean_squared_error: 0.0365 - val_loss: 0.0375 - val_mean_squared_error: 0.0375\n",
      "Epoch 179/200\n",
      "1007/1007 [==============================] - 0s 126us/step - loss: 0.0384 - mean_squared_error: 0.0384 - val_loss: 0.0375 - val_mean_squared_error: 0.0375\n",
      "Epoch 180/200\n",
      "1007/1007 [==============================] - 0s 126us/step - loss: 0.0357 - mean_squared_error: 0.0357 - val_loss: 0.0379 - val_mean_squared_error: 0.0379\n",
      "Epoch 181/200\n",
      "1007/1007 [==============================] - 0s 131us/step - loss: 0.0384 - mean_squared_error: 0.0384 - val_loss: 0.0388 - val_mean_squared_error: 0.0388\n",
      "Epoch 182/200\n",
      "1007/1007 [==============================] - 0s 127us/step - loss: 0.0361 - mean_squared_error: 0.0361 - val_loss: 0.0375 - val_mean_squared_error: 0.0375\n",
      "Epoch 183/200\n",
      "1007/1007 [==============================] - 0s 128us/step - loss: 0.0380 - mean_squared_error: 0.0380 - val_loss: 0.0384 - val_mean_squared_error: 0.0384\n",
      "Epoch 184/200\n",
      "1007/1007 [==============================] - 0s 138us/step - loss: 0.0354 - mean_squared_error: 0.0354 - val_loss: 0.0379 - val_mean_squared_error: 0.0379\n",
      "Epoch 185/200\n",
      "1007/1007 [==============================] - 0s 127us/step - loss: 0.0366 - mean_squared_error: 0.0366 - val_loss: 0.0376 - val_mean_squared_error: 0.0376\n",
      "Epoch 186/200\n",
      "1007/1007 [==============================] - 0s 134us/step - loss: 0.0374 - mean_squared_error: 0.0374 - val_loss: 0.0380 - val_mean_squared_error: 0.0380\n",
      "Epoch 187/200\n",
      "1007/1007 [==============================] - 0s 112us/step - loss: 0.0371 - mean_squared_error: 0.0371 - val_loss: 0.0399 - val_mean_squared_error: 0.0399\n",
      "Epoch 188/200\n",
      "1007/1007 [==============================] - 0s 116us/step - loss: 0.0376 - mean_squared_error: 0.0376 - val_loss: 0.0378 - val_mean_squared_error: 0.0378\n",
      "Epoch 189/200\n",
      "1007/1007 [==============================] - 0s 138us/step - loss: 0.0363 - mean_squared_error: 0.0363 - val_loss: 0.0384 - val_mean_squared_error: 0.0384\n",
      "Epoch 190/200\n",
      "1007/1007 [==============================] - 0s 122us/step - loss: 0.0353 - mean_squared_error: 0.0353 - val_loss: 0.0381 - val_mean_squared_error: 0.0381\n",
      "Epoch 191/200\n",
      "1007/1007 [==============================] - 0s 127us/step - loss: 0.0365 - mean_squared_error: 0.0365 - val_loss: 0.0377 - val_mean_squared_error: 0.0377\n",
      "Epoch 192/200\n",
      "1007/1007 [==============================] - 0s 142us/step - loss: 0.0370 - mean_squared_error: 0.0370 - val_loss: 0.0388 - val_mean_squared_error: 0.0388\n",
      "Epoch 193/200\n",
      "1007/1007 [==============================] - 0s 124us/step - loss: 0.0369 - mean_squared_error: 0.0369 - val_loss: 0.0381 - val_mean_squared_error: 0.0381\n",
      "Epoch 194/200\n"
     ]
    },
    {
     "name": "stdout",
     "output_type": "stream",
     "text": [
      "1007/1007 [==============================] - 0s 133us/step - loss: 0.0366 - mean_squared_error: 0.0366 - val_loss: 0.0378 - val_mean_squared_error: 0.0378\n",
      "Epoch 195/200\n",
      "1007/1007 [==============================] - 0s 125us/step - loss: 0.0379 - mean_squared_error: 0.0379 - val_loss: 0.0380 - val_mean_squared_error: 0.0380\n",
      "Epoch 196/200\n",
      "1007/1007 [==============================] - 0s 128us/step - loss: 0.0363 - mean_squared_error: 0.0363 - val_loss: 0.0375 - val_mean_squared_error: 0.0375\n",
      "Epoch 197/200\n",
      "1007/1007 [==============================] - 0s 124us/step - loss: 0.0363 - mean_squared_error: 0.0363 - val_loss: 0.0381 - val_mean_squared_error: 0.0381\n",
      "Epoch 198/200\n",
      "1007/1007 [==============================] - 0s 127us/step - loss: 0.0353 - mean_squared_error: 0.0353 - val_loss: 0.0385 - val_mean_squared_error: 0.0385\n",
      "Epoch 199/200\n",
      "1007/1007 [==============================] - 0s 133us/step - loss: 0.0382 - mean_squared_error: 0.0382 - val_loss: 0.0379 - val_mean_squared_error: 0.0379\n",
      "Epoch 200/200\n",
      "1007/1007 [==============================] - 0s 118us/step - loss: 0.0378 - mean_squared_error: 0.0378 - val_loss: 0.0379 - val_mean_squared_error: 0.0379\n"
     ]
    }
   ],
   "source": [
    "history = rnn.fit(x_train, y_train, epochs = 200, validation_data = (x_test, y_test))"
   ]
  },
  {
   "cell_type": "markdown",
   "metadata": {},
   "source": [
    "### Plots from our history"
   ]
  },
  {
   "cell_type": "code",
   "execution_count": 834,
   "metadata": {
    "scrolled": false
   },
   "outputs": [
    {
     "name": "stdout",
     "output_type": "stream",
     "text": [
      "dict_keys(['val_loss', 'val_mean_squared_error', 'loss', 'mean_squared_error'])\n"
     ]
    },
    {
     "data": {
      "image/png": "[encoded data removed]",
      "text/plain": [
       "<Figure size 432x288 with 1 Axes>"
      ]
     },
     "metadata": {
      "needs_background": "light"
     },
     "output_type": "display_data"
    },
    {
     "data": {
      "image/png": "[encoded data removed]",
      "text/plain": [
       "<Figure size 432x288 with 1 Axes>"
      ]
     },
     "metadata": {
      "needs_background": "light"
     },
     "output_type": "display_data"
    }
   ],
   "source": [
    "print(history.history.keys())\n",
    "results = rnn.predict(x_test)\n",
    "it = 7\n",
    "\n",
    "# x_test vs y_test\n",
    "plt.scatter(range(len(results)), results)\n",
    "plt.scatter(range(len(y_test)), y_test)\n",
    "plt.title('validation data predictions')\n",
    "plt.ylabel('target mood (normalized)')\n",
    "plt.xlabel('prediction number')\n",
    "plt.legend(['x_test', 'y_test'], loc='upper left')\n",
    "plt.savefig('data/plots/pred' + str(it) + '.png')\n",
    "plt.show()\n",
    "\n",
    "# loss (mse)\n",
    "plt.plot(history.history['loss'])\n",
    "plt.plot(history.history['val_loss'])\n",
    "plt.title('model loss (mean squared error)')\n",
    "plt.ylabel('loss')\n",
    "plt.xlabel('epoch')\n",
    "plt.legend(['train', 'test'], loc='upper left')\n",
    "plt.savefig('pred' + str(it) + '.png')\n",
    "plt.savefig('data/plots/loss' + str(it) + '.png')\n",
    "plt.show()\n",
    "\n",
    "# # msa\n",
    "# plt.plot(history.history['mean_absolute_error'])\n",
    "# plt.plot(history.history['val_mean_absolute_error'])\n",
    "# plt.title('model msa')\n",
    "# plt.ylabel('msa')\n",
    "# plt.xlabel('epoch')\n",
    "# plt.legend(['train', 'test'], loc='upper left')\n",
    "# plt.show()\n",
    "\n",
    "# # cosine\n",
    "# plt.plot(history.history['cosine_proximity'])\n",
    "# plt.plot(history.history['val_cosine_proximity'])\n",
    "# plt.title('model cosine')\n",
    "# plt.ylabel('cosine')\n",
    "# plt.xlabel('epoch')\n",
    "# plt.legend(['train', 'test'], loc='upper left')\n",
    "# plt.show()"
   ]
  },
  {
   "cell_type": "markdown",
   "metadata": {},
   "source": [
    "### Compute root mean squared error"
   ]
  },
  {
   "cell_type": "code",
   "execution_count": 835,
   "metadata": {},
   "outputs": [
    {
     "name": "stdout",
     "output_type": "stream",
     "text": [
      "0.5166741880771805\n",
      "0.49481437917796034\n",
      "0.19460576251114248\n"
     ]
    }
   ],
   "source": [
    "rmse = sqrt(mean_squared_error(results, y_test))\n",
    "print(sqrt(results.mean()))\n",
    "print(sqrt(y_test.mean()))\n",
    "print(rmse)"
   ]
  },
  {
   "cell_type": "code",
   "execution_count": null,
   "metadata": {},
   "outputs": [],
   "source": []
  }
 ],
 "metadata": {
  "kernelspec": {
   "display_name": "Python 3",
   "language": "python",
   "name": "python3"
  },
  "language_info": {
   "codemirror_mode": {
    "name": "ipython",
    "version": 3
   },
   "file_extension": ".py",
   "mimetype": "text/x-python",
   "name": "python",
   "nbconvert_exporter": "python",
   "pygments_lexer": "ipython3",
   "version": "3.5.2"
  }
 },
 "nbformat": 4,
 "nbformat_minor": 2
}
