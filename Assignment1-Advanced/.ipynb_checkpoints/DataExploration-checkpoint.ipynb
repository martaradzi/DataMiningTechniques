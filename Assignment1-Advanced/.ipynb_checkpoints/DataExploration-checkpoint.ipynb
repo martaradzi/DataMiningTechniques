{
 "cells": [
  {
   "cell_type": "markdown",
   "metadata": {},
   "source": [
    "**Task 1: Pre-process the dataset**"
   ]
  },
  {
   "cell_type": "markdown",
   "metadata": {},
   "source": [
    "All the imports:"
   ]
  },
  {
   "cell_type": "code",
   "execution_count": 1,
   "metadata": {},
   "outputs": [],
   "source": [
    "import csv\n",
    "import numpy as np\n",
    "import pandas as pd\n",
    "import pickle as pkl\n",
    "import matplotlib.pyplot as plt\n",
    "import datetime "
   ]
  },
  {
   "cell_type": "markdown",
   "metadata": {},
   "source": [
    "**Check how many patients/variables there are**"
   ]
  },
  {
   "cell_type": "code",
   "execution_count": 2,
   "metadata": {},
   "outputs": [
    {
     "name": "stdout",
     "output_type": "stream",
     "text": [
      "27\n",
      "id\n",
      "AS14.01    21999\n",
      "AS14.02    14581\n",
      "AS14.03    14425\n",
      "AS14.05    15745\n",
      "AS14.06    18092\n",
      "AS14.07    16045\n",
      "AS14.08     7902\n",
      "AS14.09    10886\n",
      "AS14.12    17311\n",
      "AS14.13    19592\n",
      "AS14.14     9286\n",
      "AS14.15     2848\n",
      "AS14.16     3982\n",
      "AS14.17    15826\n",
      "AS14.19    11397\n",
      "AS14.20     3620\n",
      "AS14.23    21852\n",
      "AS14.24    14430\n",
      "AS14.25    12589\n",
      "AS14.26    16403\n",
      "AS14.27    14575\n",
      "AS14.28    19276\n",
      "AS14.29    17499\n",
      "AS14.30    17279\n",
      "AS14.31    11889\n",
      "AS14.32    11193\n",
      "AS14.33    16390\n",
      "dtype: int64\n"
     ]
    }
   ],
   "source": [
    "df = pd.read_csv(\"dataset_mood_smartphone.csv\")\n",
    "counted = df.groupby([\"id\"]).size()\n",
    "print (len(counted))\n",
    "print (counted)"
   ]
  },
  {
   "cell_type": "code",
   "execution_count": 3,
   "metadata": {},
   "outputs": [
    {
     "name": "stdout",
     "output_type": "stream",
     "text": [
      "19\n",
      "variable\n",
      "activity                22965\n",
      "appCat.builtin          91288\n",
      "appCat.communication    74276\n",
      "appCat.entertainment    27125\n",
      "appCat.finance            939\n",
      "appCat.game               813\n",
      "appCat.office            5642\n",
      "appCat.other             7650\n",
      "appCat.social           19145\n",
      "appCat.travel            2846\n",
      "appCat.unknown            939\n",
      "appCat.utilities         2487\n",
      "appCat.weather            255\n",
      "call                     5239\n",
      "circumplex.arousal       5643\n",
      "circumplex.valence       5643\n",
      "mood                     5641\n",
      "screen                  96578\n",
      "sms                      1798\n",
      "dtype: int64\n"
     ]
    }
   ],
   "source": [
    "counted = df.groupby([\"variable\"]).size()\n",
    "print (len(counted))\n",
    "print (counted)"
   ]
  },
  {
   "cell_type": "markdown",
   "metadata": {},
   "source": [
    "There are __***27 patients***__, names from 01 to 33 (some numbers are missing)\n",
    "\n",
    "There are __***19 variables***__\n",
    "\n",
    "\n",
    "\n",
    "**Making individual files for each patient:**"
   ]
  },
  {
   "cell_type": "code",
   "execution_count": 4,
   "metadata": {},
   "outputs": [],
   "source": [
    "RawFile = \"dataset_mood_smartphone.csv\"\n",
    "\n",
    "with open(RawFile) as infile:\n",
    "    reader = csv.reader(infile)\n",
    "    #input_header = reader.next()\n",
    "    for row in reader:\n",
    "        patient = row[1]\n",
    "        CleanedFile = \"./data/\" + patient +\".csv\"\n",
    "        with open(CleanedFile, 'a', newline='') as outfile:\n",
    "            writer = csv.writer(outfile)\n",
    "            if row[4] != \"NA\": #deleting rows with NA as VALUE\n",
    "                writer.writerow(row[2:5])"
   ]
  },
  {
   "cell_type": "markdown",
   "metadata": {},
   "source": [
    "With good old-fashioned CTRL-F method we discover that: (AND REALIZING YOU DIDN'T NEED TO CHECK THAT CAUSE ITS ALL IN THE ASSIGNMENT DESCRIPTION)\n",
    "\n",
    "activity                Numerical value - use mean\n",
    "\n",
    "appCat.builtin          Time - add times\n",
    "\n",
    "appCat.communication    Time - add times\n",
    "\n",
    "appCat.entertainment    Time - add times\n",
    "\n",
    "appCat.finance          Time - add times\n",
    "\n",
    "appCat.game             Time - add times\n",
    "\n",
    "appCat.office           Time - add times\n",
    "\n",
    "appCat.other            Time - add times\n",
    "\n",
    "appCat.social           Time - add times\n",
    "\n",
    "appCat.travel           Time - add times\n",
    "\n",
    "appCat.unknown          Time - add times\n",
    "\n",
    "appCat.utilities        Time - add times\n",
    "\n",
    "appCat.weather          Time - add times\n",
    "\n",
    "call                    Numerical value - add\n",
    "\n",
    "circumplex.arousal      Numerical value - use mean\n",
    "\n",
    "circumplex.valence      Numerical value - use mean\n",
    "\n",
    "mood                    Numerical value - use mean\n",
    "\n",
    "screen                  Time\n",
    "\n",
    "SMS                     Numerical values - add\n",
    "\n"
   ]
  },
  {
   "cell_type": "code",
   "execution_count": null,
   "metadata": {},
   "outputs": [],
   "source": []
  },
  {
   "cell_type": "code",
   "execution_count": 5,
   "metadata": {
    "scrolled": true
   },
   "outputs": [
    {
     "name": "stdout",
     "output_type": "stream",
     "text": [
      "16\n",
      "variable\n",
      "activity                2338\n",
      "appCat.builtin          2062\n",
      "appCat.communication    7600\n",
      "appCat.entertainment    6638\n",
      "appCat.office              2\n",
      "appCat.other             938\n",
      "appCat.social            716\n",
      "appCat.travel              2\n",
      "appCat.unknown           414\n",
      "appCat.utilities         288\n",
      "call                     206\n",
      "circumplex.arousal       476\n",
      "circumplex.valence       474\n",
      "mood                     482\n",
      "screen                  8760\n",
      "sms                       80\n",
      "dtype: int64\n"
     ]
    }
   ],
   "source": [
    "df = pd.read_csv(\"./data/AS14.05.csv\")\n",
    "counted = df.groupby([\"variable\"]).size()\n",
    "print (len(counted))\n",
    "print (counted)\n"
   ]
  },
  {
   "cell_type": "code",
   "execution_count": 6,
   "metadata": {},
   "outputs": [
    {
     "data": {
      "text/plain": [
       "time         object\n",
       "variable     object\n",
       "value       float64\n",
       "dtype: object"
      ]
     },
     "execution_count": 6,
     "metadata": {},
     "output_type": "execute_result"
    }
   ],
   "source": [
    "df.dtypes"
   ]
  },
  {
   "cell_type": "code",
   "execution_count": null,
   "metadata": {},
   "outputs": [],
   "source": []
  },
  {
   "cell_type": "markdown",
   "metadata": {},
   "source": [
    "Want to creat a table/csv that would summarize each day. Then we can proceed with another algorithm."
   ]
  },
  {
   "cell_type": "markdown",
   "metadata": {},
   "source": [
    "Produce a day by day summary of the data\n",
    "---"
   ]
  },
  {
   "cell_type": "code",
   "execution_count": 7,
   "metadata": {},
   "outputs": [],
   "source": [
    "variables= ['mood', 'circumplex.arousal', 'circumplex.valence', 'activity', 'screen', 'call', 'sms', 'appCat.builtin', 'appCat.communication', 'appCat.entertainment', 'appCat.finance', 'appCat.game', 'appCat.office','appCat.other', 'appCat.social', 'appCat.travel', 'appCat.unknown', 'appCat.utilities', 'appCat.weather']\n",
    "patient = ['01', '02','03','05','06','07','08','09','12','13','14','15','16','17','19','20','23','24','25','26','27','28','29','30','31','32','33']\n",
    "for patientnumber in patient:\n",
    "    inpath = \"./data/AS14.\"+patientnumber+\".csv\"\n",
    "    outpath = \"./data/summary/AS14.\" + patientnumber + \".csv\"\n",
    "    df = pd.read_csv(inpath)\n",
    "\n",
    "    df[\"time\"] = pd.to_datetime(df[\"time\"]) \n",
    "    #df['date_minus_time'] = df[\"time\"].apply( lambda df : datetime.datetime(year=df.year, month=df.month, day=df.day))\n",
    "    #df.set_index(df[\"date_minus_time\"],inplace=True) # using date as index \n",
    "    df.index = df['time']\n",
    "    df = df.sort_index()\n",
    "\n",
    "\n",
    "    byday = [] #variables summmed/meaned for each day\n",
    "    for i, j in enumerate(variables):\n",
    "        #print(i, j)\n",
    "        dfvariables = df.loc[df['variable'] == j]\n",
    "        if i < 4:\n",
    "            data = dfvariables['value'].resample('D').mean()\n",
    "    #         print(i, j, len(data))\n",
    "    #         print (len(data))\n",
    "        else:\n",
    "            data = dfvariables['value'].resample('D').sum()\n",
    "            #print(i, j, len(data))\n",
    "            #print (len(data))\n",
    "        byday.append(data)\n",
    "\n",
    "    daysSet = pd.concat(byday, axis=1)\n",
    "    daysSet.columns = variables\n",
    "    daysSet= daysSet.replace(0, np.nan)\n",
    "\n",
    "    #print(daysSet)\n",
    "    daysSet.to_csv(outpath, encoding='utf-8', index=True)\n",
    "    "
   ]
  },
  {
   "cell_type": "code",
   "execution_count": 9,
   "metadata": {
    "scrolled": false
   },
   "outputs": [],
   "source": [
    "# variables= ['mood', 'circumplex.arousal', 'circumplex.valence', 'activity', 'screen', 'call', 'sms', 'appCat.builtin', 'appCat.communication', 'appCat.entertainment', 'appCat.finance', 'appCat.game', 'appCat.office','appCat.other', 'appCat.social', 'appCat.travel', 'appCat.unknown', 'appCat.utilities', 'appCat.weather']\n",
    "# patient = ['01', '02','03','05','06','07','08','09','12','13','14','15','16','17','19','20','23','24','25','26','27','28','29','30','31','32','33']\n",
    "\n",
    "# for patientnumber in patient:\n",
    "#     inpath = \"./data/summary/AS14.\" + patientnumber + \".csv\"\n",
    "#     outstats = \"./data/stats/\" + patientnumber + \".txt\"\n",
    "   \n",
    "#     df = pd.read_csv(inpath)\n",
    "#     with open(outstats, 'a', newline='') as statsFile:\n",
    "        \n",
    "#         for i in variables:\n",
    "#             j = df[i]\n",
    "            \n",
    "#             nanSum = j.isna().sum()\n",
    "#             legitVal = len(j) - nanSum\n",
    "#             statsFile.write(\"There are \" + str(legitVal) + \" instances of \" + i + \"\\n\")\n",
    "#             #array.append(legitVal)\n",
    "#             #statsFile.write(\". For each day it is \\n\")\n",
    "#             #statsFile.write(str(j) + \"\\n\")\n",
    "#             del j\n",
    "\n",
    "        \n",
    "        "
   ]
  },
  {
   "cell_type": "markdown",
   "metadata": {},
   "source": [
    "Create Stats About Data\n",
    "---"
   ]
  },
  {
   "cell_type": "code",
   "execution_count": 10,
   "metadata": {},
   "outputs": [
    {
     "name": "stdout",
     "output_type": "stream",
     "text": [
      "['patientNumber', 'mood', 'circumplex.arousal', 'circumplex.valence', 'activity', 'screen', 'call', 'sms', 'appCat.builtin', 'appCat.communication', 'appCat.entertainment', 'appCat.finance', 'appCat.game', 'appCat.office', 'appCat.other', 'appCat.social', 'appCat.travel', 'appCat.unknown', 'appCat.utilities', 'appCat.weather']\n"
     ]
    }
   ],
   "source": [
    "\n",
    "variables= ['mood', 'circumplex.arousal', 'circumplex.valence', 'activity', 'screen', 'call', 'sms', 'appCat.builtin', 'appCat.communication', 'appCat.entertainment', 'appCat.finance', 'appCat.game', 'appCat.office','appCat.other', 'appCat.social', 'appCat.travel', 'appCat.unknown', 'appCat.utilities', 'appCat.weather']\n",
    "patient = ['01', '02','03','05','06','07','08','09','12','13','14','15','16','17','19','20','23','24','25','26','27','28','29','30','31','32','33']\n",
    "matrixForAll = ['patientNumber', 'mood', 'circumplex.arousal', 'circumplex.valence', 'activity', 'screen', 'call', 'sms', 'appCat.builtin', 'appCat.communication', 'appCat.entertainment', 'appCat.finance', 'appCat.game', 'appCat.office','appCat.other', 'appCat.social', 'appCat.travel', 'appCat.unknown', 'appCat.utilities', 'appCat.weather']\n",
    "outstats = \"./data/stats/AllStatsFrequency.csv\"\n",
    "with open (outstats,'a', newline='') as statsFile:\n",
    "#     for item in matrixForAll:\n",
    "#         statsFile.write(item + \",\")\n",
    "#     statsFile.write(\"\\n\")\n",
    "    writer = csv.writer(statsFile)\n",
    "    writer.writerow(matrixForAll)\n",
    "\n",
    "    for patientnumber in patient:\n",
    "        inpath = \"./data/summary/AS14.\" + patientnumber + \".csv\"\n",
    "        df = pd.read_csv(inpath)\n",
    "        array = []\n",
    "        array.append(patientnumber)\n",
    "\n",
    "        for i in variables:\n",
    "            j = df[i]\n",
    "\n",
    "            nanSum = j.isna().sum()\n",
    "            legitVal = len(j) - nanSum\n",
    "            array.append(legitVal)\n",
    "            del j\n",
    "            \n",
    "        writer.writerow(array)\n",
    "    print(matrixForAll)"
   ]
  },
  {
   "cell_type": "code",
   "execution_count": 13,
   "metadata": {},
   "outputs": [
    {
     "name": "stdout",
     "output_type": "stream",
     "text": [
      "['patientNumber', 'mood', 'circumplex.arousal', 'circumplex.valence', 'activity', 'screen', 'call', 'sms', 'appCat.builtin', 'appCat.communication', 'appCat.entertainment', 'appCat.finance', 'appCat.game', 'appCat.office', 'appCat.other', 'appCat.social', 'appCat.travel', 'appCat.unknown', 'appCat.utilities', 'appCat.weather']\n"
     ]
    }
   ],
   "source": [
    "variables= ['mood', 'circumplex.arousal', 'circumplex.valence', 'activity', 'screen', 'call', 'sms', 'appCat.builtin', 'appCat.communication', 'appCat.entertainment', 'appCat.finance', 'appCat.game', 'appCat.office','appCat.other', 'appCat.social', 'appCat.travel', 'appCat.unknown', 'appCat.utilities', 'appCat.weather']\n",
    "patient = ['01', '02','03','05','06','07','08','09','12','13','14','15','16','17','19','20','23','24','25','26','27','28','29','30','31','32','33']\n",
    "matrixForAll = ['patientNumber', 'mood', 'circumplex.arousal', 'circumplex.valence', 'activity', 'screen', 'call', 'sms', 'appCat.builtin', 'appCat.communication', 'appCat.entertainment', 'appCat.finance', 'appCat.game', 'appCat.office','appCat.other', 'appCat.social', 'appCat.travel', 'appCat.unknown', 'appCat.utilities', 'appCat.weather']\n",
    "outstats = \"./data/stats/AllStats.csv\"\n",
    "with open (outstats,'a', newline='') as statsFile:\n",
    "#     for item in matrixForAll:\n",
    "#         statsFile.write(item + \",\")\n",
    "#     statsFile.write(\"\\n\")\n",
    "    writer = csv.writer(statsFile)\n",
    "    writer.writerow(matrixForAll)\n",
    "\n",
    "    for patientnumber in patient:\n",
    "        inpath = \"./data/summary/AS14.\" + patientnumber + \".csv\"\n",
    "        df = pd.read_csv(inpath)\n",
    "        array = []\n",
    "        array.append(patientnumber)\n",
    "\n",
    "        for k, i in enumerate(variables):\n",
    "            j = df[i]\n",
    "            mean = j.mean()\n",
    "            if k < 4:\n",
    "                data = j.mean()\n",
    "    #         print(i, j, len(data))\n",
    "    #         print (len(data))\n",
    "            else:\n",
    "                data = j.sum()\n",
    "            array.append(data)\n",
    "            del j\n",
    "            \n",
    "        writer.writerow(array)\n",
    "    print(matrixForAll)"
   ]
  },
  {
   "cell_type": "markdown",
   "metadata": {},
   "source": [
    "DELETE UNNEEDED ROWS\n",
    "---"
   ]
  },
  {
   "cell_type": "code",
   "execution_count": 15,
   "metadata": {},
   "outputs": [],
   "source": [
    "variables= ['mood', 'circumplex.arousal', 'circumplex.valence', 'activity', 'screen', 'call', 'sms', 'appCat.builtin', 'appCat.communication', 'appCat.entertainment', 'appCat.finance', 'appCat.game', 'appCat.office','appCat.other', 'appCat.social', 'appCat.travel', 'appCat.unknown', 'appCat.utilities', 'appCat.weather']\n",
    "patient = ['01', '02','03','05','06','07','08','09','12','13','14','15','16','17','19','20','23','24','25','26','27','28','29','30','31','32','33']\n",
    "for patientnumber in patient:\n",
    "    inpath = \"./data/summary/AS14.\" + patientnumber + \".csv\"\n",
    "    outpath = \"./data/summary/\" + patientnumber + \"_compressed.csv\"\n",
    "    df = pd.read_csv(inpath)\n",
    "\n",
    "    #df.dtypes\n",
    "    #print (df) #cheched datatype of each column\n",
    "\n",
    "    #df = df.dropna(subset=[\"mood\"], inplace=True) #drops the rows with empty mood\n",
    "\n",
    "    df.dropna(thresh=4, inplace=True)     # drop the rows with at least 4 LEGIT values \n",
    "                                                # GOOD TO START WITH CAUSE THERE IS NO POINT IN FILLING MOOD DATA \n",
    "                                                # WHEN THERE IS NO OTHER DATA IN THAT ROW\n",
    "                                                # MIGHT NEED TO CHANGE TO 3\n",
    "\n",
    "    # Most of this is 0 values: \n",
    "    # game\n",
    "    # office\n",
    "    # weather \n",
    "    # Probably more accurate to fill it in with 0\n",
    "\n",
    "    # Rest - median \n",
    "\n",
    "    # s=df.isnull().cumsum()\n",
    "    # t1=df[(s==1).shift(-1).fillna(False)].stack().reset_index(level=0,drop=True)\n",
    "    # t2=df.lookup(s.idxmax()+1,s.idxmax().index)\n",
    "    # df.fillna(t1/(2**s)+t2*(1-0.5**s)*2/2)\n",
    "\n",
    "    #df.mood.fillna(method='bfill',inplace=True)  #for back fill - THIS IS CURRENTLY DONE IN THE DATA - This is good for MOOD\n",
    "    #df.mood.fillna(method='ffill',inplace=True)  #for forward-fill - THIS IS CURRENTLY DONE IN THE DATA - This is good for MOOD\n",
    "\n",
    "    #df.fillna({'game':0, 'office':0, 'weather': 0}, inplace=True) #fill in the empty rows \"call\" and \"sms\" with 0\n",
    "\n",
    "\n",
    "    #df.fillna(df.mood.mean(),inplace=True)       # use mean of the data to fill missind data - this not not good for MOOD (too much difference)\n",
    "\n",
    "    #df.mood.fillna(df.mood.median(),inplace=True)     # use median to till in missing data - this not not good for MOOD\n",
    "\n",
    "    #df = df.fillna(0) #fill in the empty rows with 0\n",
    "    #df.fillna({'game':0, 'office':0, 'weather': 0}, inplace=True) #fill in the empty rows \"call\" and \"sms\" with 0\n",
    "\n",
    "\n",
    "    #print (df)\n",
    "    \n",
    "    \n",
    "    \n",
    "    # one_hot_encoding for days of the week (day0 = monday, and so on...):\n",
    "    df['time'] = pd.to_datetime(df['time'])\n",
    "    df['dayofweek'] = df['time'].dt.dayofweek\n",
    "    one_hot = pd.get_dummies(df['dayofweek'], prefix = 'day')\n",
    "    df = df.drop('dayofweek', axis=1)\n",
    "    df = df.join(one_hot)\n",
    "    \n",
    "    \n",
    "    df.to_csv(outpath, encoding='utf-8', index=False)\n"
   ]
  },
  {
   "cell_type": "code",
   "execution_count": null,
   "metadata": {},
   "outputs": [],
   "source": []
  }
 ],
 "metadata": {
  "kernelspec": {
   "display_name": "Python 3",
   "language": "python",
   "name": "python3"
  },
  "language_info": {
   "codemirror_mode": {
    "name": "ipython",
    "version": 3
   },
   "file_extension": ".py",
   "mimetype": "text/x-python",
   "name": "python",
   "nbconvert_exporter": "python",
   "pygments_lexer": "ipython3",
   "version": "3.5.2"
  }
 },
 "nbformat": 4,
 "nbformat_minor": 2
}
